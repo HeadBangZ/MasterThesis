{
 "cells": [
  {
   "cell_type": "code",
   "execution_count": 1,
   "metadata": {},
   "outputs": [
    {
     "name": "stdout",
     "output_type": "stream",
     "text": [
      "WARNING:tensorflow:From c:\\Users\\zippe\\AppData\\Local\\Programs\\Python\\Python311\\Lib\\site-packages\\keras\\src\\losses.py:2976: The name tf.losses.sparse_softmax_cross_entropy is deprecated. Please use tf.compat.v1.losses.sparse_softmax_cross_entropy instead.\n",
      "\n"
     ]
    }
   ],
   "source": [
    "# utility\n",
    "import sys\n",
    "sys.path.append(\"..\")\n",
    "\n",
    "import utility\n",
    "\n",
    "# imports\n",
    "import numpy as np\n",
    "import json\n",
    "\n",
    "# modelling\n",
    "from sklearn.ensemble import IsolationForest\n",
    "from sklearn.metrics import classification_report, precision_score, recall_score, f1_score, roc_auc_score\n",
    "from sklearn.model_selection import train_test_split\n",
    "from sklearn.decomposition import PCA\n",
    "from sklearn.utils import shuffle\n",
    "from sklearn.model_selection import ParameterGrid\n",
    "\n",
    "# Tree Visualization\n",
    "import matplotlib.pyplot as plt\n",
    "import seaborn as sns\n",
    "\n",
    "# misc\n",
    "import os"
   ]
  },
  {
   "cell_type": "code",
   "execution_count": 2,
   "metadata": {},
   "outputs": [],
   "source": [
    "train_data, test_data, train_labels, test_labels, test_true_labels = utility.preprocess_data(False)"
   ]
  },
  {
   "cell_type": "code",
   "execution_count": 3,
   "metadata": {},
   "outputs": [],
   "source": [
    "# Define parameter grid\n",
    "param_grid = {\n",
    "    'n_estimators': [64, 128, 256, 512],\n",
    "    'contamination': [0.0004],\n",
    "    'max_features': [10, 20, 50, 100, 0.1, 0.2, 0.5, 0.8, 5, 75, 200, 250, 500, 784],  # Use floats in the range (0.0, 1.0]\n",
    "    'max_samples': [0.1, 0.2, 0.3, 0.5, 1, 10, 25, 50, 100, 250, 500],\n",
    "    'random_state': [42],\n",
    "}\n"
   ]
  },
  {
   "cell_type": "code",
   "execution_count": 4,
   "metadata": {},
   "outputs": [
    {
     "ename": "ValueError",
     "evalue": "multi_class must be in ('ovo', 'ovr')",
     "output_type": "error",
     "traceback": [
      "\u001b[1;31m---------------------------------------------------------------------------\u001b[0m",
      "\u001b[1;31mValueError\u001b[0m                                Traceback (most recent call last)",
      "Cell \u001b[1;32mIn[4], line 13\u001b[0m\n\u001b[0;32m     10\u001b[0m     scores_anom \u001b[38;5;241m=\u001b[39m model\u001b[38;5;241m.\u001b[39mdecision_function(test_data)\n\u001b[0;32m     12\u001b[0m     \u001b[38;5;66;03m# Calculate AUC score using roc_auc_score\u001b[39;00m\n\u001b[1;32m---> 13\u001b[0m     auc_score \u001b[38;5;241m=\u001b[39m \u001b[43mroc_auc_score\u001b[49m\u001b[43m(\u001b[49m\u001b[43mtest_labels\u001b[49m\u001b[43m,\u001b[49m\u001b[43m \u001b[49m\u001b[43mscores_anom\u001b[49m\u001b[43m)\u001b[49m\n\u001b[0;32m     14\u001b[0m     results\u001b[38;5;241m.\u001b[39mappend({\u001b[38;5;124m'\u001b[39m\u001b[38;5;124mparams\u001b[39m\u001b[38;5;124m'\u001b[39m: params, \u001b[38;5;124m'\u001b[39m\u001b[38;5;124mauc_score\u001b[39m\u001b[38;5;124m'\u001b[39m: auc_score})\n\u001b[0;32m     17\u001b[0m \u001b[38;5;66;03m# Sort results from best to worst\u001b[39;00m\n",
      "File \u001b[1;32mc:\\Users\\zippe\\AppData\\Local\\Programs\\Python\\Python311\\Lib\\site-packages\\sklearn\\utils\\_param_validation.py:211\u001b[0m, in \u001b[0;36mvalidate_params.<locals>.decorator.<locals>.wrapper\u001b[1;34m(*args, **kwargs)\u001b[0m\n\u001b[0;32m    205\u001b[0m \u001b[38;5;28;01mtry\u001b[39;00m:\n\u001b[0;32m    206\u001b[0m     \u001b[38;5;28;01mwith\u001b[39;00m config_context(\n\u001b[0;32m    207\u001b[0m         skip_parameter_validation\u001b[38;5;241m=\u001b[39m(\n\u001b[0;32m    208\u001b[0m             prefer_skip_nested_validation \u001b[38;5;129;01mor\u001b[39;00m global_skip_validation\n\u001b[0;32m    209\u001b[0m         )\n\u001b[0;32m    210\u001b[0m     ):\n\u001b[1;32m--> 211\u001b[0m         \u001b[38;5;28;01mreturn\u001b[39;00m \u001b[43mfunc\u001b[49m\u001b[43m(\u001b[49m\u001b[38;5;241;43m*\u001b[39;49m\u001b[43margs\u001b[49m\u001b[43m,\u001b[49m\u001b[43m \u001b[49m\u001b[38;5;241;43m*\u001b[39;49m\u001b[38;5;241;43m*\u001b[39;49m\u001b[43mkwargs\u001b[49m\u001b[43m)\u001b[49m\n\u001b[0;32m    212\u001b[0m \u001b[38;5;28;01mexcept\u001b[39;00m InvalidParameterError \u001b[38;5;28;01mas\u001b[39;00m e:\n\u001b[0;32m    213\u001b[0m     \u001b[38;5;66;03m# When the function is just a wrapper around an estimator, we allow\u001b[39;00m\n\u001b[0;32m    214\u001b[0m     \u001b[38;5;66;03m# the function to delegate validation to the estimator, but we replace\u001b[39;00m\n\u001b[0;32m    215\u001b[0m     \u001b[38;5;66;03m# the name of the estimator by the name of the function in the error\u001b[39;00m\n\u001b[0;32m    216\u001b[0m     \u001b[38;5;66;03m# message to avoid confusion.\u001b[39;00m\n\u001b[0;32m    217\u001b[0m     msg \u001b[38;5;241m=\u001b[39m re\u001b[38;5;241m.\u001b[39msub(\n\u001b[0;32m    218\u001b[0m         \u001b[38;5;124mr\u001b[39m\u001b[38;5;124m\"\u001b[39m\u001b[38;5;124mparameter of \u001b[39m\u001b[38;5;124m\\\u001b[39m\u001b[38;5;124mw+ must be\u001b[39m\u001b[38;5;124m\"\u001b[39m,\n\u001b[0;32m    219\u001b[0m         \u001b[38;5;124mf\u001b[39m\u001b[38;5;124m\"\u001b[39m\u001b[38;5;124mparameter of \u001b[39m\u001b[38;5;132;01m{\u001b[39;00mfunc\u001b[38;5;241m.\u001b[39m\u001b[38;5;18m__qualname__\u001b[39m\u001b[38;5;132;01m}\u001b[39;00m\u001b[38;5;124m must be\u001b[39m\u001b[38;5;124m\"\u001b[39m,\n\u001b[0;32m    220\u001b[0m         \u001b[38;5;28mstr\u001b[39m(e),\n\u001b[0;32m    221\u001b[0m     )\n",
      "File \u001b[1;32mc:\\Users\\zippe\\AppData\\Local\\Programs\\Python\\Python311\\Lib\\site-packages\\sklearn\\metrics\\_ranking.py:620\u001b[0m, in \u001b[0;36mroc_auc_score\u001b[1;34m(y_true, y_score, average, sample_weight, max_fpr, multi_class, labels)\u001b[0m\n\u001b[0;32m    613\u001b[0m         \u001b[38;5;28;01mraise\u001b[39;00m \u001b[38;5;167;01mValueError\u001b[39;00m(\n\u001b[0;32m    614\u001b[0m             \u001b[38;5;124m\"\u001b[39m\u001b[38;5;124mPartial AUC computation not available in \u001b[39m\u001b[38;5;124m\"\u001b[39m\n\u001b[0;32m    615\u001b[0m             \u001b[38;5;124m\"\u001b[39m\u001b[38;5;124mmulticlass setting, \u001b[39m\u001b[38;5;124m'\u001b[39m\u001b[38;5;124mmax_fpr\u001b[39m\u001b[38;5;124m'\u001b[39m\u001b[38;5;124m must be\u001b[39m\u001b[38;5;124m\"\u001b[39m\n\u001b[0;32m    616\u001b[0m             \u001b[38;5;124m\"\u001b[39m\u001b[38;5;124m set to `None`, received `max_fpr=\u001b[39m\u001b[38;5;132;01m{0}\u001b[39;00m\u001b[38;5;124m` \u001b[39m\u001b[38;5;124m\"\u001b[39m\n\u001b[0;32m    617\u001b[0m             \u001b[38;5;124m\"\u001b[39m\u001b[38;5;124minstead\u001b[39m\u001b[38;5;124m\"\u001b[39m\u001b[38;5;241m.\u001b[39mformat(max_fpr)\n\u001b[0;32m    618\u001b[0m         )\n\u001b[0;32m    619\u001b[0m     \u001b[38;5;28;01mif\u001b[39;00m multi_class \u001b[38;5;241m==\u001b[39m \u001b[38;5;124m\"\u001b[39m\u001b[38;5;124mraise\u001b[39m\u001b[38;5;124m\"\u001b[39m:\n\u001b[1;32m--> 620\u001b[0m         \u001b[38;5;28;01mraise\u001b[39;00m \u001b[38;5;167;01mValueError\u001b[39;00m(\u001b[38;5;124m\"\u001b[39m\u001b[38;5;124mmulti_class must be in (\u001b[39m\u001b[38;5;124m'\u001b[39m\u001b[38;5;124movo\u001b[39m\u001b[38;5;124m'\u001b[39m\u001b[38;5;124m, \u001b[39m\u001b[38;5;124m'\u001b[39m\u001b[38;5;124movr\u001b[39m\u001b[38;5;124m'\u001b[39m\u001b[38;5;124m)\u001b[39m\u001b[38;5;124m\"\u001b[39m)\n\u001b[0;32m    621\u001b[0m     \u001b[38;5;28;01mreturn\u001b[39;00m _multiclass_roc_auc_score(\n\u001b[0;32m    622\u001b[0m         y_true, y_score, labels, multi_class, average, sample_weight\n\u001b[0;32m    623\u001b[0m     )\n\u001b[0;32m    624\u001b[0m \u001b[38;5;28;01melif\u001b[39;00m y_type \u001b[38;5;241m==\u001b[39m \u001b[38;5;124m\"\u001b[39m\u001b[38;5;124mbinary\u001b[39m\u001b[38;5;124m\"\u001b[39m:\n",
      "\u001b[1;31mValueError\u001b[0m: multi_class must be in ('ovo', 'ovr')"
     ]
    }
   ],
   "source": [
    "# Store results in a list\n",
    "results = []\n",
    "\n",
    "for params in ParameterGrid(param_grid):\n",
    "    model = IsolationForest(**params)\n",
    "    train_data_generator = utility.data_generator(train_data)\n",
    "\n",
    "    for batch in train_data_generator:\n",
    "        model.fit(batch)\n",
    "    scores_anom = model.decision_function(test_data)\n",
    "    \n",
    "    # Calculate AUC score using roc_auc_score\n",
    "    auc_score = roc_auc_score(test_true_labels, scores_anom)\n",
    "    results.append({'params': params, 'auc_score': auc_score})\n",
    "    \n",
    "\n",
    "# Sort results from best to worst\n",
    "results = sorted(results, key=lambda x: x['auc_score'], reverse=True)\n",
    "\n",
    "# Print results\n",
    "for i, result in enumerate(results, start=1):\n",
    "    print(f\"Rank {i}: AUC Score {result['auc_score']:.4f} - Parameters: {result['params']}\")"
   ]
  },
  {
   "cell_type": "code",
   "execution_count": null,
   "metadata": {},
   "outputs": [],
   "source": [
    "# Rank 1: AUC Score 0.2955 - Parameters: {'contamination': 0.1, 'max_features': 250, 'n_estimators': 64, 'random_state': 42}\n",
    "# Rank 2: AUC Score 0.2937 - Parameters: {'contamination': 0.1, 'max_features': 784, 'n_estimators': 64, 'random_state': 42}\n",
    "# Rank 3: AUC Score 0.2832 - Parameters: {'contamination': 0.1, 'max_features': 250, 'n_estimators': 128, 'random_state': 42}\n",
    "# Rank 4: AUC Score 0.2804 - Parameters: {'contamination': 0.1, 'max_features': 50, 'n_estimators': 64, 'random_state': 42}\n",
    "# Rank 5: AUC Score 0.2742 - Parameters: {'contamination': 0.1, 'max_features': 100, 'n_estimators': 128, 'random_state': 42}\n",
    "# Rank 6: AUC Score 0.2726 - Parameters: {'contamination': 0.1, 'max_features': 250, 'n_estimators': 512, 'random_state': 42}\n",
    "# Rank 7: AUC Score 0.2725 - Parameters: {'contamination': 0.1, 'max_features': 784, 'n_estimators': 512, 'random_state': 42}\n",
    "# Rank 8: AUC Score 0.2719 - Parameters: {'contamination': 0.1, 'max_features': 250, 'n_estimators': 256, 'random_state': 42}\n",
    "# Rank 9: AUC Score 0.2709 - Parameters: {'contamination': 0.1, 'max_features': 50, 'n_estimators': 128, 'random_state': 42}\n",
    "# Rank 10: AUC Score 0.2700 - Parameters: {'contamination': 0.1, 'max_features': 0.5, 'n_estimators': 64, 'random_state': 42}\n",
    "# Rank 11: AUC Score 0.2690 - Parameters: {'contamination': 0.1, 'max_features': 75, 'n_estimators': 64, 'random_state': 42}\n",
    "# Rank 12: AUC Score 0.2686 - Parameters: {'contamination': 0.1, 'max_features': 784, 'n_estimators': 128, 'random_state': 42}\n",
    "# Rank 13: AUC Score 0.2667 - Parameters: {'contamination': 0.1, 'max_features': 784, 'n_estimators': 256, 'random_state': 42}\n",
    "# Rank 14: AUC Score 0.2659 - Parameters: {'contamination': 0.1, 'max_features': 100, 'n_estimators': 64, 'random_state': 42}\n",
    "# Rank 15: AUC Score 0.2655 - Parameters: {'contamination': 0.1, 'max_features': 100, 'n_estimators': 256, 'random_state': 42}\n",
    "# Rank 16: AUC Score 0.2653 - Parameters: {'contamination': 0.1, 'max_features': 500, 'n_estimators': 128, 'random_state': 42}\n",
    "# Rank 17: AUC Score 0.2651 - Parameters: {'contamination': 0.1, 'max_features': 200, 'n_estimators': 256, 'random_state': 42}\n",
    "# Rank 18: AUC Score 0.2637 - Parameters: {'contamination': 0.1, 'max_features': 0.1, 'n_estimators': 64, 'random_state': 42}\n",
    "# Rank 19: AUC Score 0.2634 - Parameters: {'contamination': 0.1, 'max_features': 200, 'n_estimators': 512, 'random_state': 42}\n",
    "# Rank 20: AUC Score 0.2634 - Parameters: {'contamination': 0.1, 'max_features': 200, 'n_estimators': 128, 'random_state': 42}\n",
    "# Rank 21: AUC Score 0.2618 - Parameters: {'contamination': 0.1, 'max_features': 0.8, 'n_estimators': 64, 'random_state': 42}\n",
    "# Rank 22: AUC Score 0.2612 - Parameters: {'contamination': 0.1, 'max_features': 0.5, 'n_estimators': 128, 'random_state': 42}\n",
    "# Rank 23: AUC Score 0.2591 - Parameters: {'contamination': 0.1, 'max_features': 500, 'n_estimators': 256, 'random_state': 42}\n",
    "# Rank 24: AUC Score 0.2591 - Parameters: {'contamination': 0.1, 'max_features': 0.1, 'n_estimators': 512, 'random_state': 42}\n",
    "# Rank 25: AUC Score 0.2589 - Parameters: {'contamination': 0.1, 'max_features': 100, 'n_estimators': 512, 'random_state': 42}\n",
    "# Rank 26: AUC Score 0.2587 - Parameters: {'contamination': 0.1, 'max_features': 500, 'n_estimators': 512, 'random_state': 42}\n",
    "# Rank 27: AUC Score 0.2583 - Parameters: {'contamination': 0.1, 'max_features': 0.5, 'n_estimators': 512, 'random_state': 42}\n",
    "# Rank 28: AUC Score 0.2577 - Parameters: {'contamination': 0.1, 'max_features': 0.8, 'n_estimators': 256, 'random_state': 42}\n",
    "# Rank 29: AUC Score 0.2577 - Parameters: {'contamination': 0.1, 'max_features': 200, 'n_estimators': 64, 'random_state': 42}\n",
    "# Rank 30: AUC Score 0.2576 - Parameters: {'contamination': 0.1, 'max_features': 0.1, 'n_estimators': 128, 'random_state': 42}\n",
    "# Rank 31: AUC Score 0.2571 - Parameters: {'contamination': 0.1, 'max_features': 0.5, 'n_estimators': 256, 'random_state': 42}\n",
    "# Rank 32: AUC Score 0.2569 - Parameters: {'contamination': 0.1, 'max_features': 75, 'n_estimators': 128, 'random_state': 42}\n",
    "# Rank 33: AUC Score 0.2561 - Parameters: {'contamination': 0.1, 'max_features': 0.1, 'n_estimators': 256, 'random_state': 42}\n",
    "# Rank 34: AUC Score 0.2553 - Parameters: {'contamination': 0.1, 'max_features': 75, 'n_estimators': 512, 'random_state': 42}\n",
    "# Rank 35: AUC Score 0.2553 - Parameters: {'contamination': 0.1, 'max_features': 20, 'n_estimators': 64, 'random_state': 42}\n",
    "# Rank 36: AUC Score 0.2524 - Parameters: {'contamination': 0.1, 'max_features': 0.8, 'n_estimators': 128, 'random_state': 42}\n",
    "# Rank 37: AUC Score 0.2521 - Parameters: {'contamination': 0.1, 'max_features': 0.2, 'n_estimators': 256, 'random_state': 42}\n",
    "# Rank 38: AUC Score 0.2513 - Parameters: {'contamination': 0.1, 'max_features': 75, 'n_estimators': 256, 'random_state': 42}\n",
    "# Rank 39: AUC Score 0.2512 - Parameters: {'contamination': 0.1, 'max_features': 50, 'n_estimators': 512, 'random_state': 42}\n",
    "# Rank 40: AUC Score 0.2508 - Parameters: {'contamination': 0.1, 'max_features': 50, 'n_estimators': 256, 'random_state': 42}\n",
    "# Rank 41: AUC Score 0.2501 - Parameters: {'contamination': 0.1, 'max_features': 0.2, 'n_estimators': 512, 'random_state': 42}\n",
    "# Rank 42: AUC Score 0.2482 - Parameters: {'contamination': 0.1, 'max_features': 20, 'n_estimators': 128, 'random_state': 42}\n",
    "# Rank 43: AUC Score 0.2475 - Parameters: {'contamination': 0.1, 'max_features': 0.8, 'n_estimators': 512, 'random_state': 42}\n",
    "# Rank 44: AUC Score 0.2450 - Parameters: {'contamination': 0.1, 'max_features': 500, 'n_estimators': 64, 'random_state': 42}\n",
    "# Rank 45: AUC Score 0.2433 - Parameters: {'contamination': 0.1, 'max_features': 0.2, 'n_estimators': 64, 'random_state': 42}\n",
    "# Rank 46: AUC Score 0.2420 - Parameters: {'contamination': 0.1, 'max_features': 20, 'n_estimators': 512, 'random_state': 42}\n",
    "# Rank 47: AUC Score 0.2419 - Parameters: {'contamination': 0.1, 'max_features': 10, 'n_estimators': 64, 'random_state': 42}\n",
    "# Rank 48: AUC Score 0.2391 - Parameters: {'contamination': 0.1, 'max_features': 20, 'n_estimators': 256, 'random_state': 42}\n",
    "# Rank 49: AUC Score 0.2385 - Parameters: {'contamination': 0.1, 'max_features': 0.2, 'n_estimators': 128, 'random_state': 42}\n",
    "# Rank 50: AUC Score 0.2257 - Parameters: {'contamination': 0.1, 'max_features': 10, 'n_estimators': 512, 'random_state': 42}\n",
    "# Rank 51: AUC Score 0.2229 - Parameters: {'contamination': 0.1, 'max_features': 5, 'n_estimators': 64, 'random_state': 42}\n",
    "# Rank 52: AUC Score 0.2229 - Parameters: {'contamination': 0.1, 'max_features': 10, 'n_estimators': 128, 'random_state': 42}\n",
    "# Rank 53: AUC Score 0.2201 - Parameters: {'contamination': 0.1, 'max_features': 5, 'n_estimators': 256, 'random_state': 42}\n",
    "# Rank 54: AUC Score 0.2135 - Parameters: {'contamination': 0.1, 'max_features': 10, 'n_estimators': 256, 'random_state': 42}\n",
    "# Rank 55: AUC Score 0.2085 - Parameters: {'contamination': 0.1, 'max_features': 5, 'n_estimators': 512, 'random_state': 42}\n",
    "# Rank 56: AUC Score 0.1998 - Parameters: {'contamination': 0.1, 'max_features': 5, 'n_estimators': 128, 'random_state': 42}"
   ]
  }
 ],
 "metadata": {
  "kernelspec": {
   "display_name": "Python 3",
   "language": "python",
   "name": "python3"
  },
  "language_info": {
   "codemirror_mode": {
    "name": "ipython",
    "version": 3
   },
   "file_extension": ".py",
   "mimetype": "text/x-python",
   "name": "python",
   "nbconvert_exporter": "python",
   "pygments_lexer": "ipython3",
   "version": "3.11.4"
  }
 },
 "nbformat": 4,
 "nbformat_minor": 2
}
