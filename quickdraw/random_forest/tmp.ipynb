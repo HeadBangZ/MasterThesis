{
 "cells": [
  {
   "cell_type": "code",
   "execution_count": 1,
   "metadata": {},
   "outputs": [],
   "source": [
    "# imports\n",
    "import numpy as np\n",
    "import umap\n",
    "\n",
    "# modelling\n",
    "from sklearn.ensemble import IsolationForest\n",
    "from sklearn.metrics import classification_report, precision_score, recall_score, f1_score, precision_recall_curve\n",
    "from sklearn.model_selection import train_test_split\n",
    "from sklearn.utils import shuffle\n",
    "\n",
    "# Tree Visualization\n",
    "import matplotlib.pyplot as plt\n",
    "import seaborn as sns\n",
    "\n",
    "# misc\n",
    "import os"
   ]
  },
  {
   "cell_type": "code",
   "execution_count": 2,
   "metadata": {},
   "outputs": [],
   "source": [
    "# Function to load and preprocess Quickdraw data\n",
    "def load_quickdraw_data(dir, category_name, n_samples=10000):\n",
    "    file = f'full_numpy_bitmap_{category_name}.npy'\n",
    "    data = np.load(os.path.join(dir, file))\n",
    "    if n_samples == -1:\n",
    "        return data\n",
    "    else:\n",
    "        return data[:n_samples]"
   ]
  },
  {
   "cell_type": "code",
   "execution_count": 3,
   "metadata": {},
   "outputs": [],
   "source": [
    "# Data directory\n",
    "dir = '../data/'\n",
    "\n",
    "# Load and preprocess data\n",
    "all_data = []\n",
    "labels = []"
   ]
  },
  {
   "cell_type": "code",
   "execution_count": 4,
   "metadata": {},
   "outputs": [],
   "source": [
    "files = os.listdir(dir)\n",
    "categories = [file.split('_')[-1].split('.')[0] for file in files]"
   ]
  },
  {
   "cell_type": "code",
   "execution_count": 5,
   "metadata": {},
   "outputs": [],
   "source": [
    "for category_name in categories:\n",
    "    category_data = load_quickdraw_data(dir, category_name)\n",
    "    all_data.extend(category_data)\n",
    "    labels.extend([category_name] * len(category_data))"
   ]
  },
  {
   "cell_type": "code",
   "execution_count": 6,
   "metadata": {},
   "outputs": [],
   "source": [
    "# Data generator function\n",
    "def data_generator(data, batch_size=512):\n",
    "    n_samples = len(data)\n",
    "    for i in range(0, n_samples, batch_size):\n",
    "        batch = data[i:i + batch_size]\n",
    "        yield batch"
   ]
  },
  {
   "cell_type": "code",
   "execution_count": 7,
   "metadata": {},
   "outputs": [],
   "source": [
    "# Split the data into training and test sets\n",
    "x_train, x_test, y_train, y_test = train_test_split(all_data, labels, test_size=0.2, random_state=42)"
   ]
  },
  {
   "cell_type": "code",
   "execution_count": 8,
   "metadata": {},
   "outputs": [
    {
     "name": "stdout",
     "output_type": "stream",
     "text": [
      "3450000\n"
     ]
    }
   ],
   "source": [
    "print(len(all_data))"
   ]
  },
  {
   "cell_type": "code",
   "execution_count": 9,
   "metadata": {},
   "outputs": [],
   "source": [
    "# Normalize data\n",
    "x_train = np.array(x_train).astype(np.float32) / 255\n",
    "x_test = np.array(x_test).astype(np.float32) / 255"
   ]
  },
  {
   "cell_type": "code",
   "execution_count": 10,
   "metadata": {},
   "outputs": [],
   "source": [
    "# Add Outliers\n",
    "num_outliers = 500\n",
    "\n",
    "# Generate random outliers\n",
    "outliers = np.random.rand(num_outliers, 784)  # Assuming your data has 784 features"
   ]
  },
  {
   "cell_type": "code",
   "execution_count": 11,
   "metadata": {},
   "outputs": [],
   "source": [
    "# Append outliers to your training data\n",
    "x_train_with_outliers = np.vstack((x_train, outliers))\n",
    "\n",
    "# Create labels for the outliers (e.g., label them as \"outlier\" or use a different category)\n",
    "y_train_with_outliers = y_train + ['outlier'] * num_outliers"
   ]
  },
  {
   "cell_type": "code",
   "execution_count": 12,
   "metadata": {},
   "outputs": [],
   "source": [
    "# Dimensionality reduction using UMAP\n",
    "n_components = 10  # You can adjust this number as needed\n",
    "umap_model = umap.UMAP(n_components=n_components)"
   ]
  },
  {
   "cell_type": "code",
   "execution_count": 13,
   "metadata": {},
   "outputs": [
    {
     "ename": "MemoryError",
     "evalue": "Unable to allocate 15.4 MiB for an array with shape (404992, 10) and data type float32",
     "output_type": "error",
     "traceback": [
      "\u001b[1;31m---------------------------------------------------------------------------\u001b[0m",
      "\u001b[1;31mMemoryError\u001b[0m                               Traceback (most recent call last)",
      "\u001b[1;32mc:\\Users\\thh\\OneDrive - Milestone Systems\\Documents\\Master Thesis\\MasterThesis\\quickdraw\\random_forest\\hzm.ipynb Cell 13\u001b[0m line \u001b[0;36m8\n\u001b[0;32m      <a href='vscode-notebook-cell:/c%3A/Users/thh/OneDrive%20-%20Milestone%20Systems/Documents/Master%20Thesis/MasterThesis/quickdraw/random_forest/hzm.ipynb#X15sZmlsZQ%3D%3D?line=5'>6</a>\u001b[0m     umap_results_train \u001b[39m=\u001b[39m batch_umap\n\u001b[0;32m      <a href='vscode-notebook-cell:/c%3A/Users/thh/OneDrive%20-%20Milestone%20Systems/Documents/Master%20Thesis/MasterThesis/quickdraw/random_forest/hzm.ipynb#X15sZmlsZQ%3D%3D?line=6'>7</a>\u001b[0m \u001b[39melse\u001b[39;00m:\n\u001b[1;32m----> <a href='vscode-notebook-cell:/c%3A/Users/thh/OneDrive%20-%20Milestone%20Systems/Documents/Master%20Thesis/MasterThesis/quickdraw/random_forest/hzm.ipynb#X15sZmlsZQ%3D%3D?line=7'>8</a>\u001b[0m     umap_results_train \u001b[39m=\u001b[39m np\u001b[39m.\u001b[39;49mvstack((umap_results_train, batch_umap))\n",
      "File \u001b[1;32m<__array_function__ internals>:200\u001b[0m, in \u001b[0;36mvstack\u001b[1;34m(*args, **kwargs)\u001b[0m\n",
      "File \u001b[1;32mc:\\Program Files\\Python311\\Lib\\site-packages\\numpy\\core\\shape_base.py:296\u001b[0m, in \u001b[0;36mvstack\u001b[1;34m(tup, dtype, casting)\u001b[0m\n\u001b[0;32m    294\u001b[0m \u001b[39mif\u001b[39;00m \u001b[39mnot\u001b[39;00m \u001b[39misinstance\u001b[39m(arrs, \u001b[39mlist\u001b[39m):\n\u001b[0;32m    295\u001b[0m     arrs \u001b[39m=\u001b[39m [arrs]\n\u001b[1;32m--> 296\u001b[0m \u001b[39mreturn\u001b[39;00m _nx\u001b[39m.\u001b[39;49mconcatenate(arrs, \u001b[39m0\u001b[39;49m, dtype\u001b[39m=\u001b[39;49mdtype, casting\u001b[39m=\u001b[39;49mcasting)\n",
      "File \u001b[1;32m<__array_function__ internals>:200\u001b[0m, in \u001b[0;36mconcatenate\u001b[1;34m(*args, **kwargs)\u001b[0m\n",
      "\u001b[1;31mMemoryError\u001b[0m: Unable to allocate 15.4 MiB for an array with shape (404992, 10) and data type float32"
     ]
    }
   ],
   "source": [
    "umap_results_train = None\n",
    "# Perform UMAP on x_train_with_outliers\n",
    "for batch in data_generator(x_train_with_outliers):\n",
    "    batch_umap = umap_model.fit_transform(batch)\n",
    "    if umap_results_train is None:\n",
    "        umap_results_train = batch_umap\n",
    "    else:\n",
    "        umap_results_train = np.vstack((umap_results_train, batch_umap))"
   ]
  },
  {
   "cell_type": "code",
   "execution_count": null,
   "metadata": {},
   "outputs": [],
   "source": [
    "# Shuffle the dataset after adding synthetic outliers\n",
    "umap_results_train, y_train_with_outliers = shuffle(umap_results_train, y_train_with_outliers, random_state=42)"
   ]
  },
  {
   "cell_type": "code",
   "execution_count": null,
   "metadata": {},
   "outputs": [],
   "source": [
    "# Train Isolation Forest with outliers\n",
    "model = IsolationForest(contamination=0.02, random_state=42)\n",
    "\n",
    "train_data_generator = data_generator(umap_results_train)\n",
    "\n",
    "for batch in train_data_generator:\n",
    "    model.fit(batch)"
   ]
  },
  {
   "cell_type": "code",
   "execution_count": null,
   "metadata": {},
   "outputs": [],
   "source": [
    "# Predict labels for x_train_with_outliers to check if outliers are caught\n",
    "y_pred_train = np.array([])  # Initialize an empty array to store predictions\n",
    "\n",
    "for batch in data_generator(umap_results_train):\n",
    "    batch_pred = model.predict(batch)\n",
    "    y_pred_train = np.concatenate([y_pred_train, batch_pred])"
   ]
  },
  {
   "cell_type": "code",
   "execution_count": null,
   "metadata": {},
   "outputs": [],
   "source": [
    "# Map the predictions: 1 for outliers, 0 for inliers\n",
    "y_pred_train[y_pred_train == 1] = 0  # Inliers\n",
    "y_pred_train[y_pred_train == -1] = 1  # Outliers\n",
    "\n",
    "y_train_numeric = [1 if label == 'outlier' else 0 for label in y_train_with_outliers]"
   ]
  },
  {
   "cell_type": "code",
   "execution_count": null,
   "metadata": {},
   "outputs": [
    {
     "ename": "NameError",
     "evalue": "name 'precision_score' is not defined",
     "output_type": "error",
     "traceback": [
      "\u001b[1;31m---------------------------------------------------------------------------\u001b[0m",
      "\u001b[1;31mNameError\u001b[0m                                 Traceback (most recent call last)",
      "\u001b[1;32mc:\\Users\\thh\\OneDrive - Milestone Systems\\Documents\\Master Thesis\\MasterThesis\\quickdraw\\random_forest\\hzm.ipynb Cell 18\u001b[0m line \u001b[0;36m2\n\u001b[0;32m      <a href='vscode-notebook-cell:/c%3A/Users/thh/OneDrive%20-%20Milestone%20Systems/Documents/Master%20Thesis/MasterThesis/quickdraw/random_forest/hzm.ipynb#X61sZmlsZQ%3D%3D?line=0'>1</a>\u001b[0m \u001b[39m# Evaluate the model's performance on training data\u001b[39;00m\n\u001b[1;32m----> <a href='vscode-notebook-cell:/c%3A/Users/thh/OneDrive%20-%20Milestone%20Systems/Documents/Master%20Thesis/MasterThesis/quickdraw/random_forest/hzm.ipynb#X61sZmlsZQ%3D%3D?line=1'>2</a>\u001b[0m precision_train \u001b[39m=\u001b[39m precision_score(y_train_numeric, y_pred_train)\n\u001b[0;32m      <a href='vscode-notebook-cell:/c%3A/Users/thh/OneDrive%20-%20Milestone%20Systems/Documents/Master%20Thesis/MasterThesis/quickdraw/random_forest/hzm.ipynb#X61sZmlsZQ%3D%3D?line=2'>3</a>\u001b[0m recall_train \u001b[39m=\u001b[39m recall_score(y_train_numeric, y_pred_train)\n\u001b[0;32m      <a href='vscode-notebook-cell:/c%3A/Users/thh/OneDrive%20-%20Milestone%20Systems/Documents/Master%20Thesis/MasterThesis/quickdraw/random_forest/hzm.ipynb#X61sZmlsZQ%3D%3D?line=3'>4</a>\u001b[0m f1_train \u001b[39m=\u001b[39m f1_score(y_train_numeric, y_pred_train)\n",
      "\u001b[1;31mNameError\u001b[0m: name 'precision_score' is not defined"
     ]
    }
   ],
   "source": [
    "# Evaluate the model's performance on training data\n",
    "precision_train = precision_score(y_train_numeric, y_pred_train)\n",
    "recall_train = recall_score(y_train_numeric, y_pred_train)\n",
    "f1_train = f1_score(y_train_numeric, y_pred_train)\n",
    "\n",
    "print(\"Training Data Classification Report:\")\n",
    "print(classification_report(y_train_numeric, y_pred_train, target_names=[\"inlier\", \"outlier\"]))\n",
    "print(\"Training Data Precision:\", precision_train)\n",
    "print(\"Training Data Recall:\", recall_train)\n",
    "print(\"Training Data F1 Score:\", f1_train)"
   ]
  },
  {
   "cell_type": "code",
   "execution_count": null,
   "metadata": {},
   "outputs": [],
   "source": [
    "# Plot the data to visualize outliers and inliers using UMAP-transformed data\n",
    "plt.figure(figsize=(10, 6))\n",
    "colors = ['blue' if label == 'inlier' else 'red' for label in y_train_with_outliers]\n",
    "plt.scatter(umap_results_train[:, 0], umap_results_train[:, 1], c=colors)\n",
    "plt.title(\"Outliers and Inliers (UMAP)\")\n",
    "plt.xlabel(\"UMAP Component 1\")\n",
    "plt.ylabel(\"UMAP Component 2\")\n",
    "plt.show()"
   ]
  },
  {
   "cell_type": "code",
   "execution_count": null,
   "metadata": {},
   "outputs": [],
   "source": [
    "# Precision-Recall Curve\n",
    "precision, recall, _ = precision_recall_curve(y_train_numeric, model.decision_function(umap_results_train))\n",
    "plt.figure(figsize=(10, 6))\n",
    "plt.plot(recall, precision, marker='.', color='blue')\n",
    "plt.title('Precision-Recall Curve')\n",
    "plt.xlabel('Recall')\n",
    "plt.ylabel('Precision')\n",
    "plt.show()"
   ]
  },
  {
   "cell_type": "code",
   "execution_count": null,
   "metadata": {},
   "outputs": [],
   "source": [
    "# Predict outliers on the test set\n",
    "test_data_generator = data_generator(umap_model.transform(x_test))"
   ]
  },
  {
   "cell_type": "code",
   "execution_count": null,
   "metadata": {},
   "outputs": [],
   "source": [
    "# Predict outliers on the test set\n",
    "y_pred = np.array([])\n",
    "for batch in test_data_generator:\n",
    "    y_pred_batch = model.predict(batch)\n",
    "    y_pred = np.concatenate([y_pred, y_pred_batch])"
   ]
  },
  {
   "cell_type": "code",
   "execution_count": null,
   "metadata": {},
   "outputs": [],
   "source": [
    "# Map the predictions: 1 for outliers, 0 for inliers\n",
    "y_pred[y_pred == 1] = 0  # Inliers\n",
    "y_pred[y_pred == -1] = 1  # Outliers\n",
    "\n",
    "y_test_numeric = [1 if label == 'outlier' else 0 for label in y_test]"
   ]
  },
  {
   "cell_type": "code",
   "execution_count": null,
   "metadata": {},
   "outputs": [],
   "source": [
    "precision = precision_score(y_test_numeric, y_pred)\n",
    "recall = recall_score(y_test_numeric, y_pred)\n",
    "f1 = f1_score(y_test_numeric, y_pred)\n",
    "\n",
    "print(\"Classification Report:\")\n",
    "print(classification_report(y_test_numeric, y_pred))\n",
    "print(\"Precision:\", precision)\n",
    "print(\"Recall:\", recall)\n",
    "print(\"F1 Score:\", f1)"
   ]
  },
  {
   "cell_type": "code",
   "execution_count": null,
   "metadata": {},
   "outputs": [],
   "source": [
    "# Plot the data to visualize outliers and inliers in x_test using UMAP-transformed data\n",
    "plt.figure(figsize=(10, 6))\n",
    "colors = ['blue' if label == 'inlier' else 'red' for label in y_test]\n",
    "plt.scatter(umap_model.transform(x_test)[:, 0], umap_model.transform(x_test)[:, 1], c=colors)\n",
    "plt.title(\"Outliers and Inliers in x_test (UMAP)\")\n",
    "plt.xlabel(\"UMAP Component 1\")\n",
    "plt.ylabel(\"UMAP Component 2\")\n",
    "plt.show()"
   ]
  }
 ],
 "metadata": {
  "kernelspec": {
   "display_name": "Python 3",
   "language": "python",
   "name": "python3"
  },
  "language_info": {
   "codemirror_mode": {
    "name": "ipython",
    "version": 3
   },
   "file_extension": ".py",
   "mimetype": "text/x-python",
   "name": "python",
   "nbconvert_exporter": "python",
   "pygments_lexer": "ipython3",
   "version": "3.11.4"
  }
 },
 "nbformat": 4,
 "nbformat_minor": 2
}
