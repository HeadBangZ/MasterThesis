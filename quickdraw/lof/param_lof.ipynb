{
 "cells": [
  {
   "cell_type": "code",
   "execution_count": 2,
   "metadata": {},
   "outputs": [
    {
     "name": "stdout",
     "output_type": "stream",
     "text": [
      "WARNING:tensorflow:From c:\\Users\\zippe\\AppData\\Local\\Programs\\Python\\Python311\\Lib\\site-packages\\keras\\src\\losses.py:2976: The name tf.losses.sparse_softmax_cross_entropy is deprecated. Please use tf.compat.v1.losses.sparse_softmax_cross_entropy instead.\n",
      "\n"
     ]
    }
   ],
   "source": [
    "# utility\n",
    "import sys\n",
    "sys.path.append(\"..\")\n",
    "\n",
    "import utility\n",
    "\n",
    "# imports\n",
    "import numpy as np\n",
    "import json\n",
    "\n",
    "# modelling\n",
    "from sklearn.neighbors import LocalOutlierFactor\n",
    "from sklearn.metrics import classification_report, precision_score, recall_score, f1_score, roc_auc_score\n",
    "from sklearn.model_selection import train_test_split\n",
    "from sklearn.decomposition import PCA\n",
    "from sklearn.utils import shuffle\n",
    "from sklearn.model_selection import ParameterGrid\n",
    "\n",
    "# Tree Visualization\n",
    "import matplotlib.pyplot as plt\n",
    "import seaborn as sns\n",
    "\n",
    "# misc\n",
    "import os"
   ]
  },
  {
   "cell_type": "code",
   "execution_count": 3,
   "metadata": {},
   "outputs": [
    {
     "name": "stdout",
     "output_type": "stream",
     "text": [
      "345\n",
      "Splitting data\n",
      "normalize data\n",
      "Reshape data\n",
      "Convert data\n",
      "Add anomalies\n"
     ]
    }
   ],
   "source": [
    "train_data, test_data, train_labels, test_labels, test_true_labels, anom_data = utility.preprocess_data(False, n_anomalies=345, n_samples=1000)"
   ]
  },
  {
   "cell_type": "code",
   "execution_count": 4,
   "metadata": {},
   "outputs": [],
   "source": [
    "# Define parameter grid\n",
    "param_grid = {\n",
    "    'n_neighbors': [5, 10, 15],\n",
    "    'algorithm': ['auto', 'brute', 'ball_tree'],\n",
    "    'leaf_size': [10, 30, 50],\n",
    "    'metric': ['euclidean', 'manhattan', 'minkowski'],\n",
    "    'contamination': [0.0004]\n",
    "}"
   ]
  },
  {
   "cell_type": "code",
   "execution_count": 5,
   "metadata": {},
   "outputs": [
    {
     "ename": "KeyboardInterrupt",
     "evalue": "",
     "output_type": "error",
     "traceback": [
      "\u001b[1;31m---------------------------------------------------------------------------\u001b[0m",
      "\u001b[1;31mKeyboardInterrupt\u001b[0m                         Traceback (most recent call last)",
      "Cell \u001b[1;32mIn[5], line 10\u001b[0m\n\u001b[0;32m      7\u001b[0m train_data_generator \u001b[38;5;241m=\u001b[39m utility\u001b[38;5;241m.\u001b[39mdata_generator(train_data)\n\u001b[0;32m      9\u001b[0m \u001b[38;5;28;01mfor\u001b[39;00m batch \u001b[38;5;129;01min\u001b[39;00m train_data_generator:\n\u001b[1;32m---> 10\u001b[0m     \u001b[43mmodel\u001b[49m\u001b[38;5;241;43m.\u001b[39;49m\u001b[43mfit\u001b[49m\u001b[43m(\u001b[49m\u001b[43mbatch\u001b[49m\u001b[43m)\u001b[49m\n\u001b[0;32m     12\u001b[0m scores_anom \u001b[38;5;241m=\u001b[39m model\u001b[38;5;241m.\u001b[39mdecision_function(test_data)\n\u001b[0;32m     14\u001b[0m \u001b[38;5;66;03m# Calculate AUC score using roc_auc_score\u001b[39;00m\n",
      "File \u001b[1;32mc:\\Users\\zippe\\AppData\\Local\\Programs\\Python\\Python311\\Lib\\site-packages\\sklearn\\base.py:1152\u001b[0m, in \u001b[0;36m_fit_context.<locals>.decorator.<locals>.wrapper\u001b[1;34m(estimator, *args, **kwargs)\u001b[0m\n\u001b[0;32m   1145\u001b[0m     estimator\u001b[38;5;241m.\u001b[39m_validate_params()\n\u001b[0;32m   1147\u001b[0m \u001b[38;5;28;01mwith\u001b[39;00m config_context(\n\u001b[0;32m   1148\u001b[0m     skip_parameter_validation\u001b[38;5;241m=\u001b[39m(\n\u001b[0;32m   1149\u001b[0m         prefer_skip_nested_validation \u001b[38;5;129;01mor\u001b[39;00m global_skip_validation\n\u001b[0;32m   1150\u001b[0m     )\n\u001b[0;32m   1151\u001b[0m ):\n\u001b[1;32m-> 1152\u001b[0m     \u001b[38;5;28;01mreturn\u001b[39;00m \u001b[43mfit_method\u001b[49m\u001b[43m(\u001b[49m\u001b[43mestimator\u001b[49m\u001b[43m,\u001b[49m\u001b[43m \u001b[49m\u001b[38;5;241;43m*\u001b[39;49m\u001b[43margs\u001b[49m\u001b[43m,\u001b[49m\u001b[43m \u001b[49m\u001b[38;5;241;43m*\u001b[39;49m\u001b[38;5;241;43m*\u001b[39;49m\u001b[43mkwargs\u001b[49m\u001b[43m)\u001b[49m\n",
      "File \u001b[1;32mc:\\Users\\zippe\\AppData\\Local\\Programs\\Python\\Python311\\Lib\\site-packages\\sklearn\\neighbors\\_lof.py:291\u001b[0m, in \u001b[0;36mLocalOutlierFactor.fit\u001b[1;34m(self, X, y)\u001b[0m\n\u001b[0;32m    283\u001b[0m     warnings\u001b[38;5;241m.\u001b[39mwarn(\n\u001b[0;32m    284\u001b[0m         \u001b[38;5;124m\"\u001b[39m\u001b[38;5;124mn_neighbors (\u001b[39m\u001b[38;5;132;01m%s\u001b[39;00m\u001b[38;5;124m) is greater than the \u001b[39m\u001b[38;5;124m\"\u001b[39m\n\u001b[0;32m    285\u001b[0m         \u001b[38;5;124m\"\u001b[39m\u001b[38;5;124mtotal number of samples (\u001b[39m\u001b[38;5;132;01m%s\u001b[39;00m\u001b[38;5;124m). n_neighbors \u001b[39m\u001b[38;5;124m\"\u001b[39m\n\u001b[0;32m    286\u001b[0m         \u001b[38;5;124m\"\u001b[39m\u001b[38;5;124mwill be set to (n_samples - 1) for estimation.\u001b[39m\u001b[38;5;124m\"\u001b[39m\n\u001b[0;32m    287\u001b[0m         \u001b[38;5;241m%\u001b[39m (\u001b[38;5;28mself\u001b[39m\u001b[38;5;241m.\u001b[39mn_neighbors, n_samples)\n\u001b[0;32m    288\u001b[0m     )\n\u001b[0;32m    289\u001b[0m \u001b[38;5;28mself\u001b[39m\u001b[38;5;241m.\u001b[39mn_neighbors_ \u001b[38;5;241m=\u001b[39m \u001b[38;5;28mmax\u001b[39m(\u001b[38;5;241m1\u001b[39m, \u001b[38;5;28mmin\u001b[39m(\u001b[38;5;28mself\u001b[39m\u001b[38;5;241m.\u001b[39mn_neighbors, n_samples \u001b[38;5;241m-\u001b[39m \u001b[38;5;241m1\u001b[39m))\n\u001b[1;32m--> 291\u001b[0m \u001b[38;5;28mself\u001b[39m\u001b[38;5;241m.\u001b[39m_distances_fit_X_, _neighbors_indices_fit_X_ \u001b[38;5;241m=\u001b[39m \u001b[38;5;28;43mself\u001b[39;49m\u001b[38;5;241;43m.\u001b[39;49m\u001b[43mkneighbors\u001b[49m\u001b[43m(\u001b[49m\n\u001b[0;32m    292\u001b[0m \u001b[43m    \u001b[49m\u001b[43mn_neighbors\u001b[49m\u001b[38;5;241;43m=\u001b[39;49m\u001b[38;5;28;43mself\u001b[39;49m\u001b[38;5;241;43m.\u001b[39;49m\u001b[43mn_neighbors_\u001b[49m\n\u001b[0;32m    293\u001b[0m \u001b[43m\u001b[49m\u001b[43m)\u001b[49m\n\u001b[0;32m    295\u001b[0m \u001b[38;5;28;01mif\u001b[39;00m \u001b[38;5;28mself\u001b[39m\u001b[38;5;241m.\u001b[39m_fit_X\u001b[38;5;241m.\u001b[39mdtype \u001b[38;5;241m==\u001b[39m np\u001b[38;5;241m.\u001b[39mfloat32:\n\u001b[0;32m    296\u001b[0m     \u001b[38;5;28mself\u001b[39m\u001b[38;5;241m.\u001b[39m_distances_fit_X_ \u001b[38;5;241m=\u001b[39m \u001b[38;5;28mself\u001b[39m\u001b[38;5;241m.\u001b[39m_distances_fit_X_\u001b[38;5;241m.\u001b[39mastype(\n\u001b[0;32m    297\u001b[0m         \u001b[38;5;28mself\u001b[39m\u001b[38;5;241m.\u001b[39m_fit_X\u001b[38;5;241m.\u001b[39mdtype,\n\u001b[0;32m    298\u001b[0m         copy\u001b[38;5;241m=\u001b[39m\u001b[38;5;28;01mFalse\u001b[39;00m,\n\u001b[0;32m    299\u001b[0m     )\n",
      "File \u001b[1;32mc:\\Users\\zippe\\AppData\\Local\\Programs\\Python\\Python311\\Lib\\site-packages\\sklearn\\neighbors\\_base.py:822\u001b[0m, in \u001b[0;36mKNeighborsMixin.kneighbors\u001b[1;34m(self, X, n_neighbors, return_distance)\u001b[0m\n\u001b[0;32m    815\u001b[0m use_pairwise_distances_reductions \u001b[38;5;241m=\u001b[39m (\n\u001b[0;32m    816\u001b[0m     \u001b[38;5;28mself\u001b[39m\u001b[38;5;241m.\u001b[39m_fit_method \u001b[38;5;241m==\u001b[39m \u001b[38;5;124m\"\u001b[39m\u001b[38;5;124mbrute\u001b[39m\u001b[38;5;124m\"\u001b[39m\n\u001b[0;32m    817\u001b[0m     \u001b[38;5;129;01mand\u001b[39;00m ArgKmin\u001b[38;5;241m.\u001b[39mis_usable_for(\n\u001b[0;32m    818\u001b[0m         X \u001b[38;5;28;01mif\u001b[39;00m X \u001b[38;5;129;01mis\u001b[39;00m \u001b[38;5;129;01mnot\u001b[39;00m \u001b[38;5;28;01mNone\u001b[39;00m \u001b[38;5;28;01melse\u001b[39;00m \u001b[38;5;28mself\u001b[39m\u001b[38;5;241m.\u001b[39m_fit_X, \u001b[38;5;28mself\u001b[39m\u001b[38;5;241m.\u001b[39m_fit_X, \u001b[38;5;28mself\u001b[39m\u001b[38;5;241m.\u001b[39meffective_metric_\n\u001b[0;32m    819\u001b[0m     )\n\u001b[0;32m    820\u001b[0m )\n\u001b[0;32m    821\u001b[0m \u001b[38;5;28;01mif\u001b[39;00m use_pairwise_distances_reductions:\n\u001b[1;32m--> 822\u001b[0m     results \u001b[38;5;241m=\u001b[39m \u001b[43mArgKmin\u001b[49m\u001b[38;5;241;43m.\u001b[39;49m\u001b[43mcompute\u001b[49m\u001b[43m(\u001b[49m\n\u001b[0;32m    823\u001b[0m \u001b[43m        \u001b[49m\u001b[43mX\u001b[49m\u001b[38;5;241;43m=\u001b[39;49m\u001b[43mX\u001b[49m\u001b[43m,\u001b[49m\n\u001b[0;32m    824\u001b[0m \u001b[43m        \u001b[49m\u001b[43mY\u001b[49m\u001b[38;5;241;43m=\u001b[39;49m\u001b[38;5;28;43mself\u001b[39;49m\u001b[38;5;241;43m.\u001b[39;49m\u001b[43m_fit_X\u001b[49m\u001b[43m,\u001b[49m\n\u001b[0;32m    825\u001b[0m \u001b[43m        \u001b[49m\u001b[43mk\u001b[49m\u001b[38;5;241;43m=\u001b[39;49m\u001b[43mn_neighbors\u001b[49m\u001b[43m,\u001b[49m\n\u001b[0;32m    826\u001b[0m \u001b[43m        \u001b[49m\u001b[43mmetric\u001b[49m\u001b[38;5;241;43m=\u001b[39;49m\u001b[38;5;28;43mself\u001b[39;49m\u001b[38;5;241;43m.\u001b[39;49m\u001b[43meffective_metric_\u001b[49m\u001b[43m,\u001b[49m\n\u001b[0;32m    827\u001b[0m \u001b[43m        \u001b[49m\u001b[43mmetric_kwargs\u001b[49m\u001b[38;5;241;43m=\u001b[39;49m\u001b[38;5;28;43mself\u001b[39;49m\u001b[38;5;241;43m.\u001b[39;49m\u001b[43meffective_metric_params_\u001b[49m\u001b[43m,\u001b[49m\n\u001b[0;32m    828\u001b[0m \u001b[43m        \u001b[49m\u001b[43mstrategy\u001b[49m\u001b[38;5;241;43m=\u001b[39;49m\u001b[38;5;124;43m\"\u001b[39;49m\u001b[38;5;124;43mauto\u001b[39;49m\u001b[38;5;124;43m\"\u001b[39;49m\u001b[43m,\u001b[49m\n\u001b[0;32m    829\u001b[0m \u001b[43m        \u001b[49m\u001b[43mreturn_distance\u001b[49m\u001b[38;5;241;43m=\u001b[39;49m\u001b[43mreturn_distance\u001b[49m\u001b[43m,\u001b[49m\n\u001b[0;32m    830\u001b[0m \u001b[43m    \u001b[49m\u001b[43m)\u001b[49m\n\u001b[0;32m    832\u001b[0m \u001b[38;5;28;01melif\u001b[39;00m (\n\u001b[0;32m    833\u001b[0m     \u001b[38;5;28mself\u001b[39m\u001b[38;5;241m.\u001b[39m_fit_method \u001b[38;5;241m==\u001b[39m \u001b[38;5;124m\"\u001b[39m\u001b[38;5;124mbrute\u001b[39m\u001b[38;5;124m\"\u001b[39m \u001b[38;5;129;01mand\u001b[39;00m \u001b[38;5;28mself\u001b[39m\u001b[38;5;241m.\u001b[39mmetric \u001b[38;5;241m==\u001b[39m \u001b[38;5;124m\"\u001b[39m\u001b[38;5;124mprecomputed\u001b[39m\u001b[38;5;124m\"\u001b[39m \u001b[38;5;129;01mand\u001b[39;00m issparse(X)\n\u001b[0;32m    834\u001b[0m ):\n\u001b[0;32m    835\u001b[0m     results \u001b[38;5;241m=\u001b[39m _kneighbors_from_graph(\n\u001b[0;32m    836\u001b[0m         X, n_neighbors\u001b[38;5;241m=\u001b[39mn_neighbors, return_distance\u001b[38;5;241m=\u001b[39mreturn_distance\n\u001b[0;32m    837\u001b[0m     )\n",
      "File \u001b[1;32mc:\\Users\\zippe\\AppData\\Local\\Programs\\Python\\Python311\\Lib\\site-packages\\sklearn\\metrics\\_pairwise_distances_reduction\\_dispatcher.py:271\u001b[0m, in \u001b[0;36mArgKmin.compute\u001b[1;34m(cls, X, Y, k, metric, chunk_size, metric_kwargs, strategy, return_distance)\u001b[0m\n\u001b[0;32m    259\u001b[0m     \u001b[38;5;28;01mreturn\u001b[39;00m ArgKmin64\u001b[38;5;241m.\u001b[39mcompute(\n\u001b[0;32m    260\u001b[0m         X\u001b[38;5;241m=\u001b[39mX,\n\u001b[0;32m    261\u001b[0m         Y\u001b[38;5;241m=\u001b[39mY,\n\u001b[1;32m   (...)\u001b[0m\n\u001b[0;32m    267\u001b[0m         return_distance\u001b[38;5;241m=\u001b[39mreturn_distance,\n\u001b[0;32m    268\u001b[0m     )\n\u001b[0;32m    270\u001b[0m \u001b[38;5;28;01mif\u001b[39;00m X\u001b[38;5;241m.\u001b[39mdtype \u001b[38;5;241m==\u001b[39m Y\u001b[38;5;241m.\u001b[39mdtype \u001b[38;5;241m==\u001b[39m np\u001b[38;5;241m.\u001b[39mfloat32:\n\u001b[1;32m--> 271\u001b[0m     \u001b[38;5;28;01mreturn\u001b[39;00m \u001b[43mArgKmin32\u001b[49m\u001b[38;5;241;43m.\u001b[39;49m\u001b[43mcompute\u001b[49m\u001b[43m(\u001b[49m\n\u001b[0;32m    272\u001b[0m \u001b[43m        \u001b[49m\u001b[43mX\u001b[49m\u001b[38;5;241;43m=\u001b[39;49m\u001b[43mX\u001b[49m\u001b[43m,\u001b[49m\n\u001b[0;32m    273\u001b[0m \u001b[43m        \u001b[49m\u001b[43mY\u001b[49m\u001b[38;5;241;43m=\u001b[39;49m\u001b[43mY\u001b[49m\u001b[43m,\u001b[49m\n\u001b[0;32m    274\u001b[0m \u001b[43m        \u001b[49m\u001b[43mk\u001b[49m\u001b[38;5;241;43m=\u001b[39;49m\u001b[43mk\u001b[49m\u001b[43m,\u001b[49m\n\u001b[0;32m    275\u001b[0m \u001b[43m        \u001b[49m\u001b[43mmetric\u001b[49m\u001b[38;5;241;43m=\u001b[39;49m\u001b[43mmetric\u001b[49m\u001b[43m,\u001b[49m\n\u001b[0;32m    276\u001b[0m \u001b[43m        \u001b[49m\u001b[43mchunk_size\u001b[49m\u001b[38;5;241;43m=\u001b[39;49m\u001b[43mchunk_size\u001b[49m\u001b[43m,\u001b[49m\n\u001b[0;32m    277\u001b[0m \u001b[43m        \u001b[49m\u001b[43mmetric_kwargs\u001b[49m\u001b[38;5;241;43m=\u001b[39;49m\u001b[43mmetric_kwargs\u001b[49m\u001b[43m,\u001b[49m\n\u001b[0;32m    278\u001b[0m \u001b[43m        \u001b[49m\u001b[43mstrategy\u001b[49m\u001b[38;5;241;43m=\u001b[39;49m\u001b[43mstrategy\u001b[49m\u001b[43m,\u001b[49m\n\u001b[0;32m    279\u001b[0m \u001b[43m        \u001b[49m\u001b[43mreturn_distance\u001b[49m\u001b[38;5;241;43m=\u001b[39;49m\u001b[43mreturn_distance\u001b[49m\u001b[43m,\u001b[49m\n\u001b[0;32m    280\u001b[0m \u001b[43m    \u001b[49m\u001b[43m)\u001b[49m\n\u001b[0;32m    282\u001b[0m \u001b[38;5;28;01mraise\u001b[39;00m \u001b[38;5;167;01mValueError\u001b[39;00m(\n\u001b[0;32m    283\u001b[0m     \u001b[38;5;124m\"\u001b[39m\u001b[38;5;124mOnly float64 or float32 datasets pairs are supported at this time, \u001b[39m\u001b[38;5;124m\"\u001b[39m\n\u001b[0;32m    284\u001b[0m     \u001b[38;5;124mf\u001b[39m\u001b[38;5;124m\"\u001b[39m\u001b[38;5;124mgot: X.dtype=\u001b[39m\u001b[38;5;132;01m{\u001b[39;00mX\u001b[38;5;241m.\u001b[39mdtype\u001b[38;5;132;01m}\u001b[39;00m\u001b[38;5;124m and Y.dtype=\u001b[39m\u001b[38;5;132;01m{\u001b[39;00mY\u001b[38;5;241m.\u001b[39mdtype\u001b[38;5;132;01m}\u001b[39;00m\u001b[38;5;124m.\u001b[39m\u001b[38;5;124m\"\u001b[39m\n\u001b[0;32m    285\u001b[0m )\n",
      "File \u001b[1;32msklearn\\metrics\\_pairwise_distances_reduction\\_argkmin.pyx:575\u001b[0m, in \u001b[0;36msklearn.metrics._pairwise_distances_reduction._argkmin.ArgKmin32.compute\u001b[1;34m()\u001b[0m\n",
      "File \u001b[1;32mc:\\Users\\zippe\\AppData\\Local\\Programs\\Python\\Python311\\Lib\\site-packages\\threadpoolctl.py:171\u001b[0m, in \u001b[0;36m_ThreadpoolLimiter.__exit__\u001b[1;34m(self, type, value, traceback)\u001b[0m\n\u001b[0;32m    168\u001b[0m \u001b[38;5;28;01mdef\u001b[39;00m \u001b[38;5;21m__enter__\u001b[39m(\u001b[38;5;28mself\u001b[39m):\n\u001b[0;32m    169\u001b[0m     \u001b[38;5;28;01mreturn\u001b[39;00m \u001b[38;5;28mself\u001b[39m\n\u001b[1;32m--> 171\u001b[0m \u001b[38;5;28;01mdef\u001b[39;00m \u001b[38;5;21m__exit__\u001b[39m(\u001b[38;5;28mself\u001b[39m, \u001b[38;5;28mtype\u001b[39m, value, traceback):\n\u001b[0;32m    172\u001b[0m     \u001b[38;5;28mself\u001b[39m\u001b[38;5;241m.\u001b[39mrestore_original_limits()\n\u001b[0;32m    174\u001b[0m \u001b[38;5;129m@classmethod\u001b[39m\n\u001b[0;32m    175\u001b[0m \u001b[38;5;28;01mdef\u001b[39;00m \u001b[38;5;21mwrap\u001b[39m(\u001b[38;5;28mcls\u001b[39m, controller, \u001b[38;5;241m*\u001b[39m, limits\u001b[38;5;241m=\u001b[39m\u001b[38;5;28;01mNone\u001b[39;00m, user_api\u001b[38;5;241m=\u001b[39m\u001b[38;5;28;01mNone\u001b[39;00m):\n",
      "\u001b[1;31mKeyboardInterrupt\u001b[0m: "
     ]
    }
   ],
   "source": [
    "# Store results in a list\n",
    "results = []\n",
    "\n",
    "for params in ParameterGrid(param_grid):\n",
    "    model = LocalOutlierFactor(**params, novelty=True)\n",
    "\n",
    "    train_data_generator = utility.data_generator(train_data)\n",
    "\n",
    "    for batch in train_data_generator:\n",
    "        model.fit(batch)\n",
    "\n",
    "    scores_anom = model.decision_function(test_data)\n",
    "    \n",
    "    # Calculate AUC score using roc_auc_score\n",
    "    auc_score = roc_auc_score(test_true_labels, scores_anom)\n",
    "    results.append({'params': params, 'auc_score': auc_score})\n",
    "    \n",
    "\n",
    "# Sort results from best to worst\n",
    "results = sorted(results, key=lambda x: x['auc_score'], reverse=True)\n",
    "\n",
    "# Print results\n",
    "for i, result in enumerate(results, start=1):\n",
    "    print(f\"Rank {i}: AUC Score {result['auc_score']:.4f} - Parameters: {result['params']}\")"
   ]
  },
  {
   "cell_type": "code",
   "execution_count": null,
   "metadata": {},
   "outputs": [],
   "source": [
    "# Rank 1: AUC Score 0.4780 - Parameters: {'algorithm': 'auto', 'contamination': 0.1, 'leaf_size': 10, 'metric': 'euclidean', 'n_neighbors': 5}\n",
    "# Rank 2: AUC Score 0.4780 - Parameters: {'algorithm': 'auto', 'contamination': 0.1, 'leaf_size': 10, 'metric': 'minkowski', 'n_neighbors': 5}\n",
    "# Rank 3: AUC Score 0.4780 - Parameters: {'algorithm': 'auto', 'contamination': 0.1, 'leaf_size': 30, 'metric': 'euclidean', 'n_neighbors': 5}\n",
    "# Rank 4: AUC Score 0.4780 - Parameters: {'algorithm': 'auto', 'contamination': 0.1, 'leaf_size': 30, 'metric': 'minkowski', 'n_neighbors': 5}\n",
    "# Rank 5: AUC Score 0.4780 - Parameters: {'algorithm': 'auto', 'contamination': 0.1, 'leaf_size': 50, 'metric': 'euclidean', 'n_neighbors': 5}\n",
    "# Rank 6: AUC Score 0.4780 - Parameters: {'algorithm': 'auto', 'contamination': 0.1, 'leaf_size': 50, 'metric': 'minkowski', 'n_neighbors': 5}\n",
    "# Rank 7: AUC Score 0.4780 - Parameters: {'algorithm': 'brute', 'contamination': 0.1, 'leaf_size': 10, 'metric': 'euclidean', 'n_neighbors': 5}\n",
    "# Rank 8: AUC Score 0.4780 - Parameters: {'algorithm': 'brute', 'contamination': 0.1, 'leaf_size': 10, 'metric': 'minkowski', 'n_neighbors': 5}\n",
    "# Rank 9: AUC Score 0.4780 - Parameters: {'algorithm': 'brute', 'contamination': 0.1, 'leaf_size': 30, 'metric': 'euclidean', 'n_neighbors': 5}\n",
    "# Rank 10: AUC Score 0.4780 - Parameters: {'algorithm': 'brute', 'contamination': 0.1, 'leaf_size': 30, 'metric': 'minkowski', 'n_neighbors': 5}\n",
    "# Rank 11: AUC Score 0.4780 - Parameters: {'algorithm': 'brute', 'contamination': 0.1, 'leaf_size': 50, 'metric': 'euclidean', 'n_neighbors': 5}\n",
    "# Rank 12: AUC Score 0.4780 - Parameters: {'algorithm': 'brute', 'contamination': 0.1, 'leaf_size': 50, 'metric': 'minkowski', 'n_neighbors': 5}\n",
    "# Rank 13: AUC Score 0.4780 - Parameters: {'algorithm': 'ball_tree', 'contamination': 0.1, 'leaf_size': 10, 'metric': 'euclidean', 'n_neighbors': 5}\n",
    "# Rank 14: AUC Score 0.4780 - Parameters: {'algorithm': 'ball_tree', 'contamination': 0.1, 'leaf_size': 10, 'metric': 'minkowski', 'n_neighbors': 5}\n",
    "# Rank 15: AUC Score 0.4780 - Parameters: {'algorithm': 'ball_tree', 'contamination': 0.1, 'leaf_size': 30, 'metric': 'euclidean', 'n_neighbors': 5}\n",
    "# Rank 16: AUC Score 0.4780 - Parameters: {'algorithm': 'ball_tree', 'contamination': 0.1, 'leaf_size': 30, 'metric': 'minkowski', 'n_neighbors': 5}\n",
    "# Rank 17: AUC Score 0.4780 - Parameters: {'algorithm': 'ball_tree', 'contamination': 0.1, 'leaf_size': 50, 'metric': 'euclidean', 'n_neighbors': 5}\n",
    "# Rank 18: AUC Score 0.4780 - Parameters: {'algorithm': 'ball_tree', 'contamination': 0.1, 'leaf_size': 50, 'metric': 'minkowski', 'n_neighbors': 5}\n",
    "# Rank 19: AUC Score 0.4105 - Parameters: {'algorithm': 'ball_tree', 'contamination': 0.1, 'leaf_size': 10, 'metric': 'manhattan', 'n_neighbors': 5}\n",
    "# Rank 20: AUC Score 0.4105 - Parameters: {'algorithm': 'ball_tree', 'contamination': 0.1, 'leaf_size': 30, 'metric': 'manhattan', 'n_neighbors': 5}\n",
    "# Rank 21: AUC Score 0.4105 - Parameters: {'algorithm': 'ball_tree', 'contamination': 0.1, 'leaf_size': 50, 'metric': 'manhattan', 'n_neighbors': 5}\n",
    "# Rank 22: AUC Score 0.4105 - Parameters: {'algorithm': 'auto', 'contamination': 0.1, 'leaf_size': 10, 'metric': 'manhattan', 'n_neighbors': 5}\n",
    "# Rank 23: AUC Score 0.4105 - Parameters: {'algorithm': 'auto', 'contamination': 0.1, 'leaf_size': 30, 'metric': 'manhattan', 'n_neighbors': 5}\n",
    "# Rank 24: AUC Score 0.4105 - Parameters: {'algorithm': 'auto', 'contamination': 0.1, 'leaf_size': 50, 'metric': 'manhattan', 'n_neighbors': 5}\n",
    "# Rank 25: AUC Score 0.4105 - Parameters: {'algorithm': 'brute', 'contamination': 0.1, 'leaf_size': 10, 'metric': 'manhattan', 'n_neighbors': 5}\n",
    "# Rank 26: AUC Score 0.4105 - Parameters: {'algorithm': 'brute', 'contamination': 0.1, 'leaf_size': 30, 'metric': 'manhattan', 'n_neighbors': 5}\n",
    "# Rank 27: AUC Score 0.4105 - Parameters: {'algorithm': 'brute', 'contamination': 0.1, 'leaf_size': 50, 'metric': 'manhattan', 'n_neighbors': 5}\n",
    "# Rank 28: AUC Score 0.4068 - Parameters: {'algorithm': 'ball_tree', 'contamination': 0.1, 'leaf_size': 10, 'metric': 'euclidean', 'n_neighbors': 10}\n",
    "# Rank 29: AUC Score 0.4068 - Parameters: {'algorithm': 'ball_tree', 'contamination': 0.1, 'leaf_size': 10, 'metric': 'minkowski', 'n_neighbors': 10}\n",
    "# Rank 30: AUC Score 0.4068 - Parameters: {'algorithm': 'ball_tree', 'contamination': 0.1, 'leaf_size': 30, 'metric': 'euclidean', 'n_neighbors': 10}\n",
    "# Rank 31: AUC Score 0.4068 - Parameters: {'algorithm': 'ball_tree', 'contamination': 0.1, 'leaf_size': 30, 'metric': 'minkowski', 'n_neighbors': 10}\n",
    "# Rank 32: AUC Score 0.4068 - Parameters: {'algorithm': 'ball_tree', 'contamination': 0.1, 'leaf_size': 50, 'metric': 'euclidean', 'n_neighbors': 10}\n",
    "# Rank 33: AUC Score 0.4068 - Parameters: {'algorithm': 'ball_tree', 'contamination': 0.1, 'leaf_size': 50, 'metric': 'minkowski', 'n_neighbors': 10}\n",
    "# Rank 34: AUC Score 0.4068 - Parameters: {'algorithm': 'auto', 'contamination': 0.1, 'leaf_size': 10, 'metric': 'euclidean', 'n_neighbors': 10}\n",
    "# Rank 35: AUC Score 0.4068 - Parameters: {'algorithm': 'auto', 'contamination': 0.1, 'leaf_size': 10, 'metric': 'minkowski', 'n_neighbors': 10}\n",
    "# Rank 36: AUC Score 0.4068 - Parameters: {'algorithm': 'auto', 'contamination': 0.1, 'leaf_size': 30, 'metric': 'euclidean', 'n_neighbors': 10}\n",
    "# Rank 37: AUC Score 0.4068 - Parameters: {'algorithm': 'auto', 'contamination': 0.1, 'leaf_size': 30, 'metric': 'minkowski', 'n_neighbors': 10}\n",
    "# Rank 38: AUC Score 0.4068 - Parameters: {'algorithm': 'auto', 'contamination': 0.1, 'leaf_size': 50, 'metric': 'euclidean', 'n_neighbors': 10}\n",
    "# Rank 39: AUC Score 0.4068 - Parameters: {'algorithm': 'auto', 'contamination': 0.1, 'leaf_size': 50, 'metric': 'minkowski', 'n_neighbors': 10}\n",
    "# Rank 40: AUC Score 0.4068 - Parameters: {'algorithm': 'brute', 'contamination': 0.1, 'leaf_size': 10, 'metric': 'euclidean', 'n_neighbors': 10}\n",
    "# Rank 41: AUC Score 0.4068 - Parameters: {'algorithm': 'brute', 'contamination': 0.1, 'leaf_size': 10, 'metric': 'minkowski', 'n_neighbors': 10}\n",
    "# Rank 42: AUC Score 0.4068 - Parameters: {'algorithm': 'brute', 'contamination': 0.1, 'leaf_size': 30, 'metric': 'euclidean', 'n_neighbors': 10}\n",
    "# Rank 43: AUC Score 0.4068 - Parameters: {'algorithm': 'brute', 'contamination': 0.1, 'leaf_size': 30, 'metric': 'minkowski', 'n_neighbors': 10}\n",
    "# Rank 44: AUC Score 0.4068 - Parameters: {'algorithm': 'brute', 'contamination': 0.1, 'leaf_size': 50, 'metric': 'euclidean', 'n_neighbors': 10}\n",
    "# Rank 45: AUC Score 0.4068 - Parameters: {'algorithm': 'brute', 'contamination': 0.1, 'leaf_size': 50, 'metric': 'minkowski', 'n_neighbors': 10}\n",
    "# Rank 46: AUC Score 0.3771 - Parameters: {'algorithm': 'ball_tree', 'contamination': 0.1, 'leaf_size': 10, 'metric': 'euclidean', 'n_neighbors': 15}\n",
    "# Rank 47: AUC Score 0.3771 - Parameters: {'algorithm': 'ball_tree', 'contamination': 0.1, 'leaf_size': 10, 'metric': 'minkowski', 'n_neighbors': 15}\n",
    "# Rank 48: AUC Score 0.3771 - Parameters: {'algorithm': 'ball_tree', 'contamination': 0.1, 'leaf_size': 30, 'metric': 'euclidean', 'n_neighbors': 15}\n",
    "# Rank 49: AUC Score 0.3771 - Parameters: {'algorithm': 'ball_tree', 'contamination': 0.1, 'leaf_size': 30, 'metric': 'minkowski', 'n_neighbors': 15}\n",
    "# Rank 50: AUC Score 0.3771 - Parameters: {'algorithm': 'ball_tree', 'contamination': 0.1, 'leaf_size': 50, 'metric': 'euclidean', 'n_neighbors': 15}\n",
    "# Rank 51: AUC Score 0.3771 - Parameters: {'algorithm': 'ball_tree', 'contamination': 0.1, 'leaf_size': 50, 'metric': 'minkowski', 'n_neighbors': 15}\n",
    "# Rank 52: AUC Score 0.3771 - Parameters: {'algorithm': 'auto', 'contamination': 0.1, 'leaf_size': 10, 'metric': 'euclidean', 'n_neighbors': 15}\n",
    "# Rank 53: AUC Score 0.3771 - Parameters: {'algorithm': 'auto', 'contamination': 0.1, 'leaf_size': 10, 'metric': 'minkowski', 'n_neighbors': 15}\n",
    "# Rank 54: AUC Score 0.3771 - Parameters: {'algorithm': 'auto', 'contamination': 0.1, 'leaf_size': 30, 'metric': 'euclidean', 'n_neighbors': 15}\n",
    "# Rank 55: AUC Score 0.3771 - Parameters: {'algorithm': 'auto', 'contamination': 0.1, 'leaf_size': 30, 'metric': 'minkowski', 'n_neighbors': 15}\n",
    "# Rank 56: AUC Score 0.3771 - Parameters: {'algorithm': 'auto', 'contamination': 0.1, 'leaf_size': 50, 'metric': 'euclidean', 'n_neighbors': 15}\n",
    "# Rank 57: AUC Score 0.3771 - Parameters: {'algorithm': 'auto', 'contamination': 0.1, 'leaf_size': 50, 'metric': 'minkowski', 'n_neighbors': 15}\n",
    "# Rank 58: AUC Score 0.3771 - Parameters: {'algorithm': 'brute', 'contamination': 0.1, 'leaf_size': 10, 'metric': 'euclidean', 'n_neighbors': 15}\n",
    "# Rank 59: AUC Score 0.3771 - Parameters: {'algorithm': 'brute', 'contamination': 0.1, 'leaf_size': 10, 'metric': 'minkowski', 'n_neighbors': 15}\n",
    "# Rank 60: AUC Score 0.3771 - Parameters: {'algorithm': 'brute', 'contamination': 0.1, 'leaf_size': 30, 'metric': 'euclidean', 'n_neighbors': 15}\n",
    "# Rank 61: AUC Score 0.3771 - Parameters: {'algorithm': 'brute', 'contamination': 0.1, 'leaf_size': 30, 'metric': 'minkowski', 'n_neighbors': 15}\n",
    "# Rank 62: AUC Score 0.3771 - Parameters: {'algorithm': 'brute', 'contamination': 0.1, 'leaf_size': 50, 'metric': 'euclidean', 'n_neighbors': 15}\n",
    "# Rank 63: AUC Score 0.3771 - Parameters: {'algorithm': 'brute', 'contamination': 0.1, 'leaf_size': 50, 'metric': 'minkowski', 'n_neighbors': 15}\n",
    "# Rank 64: AUC Score 0.3360 - Parameters: {'algorithm': 'auto', 'contamination': 0.1, 'leaf_size': 10, 'metric': 'manhattan', 'n_neighbors': 10}\n",
    "# Rank 65: AUC Score 0.3360 - Parameters: {'algorithm': 'auto', 'contamination': 0.1, 'leaf_size': 30, 'metric': 'manhattan', 'n_neighbors': 10}\n",
    "# Rank 66: AUC Score 0.3360 - Parameters: {'algorithm': 'auto', 'contamination': 0.1, 'leaf_size': 50, 'metric': 'manhattan', 'n_neighbors': 10}\n",
    "# Rank 67: AUC Score 0.3360 - Parameters: {'algorithm': 'brute', 'contamination': 0.1, 'leaf_size': 10, 'metric': 'manhattan', 'n_neighbors': 10}\n",
    "# Rank 68: AUC Score 0.3360 - Parameters: {'algorithm': 'brute', 'contamination': 0.1, 'leaf_size': 30, 'metric': 'manhattan', 'n_neighbors': 10}\n",
    "# Rank 69: AUC Score 0.3360 - Parameters: {'algorithm': 'brute', 'contamination': 0.1, 'leaf_size': 50, 'metric': 'manhattan', 'n_neighbors': 10}\n",
    "# Rank 70: AUC Score 0.3360 - Parameters: {'algorithm': 'ball_tree', 'contamination': 0.1, 'leaf_size': 10, 'metric': 'manhattan', 'n_neighbors': 10}\n",
    "# Rank 71: AUC Score 0.3360 - Parameters: {'algorithm': 'ball_tree', 'contamination': 0.1, 'leaf_size': 30, 'metric': 'manhattan', 'n_neighbors': 10}\n",
    "# Rank 72: AUC Score 0.3360 - Parameters: {'algorithm': 'ball_tree', 'contamination': 0.1, 'leaf_size': 50, 'metric': 'manhattan', 'n_neighbors': 10}\n",
    "# Rank 73: AUC Score 0.3084 - Parameters: {'algorithm': 'auto', 'contamination': 0.1, 'leaf_size': 10, 'metric': 'manhattan', 'n_neighbors': 15}\n",
    "# Rank 74: AUC Score 0.3084 - Parameters: {'algorithm': 'auto', 'contamination': 0.1, 'leaf_size': 30, 'metric': 'manhattan', 'n_neighbors': 15}\n",
    "# Rank 75: AUC Score 0.3084 - Parameters: {'algorithm': 'auto', 'contamination': 0.1, 'leaf_size': 50, 'metric': 'manhattan', 'n_neighbors': 15}\n",
    "# Rank 76: AUC Score 0.3084 - Parameters: {'algorithm': 'brute', 'contamination': 0.1, 'leaf_size': 10, 'metric': 'manhattan', 'n_neighbors': 15}\n",
    "# Rank 77: AUC Score 0.3084 - Parameters: {'algorithm': 'brute', 'contamination': 0.1, 'leaf_size': 30, 'metric': 'manhattan', 'n_neighbors': 15}\n",
    "# Rank 78: AUC Score 0.3084 - Parameters: {'algorithm': 'brute', 'contamination': 0.1, 'leaf_size': 50, 'metric': 'manhattan', 'n_neighbors': 15}\n",
    "# Rank 79: AUC Score 0.3084 - Parameters: {'algorithm': 'ball_tree', 'contamination': 0.1, 'leaf_size': 10, 'metric': 'manhattan', 'n_neighbors': 15}\n",
    "# Rank 80: AUC Score 0.3084 - Parameters: {'algorithm': 'ball_tree', 'contamination': 0.1, 'leaf_size': 30, 'metric': 'manhattan', 'n_neighbors': 15}\n",
    "# Rank 81: AUC Score 0.3084 - Parameters: {'algorithm': 'ball_tree', 'contamination': 0.1, 'leaf_size': 50, 'metric': 'manhattan', 'n_neighbors': 15}"
   ]
  }
 ],
 "metadata": {
  "kernelspec": {
   "display_name": "Python 3",
   "language": "python",
   "name": "python3"
  },
  "language_info": {
   "codemirror_mode": {
    "name": "ipython",
    "version": 3
   },
   "file_extension": ".py",
   "mimetype": "text/x-python",
   "name": "python",
   "nbconvert_exporter": "python",
   "pygments_lexer": "ipython3",
   "version": "3.11.4"
  }
 },
 "nbformat": 4,
 "nbformat_minor": 2
}
