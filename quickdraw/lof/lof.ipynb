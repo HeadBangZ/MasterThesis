{
 "cells": [
  {
   "cell_type": "code",
   "execution_count": 1,
   "metadata": {},
   "outputs": [],
   "source": [
    "# imports\n",
    "import numpy as np\n",
    "\n",
    "# modelling\n",
    "from sklearn.neighbors import LocalOutlierFactor\n",
    "from sklearn.metrics import classification_report, precision_score, recall_score, f1_score\n",
    "from sklearn.model_selection import train_test_split\n",
    "from sklearn.decomposition import PCA\n",
    "from sklearn.utils import shuffle\n",
    "\n",
    "# Tree Visualization\n",
    "import matplotlib.pyplot as plt\n",
    "import seaborn as sns\n",
    "\n",
    "# misc\n",
    "import os"
   ]
  },
  {
   "cell_type": "code",
   "execution_count": 2,
   "metadata": {},
   "outputs": [],
   "source": [
    "# function to load and preprocess quickdraw data\n",
    "def load_quickdraw_data(dir, category_name, n_samples=1000):\n",
    "    file = f'full_numpy_bitmap_{category_name}.npy'\n",
    "    data = np.load(dir + file)\n",
    "    if n_samples == -1:\n",
    "        return data\n",
    "    else:\n",
    "        indices = np.random.choice(len(data), n_samples, replace=False)\n",
    "        sampled_data = data[indices]\n",
    "        return sampled_data"
   ]
  },
  {
   "cell_type": "code",
   "execution_count": 3,
   "metadata": {},
   "outputs": [],
   "source": [
    "def data_generator(data, batch_size=512):\n",
    "    n_samples = len(data)\n",
    "    for i in range(0, n_samples, batch_size):\n",
    "        batch = data[i:i + batch_size]\n",
    "        yield batch"
   ]
  },
  {
   "cell_type": "code",
   "execution_count": 4,
   "metadata": {},
   "outputs": [],
   "source": [
    "files = os.listdir('../data/')\n",
    "categories = [file.split('_')[-1].split('.')[0] for file in files]"
   ]
  },
  {
   "cell_type": "code",
   "execution_count": 5,
   "metadata": {},
   "outputs": [],
   "source": [
    "# Data directory\n",
    "dir = '../data/'\n",
    "\n",
    "# Load and preprocess data\n",
    "all_data = []\n",
    "labels = []"
   ]
  },
  {
   "cell_type": "code",
   "execution_count": 6,
   "metadata": {},
   "outputs": [],
   "source": [
    "for category_name in categories:\n",
    "    category_data = load_quickdraw_data(dir, category_name, 100) # Change this to -1 for all data\n",
    "    all_data.extend(category_data)\n",
    "    labels.extend([category_name] * len(category_data))"
   ]
  },
  {
   "cell_type": "code",
   "execution_count": 7,
   "metadata": {},
   "outputs": [
    {
     "name": "stdout",
     "output_type": "stream",
     "text": [
      "34500\n"
     ]
    }
   ],
   "source": [
    "# split the data into training and test\n",
    "x_train, x_test, y_train, y_test = train_test_split(all_data, labels, test_size=0.2, random_state=42)\n",
    "\n",
    "print(len(all_data))"
   ]
  },
  {
   "cell_type": "code",
   "execution_count": 8,
   "metadata": {},
   "outputs": [],
   "source": [
    "# normalize data\n",
    "x_train = np.array(x_train).astype(np.float32) / 255\n",
    "x_test = np.array(x_test).astype(np.float32) / 255"
   ]
  },
  {
   "cell_type": "code",
   "execution_count": 9,
   "metadata": {},
   "outputs": [],
   "source": [
    "# Add Outliers\n",
    "num_outliers = 500\n",
    "\n",
    "# Generate random outliers\n",
    "outliers = np.random.rand(num_outliers, 784)"
   ]
  },
  {
   "cell_type": "code",
   "execution_count": 10,
   "metadata": {},
   "outputs": [],
   "source": [
    "# Append outliers to your training data\n",
    "x_train_with_outliers = np.vstack((x_train, outliers))\n",
    "\n",
    "# Create labels for the outliers (e.g., label them as \"outlier\" or use a different category)\n",
    "y_train_with_outliers = y_train + ['outlier'] * num_outliers"
   ]
  },
  {
   "cell_type": "code",
   "execution_count": 11,
   "metadata": {},
   "outputs": [],
   "source": [
    "# Perform PCA for dimensionality reduction\n",
    "n_components = 20  # You can choose the number of components\n",
    "\n",
    "pca = PCA(n_components=n_components, svd_solver='full')"
   ]
  },
  {
   "cell_type": "code",
   "execution_count": 12,
   "metadata": {},
   "outputs": [],
   "source": [
    "x_train_pca = None\n",
    "# Perform PCA on x_train_with_outliers using a generator\n",
    "for batch in data_generator(x_train_with_outliers):\n",
    "    batch_pca = pca.fit_transform(batch)\n",
    "    if x_train_pca is None:\n",
    "        x_train_pca = batch_pca\n",
    "    else:\n",
    "        x_train_pca = np.vstack((x_train_pca, batch_pca))"
   ]
  },
  {
   "cell_type": "code",
   "execution_count": 13,
   "metadata": {},
   "outputs": [],
   "source": [
    "x_test_pca = None\n",
    "# Perform PCA on x_train_with_outliers using a generator\n",
    "for batch in data_generator(x_test):\n",
    "    batch_pca = pca.transform(batch)\n",
    "    if x_test_pca is None:\n",
    "        x_test_pca = batch_pca\n",
    "    else:\n",
    "        x_test_pca = np.vstack((x_test_pca, batch_pca))"
   ]
  },
  {
   "cell_type": "code",
   "execution_count": 14,
   "metadata": {},
   "outputs": [],
   "source": [
    "# Train the LOF model using data generator with PCA\n",
    "lof = LocalOutlierFactor(n_neighbors=20, contamination=0.1)  # Adjust parameters as needed\n",
    "\n",
    "for batch in data_generator(x_train_with_outliers):\n",
    "    # Perform PCA for dimensionality reduction on each batch\n",
    "    x_batch_pca = pca.fit_transform(batch)\n",
    "    \n",
    "    # Train the LOF model on the PCA-transformed batch\n",
    "    lof.fit(x_batch_pca)"
   ]
  },
  {
   "cell_type": "code",
   "execution_count": 15,
   "metadata": {},
   "outputs": [],
   "source": [
    "# Predict anomalies using data generator with PCA\n",
    "y_pred = []\n",
    "for batch in data_generator(x_test):\n",
    "    # Perform PCA for dimensionality reduction on each batch\n",
    "    x_test_pca = pca.transform(batch)\n",
    "    \n",
    "    # Predict anomalies for the PCA-transformed batch\n",
    "    batch_pred = lof.fit_predict(x_test_pca)\n",
    "    y_pred.extend(batch_pred)"
   ]
  },
  {
   "cell_type": "code",
   "execution_count": 16,
   "metadata": {},
   "outputs": [],
   "source": [
    "# Adjust the prediction labels for anomalies\n",
    "y_pred_adjusted = [-1 if pred == -1 else 1 for pred in y_pred]\n",
    "\n",
    "y_true = [1 if label == 'outlier' else -1 for label in y_test]"
   ]
  },
  {
   "cell_type": "code",
   "execution_count": 17,
   "metadata": {},
   "outputs": [
    {
     "name": "stdout",
     "output_type": "stream",
     "text": [
      "Precision: 0.0\n",
      "Recall: 0.0\n",
      "F1-Score: 0.0\n",
      "Classification Report:\n",
      "               precision    recall  f1-score   support\n",
      "\n",
      "          -1       1.00      0.10      0.18      6900\n",
      "           1       0.00      0.00      0.00         0\n",
      "\n",
      "    accuracy                           0.10      6900\n",
      "   macro avg       0.50      0.05      0.09      6900\n",
      "weighted avg       1.00      0.10      0.18      6900\n",
      "\n"
     ]
    },
    {
     "name": "stderr",
     "output_type": "stream",
     "text": [
      "c:\\Program Files\\Python311\\Lib\\site-packages\\sklearn\\metrics\\_classification.py:1469: UndefinedMetricWarning: Recall is ill-defined and being set to 0.0 due to no true samples. Use `zero_division` parameter to control this behavior.\n",
      "  _warn_prf(average, modifier, msg_start, len(result))\n",
      "c:\\Program Files\\Python311\\Lib\\site-packages\\sklearn\\metrics\\_classification.py:1469: UndefinedMetricWarning: Recall and F-score are ill-defined and being set to 0.0 in labels with no true samples. Use `zero_division` parameter to control this behavior.\n",
      "  _warn_prf(average, modifier, msg_start, len(result))\n",
      "c:\\Program Files\\Python311\\Lib\\site-packages\\sklearn\\metrics\\_classification.py:1469: UndefinedMetricWarning: Recall and F-score are ill-defined and being set to 0.0 in labels with no true samples. Use `zero_division` parameter to control this behavior.\n",
      "  _warn_prf(average, modifier, msg_start, len(result))\n",
      "c:\\Program Files\\Python311\\Lib\\site-packages\\sklearn\\metrics\\_classification.py:1469: UndefinedMetricWarning: Recall and F-score are ill-defined and being set to 0.0 in labels with no true samples. Use `zero_division` parameter to control this behavior.\n",
      "  _warn_prf(average, modifier, msg_start, len(result))\n"
     ]
    }
   ],
   "source": [
    "# Evaluate the model\n",
    "print(\"Precision:\", precision_score(y_true, y_pred_adjusted))\n",
    "print(\"Recall:\", recall_score(y_true, y_pred_adjusted))\n",
    "print(\"F1-Score:\", f1_score(y_true, y_pred_adjusted))\n",
    "print(\"Classification Report:\\n\", classification_report(y_true, y_pred_adjusted))"
   ]
  },
  {
   "cell_type": "code",
   "execution_count": 18,
   "metadata": {},
   "outputs": [
    {
     "data": {
      "image/png": "[encoded data removed]",
      "text/plain": [
       "<Figure size 640x480 with 1 Axes>"
      ]
     },
     "metadata": {},
     "output_type": "display_data"
    }
   ],
   "source": [
    "# Visualize detected anomalies separately\n",
    "anomalies = np.array(x_test)[y_pred == -1]\n",
    "plt.scatter(anomalies[:, 0], anomalies[:, 1], c='red', marker='x', label='Anomalies')\n",
    "plt.scatter(np.array(x_test)[y_pred == 1][:, 0], np.array(x_test)[y_pred == 1][:, 1], c='blue', marker='o', label='Normal')\n",
    "plt.legend()\n",
    "plt.title(\"Detected Anomalies vs. Normal Data\")\n",
    "plt.show()"
   ]
  },
  {
   "cell_type": "code",
   "execution_count": 19,
   "metadata": {},
   "outputs": [
    {
     "name": "stdout",
     "output_type": "stream",
     "text": [
      "Explained Variance of Principal Components:\n",
      "[0.00675824 0.00666305 0.00661486 0.00649966 0.0064509  0.00634135\n",
      " 0.00630038 0.00624414 0.00617312 0.00615032 0.00604803 0.00600065\n",
      " 0.00598263 0.00592196 0.0058636  0.00583936 0.0058333  0.00576632\n",
      " 0.00570171 0.00567199]\n"
     ]
    }
   ],
   "source": [
    "# Feature importance analysis (explained variance ratio)\n",
    "explained_variance = pca.explained_variance_ratio_\n",
    "print(\"Explained Variance of Principal Components:\")\n",
    "print(explained_variance)"
   ]
  },
  {
   "cell_type": "code",
   "execution_count": 20,
   "metadata": {},
   "outputs": [
    {
     "name": "stdout",
     "output_type": "stream",
     "text": [
      "Anomalies Precision: 0.0\n",
      "Anomalies Recall: 0.0\n",
      "Anomalies F1-Score: 0.0\n"
     ]
    },
    {
     "name": "stderr",
     "output_type": "stream",
     "text": [
      "c:\\Program Files\\Python311\\Lib\\site-packages\\sklearn\\metrics\\_classification.py:1469: UndefinedMetricWarning: Recall is ill-defined and being set to 0.0 due to no true samples. Use `zero_division` parameter to control this behavior.\n",
      "  _warn_prf(average, modifier, msg_start, len(result))\n"
     ]
    }
   ],
   "source": [
    "# Calculate performance metrics for anomalies\n",
    "anomalies_precision = precision_score(y_true, y_pred_adjusted)\n",
    "anomalies_recall = recall_score(y_true, y_pred_adjusted)\n",
    "anomalies_f1_score = f1_score(y_true, y_pred_adjusted)\n",
    "print(\"Anomalies Precision:\", anomalies_precision)\n",
    "print(\"Anomalies Recall:\", anomalies_recall)\n",
    "print(\"Anomalies F1-Score:\", anomalies_f1_score)"
   ]
  }
 ],
 "metadata": {
  "kernelspec": {
   "display_name": "Python 3",
   "language": "python",
   "name": "python3"
  },
  "language_info": {
   "codemirror_mode": {
    "name": "ipython",
    "version": 3
   },
   "file_extension": ".py",
   "mimetype": "text/x-python",
   "name": "python",
   "nbconvert_exporter": "python",
   "pygments_lexer": "ipython3",
   "version": "3.11.4"
  }
 },
 "nbformat": 4,
 "nbformat_minor": 2
}
