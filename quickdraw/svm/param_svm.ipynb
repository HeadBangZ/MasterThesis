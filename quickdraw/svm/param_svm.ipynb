{
 "cells": [
  {
   "cell_type": "code",
   "execution_count": 1,
   "metadata": {},
   "outputs": [
    {
     "name": "stdout",
     "output_type": "stream",
     "text": [
      "WARNING:tensorflow:From c:\\Users\\zippe\\AppData\\Local\\Programs\\Python\\Python311\\Lib\\site-packages\\keras\\src\\losses.py:2976: The name tf.losses.sparse_softmax_cross_entropy is deprecated. Please use tf.compat.v1.losses.sparse_softmax_cross_entropy instead.\n",
      "\n"
     ]
    }
   ],
   "source": [
    "# utility\n",
    "import sys\n",
    "sys.path.append(\"..\")\n",
    "\n",
    "import utility\n",
    "\n",
    "# imports\n",
    "import numpy as np\n",
    "import json\n",
    "\n",
    "# modelling\n",
    "from sklearn import svm\n",
    "from sklearn.metrics import classification_report, precision_score, recall_score, f1_score, roc_auc_score\n",
    "from sklearn.model_selection import train_test_split\n",
    "from sklearn.decomposition import PCA\n",
    "from sklearn.utils import shuffle\n",
    "from sklearn.model_selection import ParameterGrid\n",
    "\n",
    "# Tree Visualization\n",
    "import matplotlib.pyplot as plt\n",
    "import seaborn as sns\n",
    "\n",
    "# misc\n",
    "import os"
   ]
  },
  {
   "cell_type": "code",
   "execution_count": 2,
   "metadata": {},
   "outputs": [],
   "source": [
    "train_data, test_data, train_labels, test_labels, test_true_labels, anom_data = utility.preprocess_data(False, n_anomalies=3450)"
   ]
  },
  {
   "cell_type": "code",
   "execution_count": 3,
   "metadata": {},
   "outputs": [],
   "source": [
    "# Define the hyperparameter grid\n",
    "param_grid = {\n",
    "    'kernel': ['linear', 'rbf', 'poly', 'sigmoid'],\n",
    "    'nu': [0.01, 0.05, 0.1, 0.2],  # An upper bound on the fraction of margin errors and a lower bound of the fraction of support vectors\n",
    "    'gamma': ['scale', 'auto', 0.1, 0.01, 0.001],  # Kernel coefficient for 'rbf', 'poly' and 'sigmoid'\n",
    "    'degree': [2, 3, 4],  # Degree of the polynomial kernel ('poly' only)\n",
    "}"
   ]
  },
  {
   "cell_type": "code",
   "execution_count": 6,
   "metadata": {},
   "outputs": [
    {
     "ename": "ValueError",
     "evalue": "Only one class present in y_true. ROC AUC score is not defined in that case.",
     "output_type": "error",
     "traceback": [
      "\u001b[1;31m---------------------------------------------------------------------------\u001b[0m",
      "\u001b[1;31mValueError\u001b[0m                                Traceback (most recent call last)",
      "Cell \u001b[1;32mIn[6], line 17\u001b[0m\n\u001b[0;32m     14\u001b[0m     scores_anom \u001b[38;5;241m=\u001b[39m model\u001b[38;5;241m.\u001b[39mdecision_function(test_data)\n\u001b[0;32m     16\u001b[0m     \u001b[38;5;66;03m# Calculate AUC score using roc_auc_score\u001b[39;00m\n\u001b[1;32m---> 17\u001b[0m     auc_score \u001b[38;5;241m=\u001b[39m \u001b[43mroc_auc_score\u001b[49m\u001b[43m(\u001b[49m\u001b[43mtest_true_labels\u001b[49m\u001b[43m,\u001b[49m\u001b[43m \u001b[49m\u001b[43mscores_anom\u001b[49m\u001b[43m)\u001b[49m\n\u001b[0;32m     19\u001b[0m     results\u001b[38;5;241m.\u001b[39mappend({\u001b[38;5;124m'\u001b[39m\u001b[38;5;124mparams\u001b[39m\u001b[38;5;124m'\u001b[39m: params, \u001b[38;5;124m'\u001b[39m\u001b[38;5;124mauc_score\u001b[39m\u001b[38;5;124m'\u001b[39m: auc_score})\n\u001b[0;32m     21\u001b[0m \u001b[38;5;66;03m# Sort results from best to worst\u001b[39;00m\n",
      "File \u001b[1;32mc:\\Users\\zippe\\AppData\\Local\\Programs\\Python\\Python311\\Lib\\site-packages\\sklearn\\utils\\_param_validation.py:211\u001b[0m, in \u001b[0;36mvalidate_params.<locals>.decorator.<locals>.wrapper\u001b[1;34m(*args, **kwargs)\u001b[0m\n\u001b[0;32m    205\u001b[0m \u001b[38;5;28;01mtry\u001b[39;00m:\n\u001b[0;32m    206\u001b[0m     \u001b[38;5;28;01mwith\u001b[39;00m config_context(\n\u001b[0;32m    207\u001b[0m         skip_parameter_validation\u001b[38;5;241m=\u001b[39m(\n\u001b[0;32m    208\u001b[0m             prefer_skip_nested_validation \u001b[38;5;129;01mor\u001b[39;00m global_skip_validation\n\u001b[0;32m    209\u001b[0m         )\n\u001b[0;32m    210\u001b[0m     ):\n\u001b[1;32m--> 211\u001b[0m         \u001b[38;5;28;01mreturn\u001b[39;00m \u001b[43mfunc\u001b[49m\u001b[43m(\u001b[49m\u001b[38;5;241;43m*\u001b[39;49m\u001b[43margs\u001b[49m\u001b[43m,\u001b[49m\u001b[43m \u001b[49m\u001b[38;5;241;43m*\u001b[39;49m\u001b[38;5;241;43m*\u001b[39;49m\u001b[43mkwargs\u001b[49m\u001b[43m)\u001b[49m\n\u001b[0;32m    212\u001b[0m \u001b[38;5;28;01mexcept\u001b[39;00m InvalidParameterError \u001b[38;5;28;01mas\u001b[39;00m e:\n\u001b[0;32m    213\u001b[0m     \u001b[38;5;66;03m# When the function is just a wrapper around an estimator, we allow\u001b[39;00m\n\u001b[0;32m    214\u001b[0m     \u001b[38;5;66;03m# the function to delegate validation to the estimator, but we replace\u001b[39;00m\n\u001b[0;32m    215\u001b[0m     \u001b[38;5;66;03m# the name of the estimator by the name of the function in the error\u001b[39;00m\n\u001b[0;32m    216\u001b[0m     \u001b[38;5;66;03m# message to avoid confusion.\u001b[39;00m\n\u001b[0;32m    217\u001b[0m     msg \u001b[38;5;241m=\u001b[39m re\u001b[38;5;241m.\u001b[39msub(\n\u001b[0;32m    218\u001b[0m         \u001b[38;5;124mr\u001b[39m\u001b[38;5;124m\"\u001b[39m\u001b[38;5;124mparameter of \u001b[39m\u001b[38;5;124m\\\u001b[39m\u001b[38;5;124mw+ must be\u001b[39m\u001b[38;5;124m\"\u001b[39m,\n\u001b[0;32m    219\u001b[0m         \u001b[38;5;124mf\u001b[39m\u001b[38;5;124m\"\u001b[39m\u001b[38;5;124mparameter of \u001b[39m\u001b[38;5;132;01m{\u001b[39;00mfunc\u001b[38;5;241m.\u001b[39m\u001b[38;5;18m__qualname__\u001b[39m\u001b[38;5;132;01m}\u001b[39;00m\u001b[38;5;124m must be\u001b[39m\u001b[38;5;124m\"\u001b[39m,\n\u001b[0;32m    220\u001b[0m         \u001b[38;5;28mstr\u001b[39m(e),\n\u001b[0;32m    221\u001b[0m     )\n",
      "File \u001b[1;32mc:\\Users\\zippe\\AppData\\Local\\Programs\\Python\\Python311\\Lib\\site-packages\\sklearn\\metrics\\_ranking.py:627\u001b[0m, in \u001b[0;36mroc_auc_score\u001b[1;34m(y_true, y_score, average, sample_weight, max_fpr, multi_class, labels)\u001b[0m\n\u001b[0;32m    625\u001b[0m     labels \u001b[38;5;241m=\u001b[39m np\u001b[38;5;241m.\u001b[39munique(y_true)\n\u001b[0;32m    626\u001b[0m     y_true \u001b[38;5;241m=\u001b[39m label_binarize(y_true, classes\u001b[38;5;241m=\u001b[39mlabels)[:, \u001b[38;5;241m0\u001b[39m]\n\u001b[1;32m--> 627\u001b[0m     \u001b[38;5;28;01mreturn\u001b[39;00m \u001b[43m_average_binary_score\u001b[49m\u001b[43m(\u001b[49m\n\u001b[0;32m    628\u001b[0m \u001b[43m        \u001b[49m\u001b[43mpartial\u001b[49m\u001b[43m(\u001b[49m\u001b[43m_binary_roc_auc_score\u001b[49m\u001b[43m,\u001b[49m\u001b[43m \u001b[49m\u001b[43mmax_fpr\u001b[49m\u001b[38;5;241;43m=\u001b[39;49m\u001b[43mmax_fpr\u001b[49m\u001b[43m)\u001b[49m\u001b[43m,\u001b[49m\n\u001b[0;32m    629\u001b[0m \u001b[43m        \u001b[49m\u001b[43my_true\u001b[49m\u001b[43m,\u001b[49m\n\u001b[0;32m    630\u001b[0m \u001b[43m        \u001b[49m\u001b[43my_score\u001b[49m\u001b[43m,\u001b[49m\n\u001b[0;32m    631\u001b[0m \u001b[43m        \u001b[49m\u001b[43maverage\u001b[49m\u001b[43m,\u001b[49m\n\u001b[0;32m    632\u001b[0m \u001b[43m        \u001b[49m\u001b[43msample_weight\u001b[49m\u001b[38;5;241;43m=\u001b[39;49m\u001b[43msample_weight\u001b[49m\u001b[43m,\u001b[49m\n\u001b[0;32m    633\u001b[0m \u001b[43m    \u001b[49m\u001b[43m)\u001b[49m\n\u001b[0;32m    634\u001b[0m \u001b[38;5;28;01melse\u001b[39;00m:  \u001b[38;5;66;03m# multilabel-indicator\u001b[39;00m\n\u001b[0;32m    635\u001b[0m     \u001b[38;5;28;01mreturn\u001b[39;00m _average_binary_score(\n\u001b[0;32m    636\u001b[0m         partial(_binary_roc_auc_score, max_fpr\u001b[38;5;241m=\u001b[39mmax_fpr),\n\u001b[0;32m    637\u001b[0m         y_true,\n\u001b[1;32m   (...)\u001b[0m\n\u001b[0;32m    640\u001b[0m         sample_weight\u001b[38;5;241m=\u001b[39msample_weight,\n\u001b[0;32m    641\u001b[0m     )\n",
      "File \u001b[1;32mc:\\Users\\zippe\\AppData\\Local\\Programs\\Python\\Python311\\Lib\\site-packages\\sklearn\\metrics\\_base.py:75\u001b[0m, in \u001b[0;36m_average_binary_score\u001b[1;34m(binary_metric, y_true, y_score, average, sample_weight)\u001b[0m\n\u001b[0;32m     72\u001b[0m     \u001b[38;5;28;01mraise\u001b[39;00m \u001b[38;5;167;01mValueError\u001b[39;00m(\u001b[38;5;124m\"\u001b[39m\u001b[38;5;132;01m{0}\u001b[39;00m\u001b[38;5;124m format is not supported\u001b[39m\u001b[38;5;124m\"\u001b[39m\u001b[38;5;241m.\u001b[39mformat(y_type))\n\u001b[0;32m     74\u001b[0m \u001b[38;5;28;01mif\u001b[39;00m y_type \u001b[38;5;241m==\u001b[39m \u001b[38;5;124m\"\u001b[39m\u001b[38;5;124mbinary\u001b[39m\u001b[38;5;124m\"\u001b[39m:\n\u001b[1;32m---> 75\u001b[0m     \u001b[38;5;28;01mreturn\u001b[39;00m \u001b[43mbinary_metric\u001b[49m\u001b[43m(\u001b[49m\u001b[43my_true\u001b[49m\u001b[43m,\u001b[49m\u001b[43m \u001b[49m\u001b[43my_score\u001b[49m\u001b[43m,\u001b[49m\u001b[43m \u001b[49m\u001b[43msample_weight\u001b[49m\u001b[38;5;241;43m=\u001b[39;49m\u001b[43msample_weight\u001b[49m\u001b[43m)\u001b[49m\n\u001b[0;32m     77\u001b[0m check_consistent_length(y_true, y_score, sample_weight)\n\u001b[0;32m     78\u001b[0m y_true \u001b[38;5;241m=\u001b[39m check_array(y_true)\n",
      "File \u001b[1;32mc:\\Users\\zippe\\AppData\\Local\\Programs\\Python\\Python311\\Lib\\site-packages\\sklearn\\metrics\\_ranking.py:382\u001b[0m, in \u001b[0;36m_binary_roc_auc_score\u001b[1;34m(y_true, y_score, sample_weight, max_fpr)\u001b[0m\n\u001b[0;32m    380\u001b[0m \u001b[38;5;250m\u001b[39m\u001b[38;5;124;03m\"\"\"Binary roc auc score.\"\"\"\u001b[39;00m\n\u001b[0;32m    381\u001b[0m \u001b[38;5;28;01mif\u001b[39;00m \u001b[38;5;28mlen\u001b[39m(np\u001b[38;5;241m.\u001b[39munique(y_true)) \u001b[38;5;241m!=\u001b[39m \u001b[38;5;241m2\u001b[39m:\n\u001b[1;32m--> 382\u001b[0m     \u001b[38;5;28;01mraise\u001b[39;00m \u001b[38;5;167;01mValueError\u001b[39;00m(\n\u001b[0;32m    383\u001b[0m         \u001b[38;5;124m\"\u001b[39m\u001b[38;5;124mOnly one class present in y_true. ROC AUC score \u001b[39m\u001b[38;5;124m\"\u001b[39m\n\u001b[0;32m    384\u001b[0m         \u001b[38;5;124m\"\u001b[39m\u001b[38;5;124mis not defined in that case.\u001b[39m\u001b[38;5;124m\"\u001b[39m\n\u001b[0;32m    385\u001b[0m     )\n\u001b[0;32m    387\u001b[0m fpr, tpr, _ \u001b[38;5;241m=\u001b[39m roc_curve(y_true, y_score, sample_weight\u001b[38;5;241m=\u001b[39msample_weight)\n\u001b[0;32m    388\u001b[0m \u001b[38;5;28;01mif\u001b[39;00m max_fpr \u001b[38;5;129;01mis\u001b[39;00m \u001b[38;5;28;01mNone\u001b[39;00m \u001b[38;5;129;01mor\u001b[39;00m max_fpr \u001b[38;5;241m==\u001b[39m \u001b[38;5;241m1\u001b[39m:\n",
      "\u001b[1;31mValueError\u001b[0m: Only one class present in y_true. ROC AUC score is not defined in that case."
     ]
    }
   ],
   "source": [
    "# Store results in a list\n",
    "results = []\n",
    "\n",
    "for params in ParameterGrid(param_grid):\n",
    "\n",
    "\n",
    "    model = svm.OneClassSVM(**params)\n",
    "\n",
    "    train_data_generator = utility.data_generator(train_data)\n",
    "\n",
    "    for batch in train_data_generator:\n",
    "        model.fit(batch)\n",
    "\n",
    "    scores_anom = model.decision_function(test_data)\n",
    "    \n",
    "    # Calculate AUC score using roc_auc_score\n",
    "    auc_score = roc_auc_score(test_true_labels, scores_anom)\n",
    "    \n",
    "    results.append({'params': params, 'auc_score': auc_score})\n",
    "\n",
    "# Sort results from best to worst\n",
    "results = sorted(results, key=lambda x: x['auc_score'], reverse=True)\n",
    "\n",
    "# Print results\n",
    "for i, result in enumerate(results, start=1):\n",
    "    print(f\"Rank {i}: AUC Score {result['auc_score']:.4f} - Parameters: {result['params']}\")"
   ]
  },
  {
   "cell_type": "code",
   "execution_count": null,
   "metadata": {},
   "outputs": [],
   "source": [
    "# Rank 1: AUC Score 0.7224 - Parameters: {'degree': 2, 'gamma': 0.001, 'kernel': 'rbf', 'nu': 0.001}\n",
    "# Rank 2: AUC Score 0.7224 - Parameters: {'degree': 3, 'gamma': 0.001, 'kernel': 'rbf', 'nu': 0.001}\n",
    "# Rank 3: AUC Score 0.7224 - Parameters: {'degree': 4, 'gamma': 0.001, 'kernel': 'rbf', 'nu': 0.001}\n",
    "# Rank 4: AUC Score 0.7115 - Parameters: {'degree': 2, 'gamma': 'auto', 'kernel': 'rbf', 'nu': 0.001}\n",
    "# Rank 5: AUC Score 0.7115 - Parameters: {'degree': 3, 'gamma': 'auto', 'kernel': 'rbf', 'nu': 0.001}\n",
    "# Rank 6: AUC Score 0.7115 - Parameters: {'degree': 4, 'gamma': 'auto', 'kernel': 'rbf', 'nu': 0.001}\n",
    "# Rank 7: AUC Score 0.7090 - Parameters: {'degree': 2, 'gamma': 0.1, 'kernel': 'sigmoid', 'nu': 0.001}\n",
    "# Rank 8: AUC Score 0.7090 - Parameters: {'degree': 3, 'gamma': 0.1, 'kernel': 'sigmoid', 'nu': 0.001}\n",
    "# Rank 9: AUC Score 0.7090 - Parameters: {'degree': 4, 'gamma': 0.1, 'kernel': 'sigmoid', 'nu': 0.001}\n",
    "# Rank 10: AUC Score 0.6801 - Parameters: {'degree': 2, 'gamma': 'auto', 'kernel': 'poly', 'nu': 0.001}\n",
    "# Rank 11: AUC Score 0.6362 - Parameters: {'degree': 4, 'gamma': 0.1, 'kernel': 'poly', 'nu': 0.001}\n",
    "# Rank 12: AUC Score 0.6313 - Parameters: {'degree': 4, 'gamma': 'scale', 'kernel': 'poly', 'nu': 0.001}\n",
    "# Rank 13: AUC Score 0.6288 - Parameters: {'degree': 4, 'gamma': 0.01, 'kernel': 'poly', 'nu': 0.001}\n",
    "# Rank 14: AUC Score 0.6266 - Parameters: {'degree': 3, 'gamma': 'scale', 'kernel': 'poly', 'nu': 0.001}\n",
    "# Rank 15: AUC Score 0.6247 - Parameters: {'degree': 2, 'gamma': 'auto', 'kernel': 'sigmoid', 'nu': 0.001}\n",
    "# Rank 16: AUC Score 0.6247 - Parameters: {'degree': 3, 'gamma': 'auto', 'kernel': 'sigmoid', 'nu': 0.001}\n",
    "# Rank 17: AUC Score 0.6247 - Parameters: {'degree': 4, 'gamma': 'auto', 'kernel': 'sigmoid', 'nu': 0.001}\n",
    "# Rank 18: AUC Score 0.6236 - Parameters: {'degree': 3, 'gamma': 0.1, 'kernel': 'poly', 'nu': 0.001}\n",
    "# Rank 19: AUC Score 0.6219 - Parameters: {'degree': 2, 'gamma': 'scale', 'kernel': 'sigmoid', 'nu': 0.001}\n",
    "# Rank 20: AUC Score 0.6219 - Parameters: {'degree': 3, 'gamma': 'scale', 'kernel': 'sigmoid', 'nu': 0.001}\n",
    "# Rank 21: AUC Score 0.6219 - Parameters: {'degree': 4, 'gamma': 'scale', 'kernel': 'sigmoid', 'nu': 0.001}\n",
    "# Rank 22: AUC Score 0.6217 - Parameters: {'degree': 2, 'gamma': 0.01, 'kernel': 'sigmoid', 'nu': 0.001}\n",
    "# Rank 23: AUC Score 0.6217 - Parameters: {'degree': 3, 'gamma': 0.01, 'kernel': 'sigmoid', 'nu': 0.001}\n",
    "# Rank 24: AUC Score 0.6217 - Parameters: {'degree': 4, 'gamma': 0.01, 'kernel': 'sigmoid', 'nu': 0.001}\n",
    "# Rank 25: AUC Score 0.6189 - Parameters: {'degree': 2, 'gamma': 'scale', 'kernel': 'linear', 'nu': 0.001}\n",
    "# Rank 26: AUC Score 0.6189 - Parameters: {'degree': 2, 'gamma': 'auto', 'kernel': 'linear', 'nu': 0.001}\n",
    "# Rank 27: AUC Score 0.6189 - Parameters: {'degree': 2, 'gamma': 0.1, 'kernel': 'linear', 'nu': 0.001}\n",
    "# Rank 28: AUC Score 0.6189 - Parameters: {'degree': 2, 'gamma': 0.01, 'kernel': 'linear', 'nu': 0.001}\n",
    "# Rank 29: AUC Score 0.6189 - Parameters: {'degree': 2, 'gamma': 0.001, 'kernel': 'linear', 'nu': 0.001}\n",
    "# Rank 30: AUC Score 0.6189 - Parameters: {'degree': 3, 'gamma': 'scale', 'kernel': 'linear', 'nu': 0.001}\n",
    "# Rank 31: AUC Score 0.6189 - Parameters: {'degree': 3, 'gamma': 'auto', 'kernel': 'linear', 'nu': 0.001}\n",
    "# Rank 32: AUC Score 0.6189 - Parameters: {'degree': 3, 'gamma': 0.1, 'kernel': 'linear', 'nu': 0.001}\n",
    "# Rank 33: AUC Score 0.6189 - Parameters: {'degree': 3, 'gamma': 0.01, 'kernel': 'linear', 'nu': 0.001}\n",
    "# Rank 34: AUC Score 0.6189 - Parameters: {'degree': 3, 'gamma': 0.001, 'kernel': 'linear', 'nu': 0.001}\n",
    "# Rank 35: AUC Score 0.6189 - Parameters: {'degree': 4, 'gamma': 'scale', 'kernel': 'linear', 'nu': 0.001}\n",
    "# Rank 36: AUC Score 0.6189 - Parameters: {'degree': 4, 'gamma': 'auto', 'kernel': 'linear', 'nu': 0.001}\n",
    "# Rank 37: AUC Score 0.6189 - Parameters: {'degree': 4, 'gamma': 0.1, 'kernel': 'linear', 'nu': 0.001}\n",
    "# Rank 38: AUC Score 0.6189 - Parameters: {'degree': 4, 'gamma': 0.01, 'kernel': 'linear', 'nu': 0.001}\n",
    "# Rank 39: AUC Score 0.6189 - Parameters: {'degree': 4, 'gamma': 0.001, 'kernel': 'linear', 'nu': 0.001}\n",
    "# Rank 40: AUC Score 0.6188 - Parameters: {'degree': 3, 'gamma': 0.01, 'kernel': 'poly', 'nu': 0.001}\n",
    "# Rank 41: AUC Score 0.6182 - Parameters: {'degree': 2, 'gamma': 0.001, 'kernel': 'sigmoid', 'nu': 0.001}\n",
    "# Rank 42: AUC Score 0.6182 - Parameters: {'degree': 3, 'gamma': 0.001, 'kernel': 'sigmoid', 'nu': 0.001}\n",
    "# Rank 43: AUC Score 0.6182 - Parameters: {'degree': 4, 'gamma': 0.001, 'kernel': 'sigmoid', 'nu': 0.001}\n",
    "# Rank 44: AUC Score 0.6177 - Parameters: {'degree': 2, 'gamma': 'scale', 'kernel': 'poly', 'nu': 0.001}\n",
    "# Rank 45: AUC Score 0.6167 - Parameters: {'degree': 2, 'gamma': 0.01, 'kernel': 'poly', 'nu': 0.001}\n",
    "# Rank 46: AUC Score 0.6163 - Parameters: {'degree': 2, 'gamma': 0.1, 'kernel': 'poly', 'nu': 0.001}\n",
    "# Rank 47: AUC Score 0.4959 - Parameters: {'degree': 2, 'gamma': 0.01, 'kernel': 'rbf', 'nu': 0.001}\n",
    "# Rank 48: AUC Score 0.4959 - Parameters: {'degree': 3, 'gamma': 0.01, 'kernel': 'rbf', 'nu': 0.001}\n",
    "# Rank 49: AUC Score 0.4959 - Parameters: {'degree': 4, 'gamma': 0.01, 'kernel': 'rbf', 'nu': 0.001}\n",
    "# Rank 50: AUC Score 0.4798 - Parameters: {'degree': 2, 'gamma': 'scale', 'kernel': 'rbf', 'nu': 0.001}\n",
    "# Rank 51: AUC Score 0.4798 - Parameters: {'degree': 3, 'gamma': 'scale', 'kernel': 'rbf', 'nu': 0.001}\n",
    "# Rank 52: AUC Score 0.4798 - Parameters: {'degree': 4, 'gamma': 'scale', 'kernel': 'rbf', 'nu': 0.001}\n",
    "# Rank 53: AUC Score 0.4514 - Parameters: {'degree': 4, 'gamma': 0.001, 'kernel': 'poly', 'nu': 0.001}\n",
    "# Rank 54: AUC Score 0.4514 - Parameters: {'degree': 3, 'gamma': 'auto', 'kernel': 'poly', 'nu': 0.001}\n",
    "# Rank 55: AUC Score 0.4514 - Parameters: {'degree': 3, 'gamma': 0.001, 'kernel': 'poly', 'nu': 0.001}\n",
    "# Rank 56: AUC Score 0.4514 - Parameters: {'degree': 4, 'gamma': 'auto', 'kernel': 'poly', 'nu': 0.001}\n",
    "# Rank 57: AUC Score 0.4329 - Parameters: {'degree': 2, 'gamma': 0.001, 'kernel': 'poly', 'nu': 0.001}\n",
    "# Rank 58: AUC Score 0.4018 - Parameters: {'degree': 2, 'gamma': 0.1, 'kernel': 'rbf', 'nu': 0.001}\n",
    "# Rank 59: AUC Score 0.4018 - Parameters: {'degree': 3, 'gamma': 0.1, 'kernel': 'rbf', 'nu': 0.001}\n",
    "# Rank 60: AUC Score 0.4018 - Parameters: {'degree': 4, 'gamma': 0.1, 'kernel': 'rbf', 'nu': 0.001}"
   ]
  }
 ],
 "metadata": {
  "kernelspec": {
   "display_name": "Python 3",
   "language": "python",
   "name": "python3"
  },
  "language_info": {
   "codemirror_mode": {
    "name": "ipython",
    "version": 3
   },
   "file_extension": ".py",
   "mimetype": "text/x-python",
   "name": "python",
   "nbconvert_exporter": "python",
   "pygments_lexer": "ipython3",
   "version": "3.11.4"
  }
 },
 "nbformat": 4,
 "nbformat_minor": 2
}
