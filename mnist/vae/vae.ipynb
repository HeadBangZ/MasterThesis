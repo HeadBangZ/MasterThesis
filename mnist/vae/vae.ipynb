{
 "cells": [
  {
   "cell_type": "code",
   "execution_count": 53,
   "metadata": {},
   "outputs": [],
   "source": [
    "# data processing\n",
    "import pandas as pd\n",
    "import numpy as np\n",
    "\n",
    "# modelling\n",
    "import tensorflow as tf\n",
    "from tensorflow import keras\n",
    "from sklearn.metrics import classification_report, auc, roc_curve, accuracy_score, precision_recall_curve, precision_recall_fscore_support\n",
    "from sklearn.manifold import TSNE\n",
    "from sklearn.model_selection import train_test_split\n",
    "\n",
    "# visualization\n",
    "import matplotlib.pyplot as plt\n",
    "import seaborn as sns"
   ]
  },
  {
   "cell_type": "code",
   "execution_count": 54,
   "metadata": {},
   "outputs": [],
   "source": [
    "mnist = keras.datasets.mnist\n",
    "(train_images, train_labels), (test_images, test_labels) = mnist.load_data()\n",
    "\n",
    "x_train, x_val = train_test_split(train_images, test_size=0.2, random_state=42)"
   ]
  },
  {
   "cell_type": "code",
   "execution_count": 55,
   "metadata": {},
   "outputs": [
    {
     "name": "stdout",
     "output_type": "stream",
     "text": [
      "Dataset split: 48000 train rows\n",
      "Dataset split: 12000 test rows\n"
     ]
    },
    {
     "data": {
      "image/png": "[encoded data removed]",
      "text/plain": [
       "<Figure size 640x480 with 1 Axes>"
      ]
     },
     "metadata": {},
     "output_type": "display_data"
    }
   ],
   "source": [
    "print(f\"Dataset split: {len(x_train)} train rows\")\n",
    "print(f\"Dataset split: {len(x_val)} test rows\")\n",
    "\n",
    "point = x_train[0].reshape(28, 28)\n",
    "\n",
    "plt.imshow(point, cmap='gray')\n",
    "plt.show()"
   ]
  },
  {
   "cell_type": "code",
   "execution_count": 56,
   "metadata": {},
   "outputs": [
    {
     "name": "stdout",
     "output_type": "stream",
     "text": [
      "(48000, 28, 28)\n",
      "(12000, 28, 28)\n",
      "(10000, 28, 28)\n"
     ]
    }
   ],
   "source": [
    "print(x_train.shape)\n",
    "print(x_val.shape)\n",
    "print(test_images.shape)"
   ]
  },
  {
   "cell_type": "code",
   "execution_count": 57,
   "metadata": {},
   "outputs": [],
   "source": [
    "# normalize data\n",
    "x_train = x_train.astype(np.float32) / 255\n",
    "x_val = x_val.astype(np.float32) / 255\n",
    "\n",
    "# reshape\n",
    "x_train = x_train.reshape(-1, 784)\n",
    "x_val = x_val.reshape(-1, 784)\n",
    "test_images = test_images.reshape(-1, 784)"
   ]
  },
  {
   "cell_type": "code",
   "execution_count": 58,
   "metadata": {},
   "outputs": [
    {
     "name": "stdout",
     "output_type": "stream",
     "text": [
      "(48000, 784)\n",
      "(12000, 784)\n",
      "(10000, 784)\n"
     ]
    }
   ],
   "source": [
    "print(x_train.shape)\n",
    "print(x_val.shape)\n",
    "print(test_images.shape)"
   ]
  },
  {
   "cell_type": "code",
   "execution_count": 59,
   "metadata": {},
   "outputs": [],
   "source": [
    "latent_dim = 2"
   ]
  },
  {
   "cell_type": "code",
   "execution_count": 60,
   "metadata": {},
   "outputs": [],
   "source": [
    "# encoder\n",
    "vae_input = keras.layers.Input(shape=(784,))\n",
    "x = keras.layers.Dense(256, activation='relu')(vae_input)\n",
    "x = keras.layers.Dense(128, activation='relu')(x)\n",
    "z_mean = keras.layers.Dense(latent_dim)(x)\n",
    "z_log_var = keras.layers.Dense(latent_dim)(x)"
   ]
  },
  {
   "cell_type": "code",
   "execution_count": 61,
   "metadata": {},
   "outputs": [],
   "source": [
    "def sampling(args):\n",
    "    z_mean, z_log_var = args\n",
    "    epsilon = tf.keras.backend.random_normal(shape=tf.shape(z_mean), mean=0., stddev=1.0)\n",
    "    return z_mean + tf.exp(0.5 * z_log_var) * epsilon"
   ]
  },
  {
   "cell_type": "code",
   "execution_count": 62,
   "metadata": {},
   "outputs": [],
   "source": [
    "z = keras.layers.Lambda(lambda x: sampling(x))([z_mean, z_log_var])"
   ]
  },
  {
   "cell_type": "code",
   "execution_count": 63,
   "metadata": {},
   "outputs": [],
   "source": [
    "# decoder\n",
    "decoder_input = keras.layers.Input(shape=(latent_dim,))\n",
    "x = keras.layers.Dense(128, activation='relu')(decoder_input)\n",
    "x = keras.layers.Dense(256, activation='relu')(x)\n",
    "x = keras.layers.Dense(784, activation='sigmoid')(x)\n",
    "decoded = x"
   ]
  },
  {
   "cell_type": "code",
   "execution_count": 64,
   "metadata": {},
   "outputs": [],
   "source": [
    "# Encoder model\n",
    "encoder = keras.models.Model(inputs=vae_input, outputs=[z_mean, z_log_var, z])\n",
    "\n",
    "# Decoder model\n",
    "decoder = keras.models.Model(inputs=decoder_input, outputs=decoded)"
   ]
  },
  {
   "cell_type": "code",
   "execution_count": 65,
   "metadata": {},
   "outputs": [],
   "source": [
    "vae_output = decoder(encoder(vae_input)[2])\n",
    "vae = keras.models.Model(inputs=vae_input, outputs=vae_output)"
   ]
  },
  {
   "cell_type": "code",
   "execution_count": 66,
   "metadata": {},
   "outputs": [],
   "source": [
    "def vae_loss(x, x_decoded_mean):\n",
    "    reconstruction_loss = tf.reduce_mean(tf.square(x - x_decoded_mean))\n",
    "    kl_loss = 1 + z_log_var - tf.square(z_mean) - tf.exp(z_log_var)\n",
    "    kl_loss = -0.5 * tf.reduce_mean(kl_loss, axis=-1)\n",
    "    vae_loss = reconstruction_loss + kl_loss\n",
    "    return vae_loss\n",
    "\n",
    "vae.add_loss(vae_loss(vae_input, vae_output))"
   ]
  },
  {
   "cell_type": "code",
   "execution_count": 67,
   "metadata": {},
   "outputs": [],
   "source": [
    "vae.compile(optimizer='adam')"
   ]
  },
  {
   "cell_type": "code",
   "execution_count": 68,
   "metadata": {},
   "outputs": [
    {
     "name": "stdout",
     "output_type": "stream",
     "text": [
      "Epoch 1/20\n"
     ]
    },
    {
     "name": "stdout",
     "output_type": "stream",
     "text": [
      "750/750 [==============================] - 4s 4ms/step - loss: 0.0724 - val_loss: 0.0672\n",
      "Epoch 2/20\n",
      "750/750 [==============================] - 3s 4ms/step - loss: 0.0675 - val_loss: 0.0672\n",
      "Epoch 3/20\n",
      "750/750 [==============================] - 3s 4ms/step - loss: 0.0674 - val_loss: 0.0672\n",
      "Epoch 4/20\n",
      "750/750 [==============================] - 3s 4ms/step - loss: 0.0674 - val_loss: 0.0672\n",
      "Epoch 5/20\n",
      "750/750 [==============================] - 3s 4ms/step - loss: 0.0674 - val_loss: 0.0671\n",
      "Epoch 6/20\n",
      "750/750 [==============================] - 3s 4ms/step - loss: 0.0674 - val_loss: 0.0671\n",
      "Epoch 7/20\n",
      "750/750 [==============================] - 3s 4ms/step - loss: 0.0674 - val_loss: 0.0671\n",
      "Epoch 8/20\n",
      "750/750 [==============================] - 3s 4ms/step - loss: 0.0674 - val_loss: 0.0671\n",
      "Epoch 9/20\n",
      "750/750 [==============================] - 3s 4ms/step - loss: 0.0674 - val_loss: 0.0670\n",
      "Epoch 10/20\n",
      "750/750 [==============================] - 3s 4ms/step - loss: 0.0673 - val_loss: 0.0671\n",
      "Epoch 11/20\n",
      "750/750 [==============================] - 3s 4ms/step - loss: 0.0673 - val_loss: 0.0671\n",
      "Epoch 12/20\n",
      "750/750 [==============================] - 3s 4ms/step - loss: 0.0673 - val_loss: 0.0671\n",
      "Epoch 13/20\n",
      "750/750 [==============================] - 3s 4ms/step - loss: 0.0673 - val_loss: 0.0670\n",
      "Epoch 14/20\n",
      "750/750 [==============================] - 3s 4ms/step - loss: 0.0673 - val_loss: 0.0671\n",
      "Epoch 15/20\n",
      "750/750 [==============================] - 3s 4ms/step - loss: 0.0673 - val_loss: 0.0670\n",
      "Epoch 16/20\n",
      "750/750 [==============================] - 3s 4ms/step - loss: 0.0673 - val_loss: 0.0670\n",
      "Epoch 17/20\n",
      "750/750 [==============================] - 3s 4ms/step - loss: 0.0673 - val_loss: 0.0670\n",
      "Epoch 18/20\n",
      "750/750 [==============================] - 3s 4ms/step - loss: 0.0673 - val_loss: 0.0670\n",
      "Epoch 19/20\n",
      "750/750 [==============================] - 3s 4ms/step - loss: 0.0673 - val_loss: 0.0670\n",
      "Epoch 20/20\n",
      "750/750 [==============================] - 3s 4ms/step - loss: 0.0673 - val_loss: 0.0670\n"
     ]
    },
    {
     "data": {
      "text/plain": [
       "<keras.src.callbacks.History at 0x1ac9174a850>"
      ]
     },
     "execution_count": 68,
     "metadata": {},
     "output_type": "execute_result"
    }
   ],
   "source": [
    "vae.fit(x_train, x_train, epochs=20, batch_size=64, validation_data=(x_val, x_val))"
   ]
  },
  {
   "cell_type": "code",
   "execution_count": 69,
   "metadata": {},
   "outputs": [
    {
     "name": "stdout",
     "output_type": "stream",
     "text": [
      "313/313 [==============================] - 0s 1ms/step\n"
     ]
    }
   ],
   "source": [
    "decoded_images = vae.predict(test_images)\n",
    "\n",
    "# calculate the reconstruction error for each sample\n",
    "reconstruction_errors = np.mean(np.square(test_images - decoded_images), axis=1)"
   ]
  },
  {
   "cell_type": "code",
   "execution_count": 70,
   "metadata": {},
   "outputs": [],
   "source": [
    "# define a threshold for anomaly detection\n",
    "threshold = np.percentile(reconstruction_errors, 95)\n",
    "\n",
    "# Identify anomalies based on the threshold\n",
    "anomaly_indexes = np.where(reconstruction_errors > threshold)[0]"
   ]
  },
  {
   "cell_type": "code",
   "execution_count": 71,
   "metadata": {},
   "outputs": [],
   "source": [
    "# Get all the anomalies from the test_images\n",
    "anomalies = test_images[anomaly_indexes]\n",
    "\n",
    "# Create binary labels where 1 represents anomalies and 0 represents non-anomalies\n",
    "anomaly_labels = np.where(reconstruction_errors > threshold, 1, 0)"
   ]
  },
  {
   "cell_type": "code",
   "execution_count": 72,
   "metadata": {},
   "outputs": [
    {
     "name": "stdout",
     "output_type": "stream",
     "text": [
      "500\n"
     ]
    }
   ],
   "source": [
    "print(len(anomalies))"
   ]
  },
  {
   "cell_type": "code",
   "execution_count": 73,
   "metadata": {},
   "outputs": [],
   "source": [
    "# Save the anomaly indexes to a file\n",
    "with open(\"anomaly_indexes.txt\", \"w\") as file:\n",
    "    for idx in anomaly_indexes:\n",
    "        file.write(str(idx) + \"\\n\")"
   ]
  },
  {
   "cell_type": "code",
   "execution_count": 74,
   "metadata": {},
   "outputs": [
    {
     "data": {
      "image/png": "[encoded data removed]",
      "text/plain": [
       "<Figure size 1200x800 with 10 Axes>"
      ]
     },
     "metadata": {},
     "output_type": "display_data"
    }
   ],
   "source": [
    "# Plot some of the anomalies\n",
    "plt.figure(figsize=(12, 8))\n",
    "for i, idx in enumerate(anomaly_indexes[:10]):  # Plot the first 10 anomalies\n",
    "    plt.subplot(2, 5, i + 1)\n",
    "    plt.imshow(test_images[idx].reshape(28, 28), cmap='gray')\n",
    "    plt.title(f'Anomaly {i+1}')\n",
    "    plt.axis('off')\n",
    "plt.tight_layout()\n",
    "plt.show()"
   ]
  },
  {
   "cell_type": "code",
   "execution_count": 75,
   "metadata": {},
   "outputs": [
    {
     "data": {
      "image/png": "[encoded data removed]",
      "text/plain": [
       "<Figure size 800x600 with 1 Axes>"
      ]
     },
     "metadata": {},
     "output_type": "display_data"
    }
   ],
   "source": [
    "plt.figure(figsize=(8, 6))\n",
    "plt.boxplot(reconstruction_errors, vert=False)\n",
    "plt.title('Box Plot of Anomaly Scores')\n",
    "plt.show()"
   ]
  },
  {
   "cell_type": "code",
   "execution_count": 76,
   "metadata": {},
   "outputs": [
    {
     "name": "stdout",
     "output_type": "stream",
     "text": [
      "Precision: 0.01\n",
      "Recall: 0.01\n",
      "F1 Score: 0.01\n"
     ]
    }
   ],
   "source": [
    "# calculate the true positve rate and false positive rate for different threshold levels\n",
    "y_true = [1 if i in anomalies else 0 for i in range(len(test_images))]\n",
    "\n",
    "# calculate the precision, recall, and f1 score\n",
    "precision, recall, f1, _ = precision_recall_fscore_support(y_true, anomaly_labels)\n",
    "\n",
    "# print precision, recall, and f1 score\n",
    "print(f'Precision: {precision[1]:.2f}')\n",
    "print(f'Recall: {recall[1]:.2f}')\n",
    "print(f'F1 Score: {f1[1]:.2f}')"
   ]
  },
  {
   "cell_type": "code",
   "execution_count": 77,
   "metadata": {},
   "outputs": [],
   "source": [
    "# calculate the precision and recall for different threshold levels\n",
    "precision, recall, thresholds = precision_recall_curve(y_true, reconstruction_errors)\n",
    "\n",
    "# calculate the area under the precision-recall curve\n",
    "pr_auc = auc(recall, precision)"
   ]
  },
  {
   "cell_type": "code",
   "execution_count": 78,
   "metadata": {},
   "outputs": [
    {
     "data": {
      "image/png": "[encoded data removed]",
      "text/plain": [
       "<Figure size 640x480 with 1 Axes>"
      ]
     },
     "metadata": {},
     "output_type": "display_data"
    }
   ],
   "source": [
    "plt.figure()\n",
    "plt.plot(recall, precision, color='darkorange', lw=2, label='PR Curve (area = %0.2f)' % pr_auc)\n",
    "plt.xlim([0.0, 1.0])\n",
    "plt.ylim([0.0, 1.05])\n",
    "plt.xlabel('Recall')\n",
    "plt.ylabel('Precision')\n",
    "plt.title('Precision-Recall Curve')\n",
    "plt.legend(loc='lower right')\n",
    "plt.show()"
   ]
  },
  {
   "cell_type": "code",
   "execution_count": 79,
   "metadata": {},
   "outputs": [
    {
     "name": "stdout",
     "output_type": "stream",
     "text": [
      "              precision    recall  f1-score   support\n",
      "\n",
      "           0       0.97      0.95      0.96      9744\n",
      "           1       0.01      0.01      0.01       256\n",
      "\n",
      "    accuracy                           0.93     10000\n",
      "   macro avg       0.49      0.48      0.48     10000\n",
      "weighted avg       0.95      0.93      0.94     10000\n",
      "\n"
     ]
    }
   ],
   "source": [
    "# create binary labels for anomalies and generate a classification report\n",
    "# binary labels where 1 represents anomalies and 0 represents non-anomalies\n",
    "anomaly_labels = np.where(reconstruction_errors > threshold, 1, 0)\n",
    "report = classification_report(y_true, anomaly_labels)\n",
    "print(report)"
   ]
  }
 ],
 "metadata": {
  "kernelspec": {
   "display_name": "Python 3",
   "language": "python",
   "name": "python3"
  },
  "language_info": {
   "codemirror_mode": {
    "name": "ipython",
    "version": 3
   },
   "file_extension": ".py",
   "mimetype": "text/x-python",
   "name": "python",
   "nbconvert_exporter": "python",
   "pygments_lexer": "ipython3",
   "version": "3.11.4"
  },
  "orig_nbformat": 4
 },
 "nbformat": 4,
 "nbformat_minor": 2
}
