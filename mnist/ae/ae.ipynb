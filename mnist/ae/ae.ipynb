{
 "cells": [
  {
   "cell_type": "code",
   "execution_count": 1,
   "metadata": {},
   "outputs": [],
   "source": [
    "# data processing\n",
    "import pandas as pd\n",
    "import numpy as np\n",
    "\n",
    "# modelling\n",
    "import tensorflow as tf\n",
    "from tensorflow import keras\n",
    "from sklearn.metrics import classification_report, auc, roc_curve, accuracy_score, precision_recall_curve, precision_recall_fscore_support\n",
    "from sklearn.manifold import TSNE\n",
    "from sklearn.model_selection import train_test_split\n",
    "\n",
    "# visualization\n",
    "import matplotlib.pyplot as plt\n",
    "import seaborn as sns"
   ]
  },
  {
   "cell_type": "code",
   "execution_count": 2,
   "metadata": {},
   "outputs": [],
   "source": [
    "mnist = keras.datasets.mnist\n",
    "(x_train, _), (x_test, _) = mnist.load_data()"
   ]
  },
  {
   "cell_type": "code",
   "execution_count": 3,
   "metadata": {},
   "outputs": [
    {
     "name": "stdout",
     "output_type": "stream",
     "text": [
      "Dataset split: 60000 train rows\n",
      "Dataset split: 10000 test rows\n"
     ]
    },
    {
     "data": {
      "image/png": "[encoded data removed]",
      "text/plain": [
       "<Figure size 640x480 with 1 Axes>"
      ]
     },
     "metadata": {},
     "output_type": "display_data"
    }
   ],
   "source": [
    "print(f\"Dataset split: {len(x_train)} train rows\")\n",
    "print(f\"Dataset split: {len(x_test)} test rows\")\n",
    "\n",
    "point = x_train[0].reshape(28, 28)\n",
    "\n",
    "plt.imshow(point, cmap='gray')\n",
    "plt.show()"
   ]
  },
  {
   "cell_type": "code",
   "execution_count": 4,
   "metadata": {},
   "outputs": [
    {
     "name": "stdout",
     "output_type": "stream",
     "text": [
      "(60000, 28, 28)\n",
      "(10000, 28, 28)\n"
     ]
    }
   ],
   "source": [
    "print(x_train.shape)\n",
    "print(x_test.shape)"
   ]
  },
  {
   "cell_type": "code",
   "execution_count": 5,
   "metadata": {},
   "outputs": [],
   "source": [
    "# Normalize pixel values to the range [0, 1]\n",
    "x_train = x_train.astype('float32') / 255.0\n",
    "x_test = x_test.astype('float32') / 255.0\n",
    "\n",
    "# reshape the data\n",
    "x_train = x_train.reshape(-1, 784)\n",
    "x_test = x_test.reshape(-1, 784)"
   ]
  },
  {
   "cell_type": "code",
   "execution_count": 6,
   "metadata": {},
   "outputs": [],
   "source": [
    "input_img = keras.layers.Input(shape=(784,))\n",
    "encoded = keras.layers.Dense(256, activation='relu')(input_img)\n",
    "encoded = keras.layers.Dense(128, activation='relu')(encoded)\n",
    "encoded = keras.layers.Dense(64, activation='relu')(encoded)\n",
    "encoded = keras.layers.Dense(32, activation='relu')(encoded)"
   ]
  },
  {
   "cell_type": "code",
   "execution_count": 7,
   "metadata": {},
   "outputs": [],
   "source": [
    "decoded = keras.layers.Dense(64, activation='relu')(encoded)\n",
    "decoded = keras.layers.Dense(128, activation='relu')(decoded)\n",
    "decoded = keras.layers.Dense(256, activation='relu')(decoded)\n",
    "decoded = keras.layers.Dense(784, activation='sigmoid')(decoded)"
   ]
  },
  {
   "cell_type": "code",
   "execution_count": 8,
   "metadata": {},
   "outputs": [],
   "source": [
    "autoencoder = keras.models.Model(input_img, decoded)"
   ]
  },
  {
   "cell_type": "code",
   "execution_count": 9,
   "metadata": {},
   "outputs": [],
   "source": [
    "autoencoder.compile(optimizer='adam', loss='mean_squared_error')"
   ]
  },
  {
   "cell_type": "code",
   "execution_count": 10,
   "metadata": {},
   "outputs": [
    {
     "name": "stdout",
     "output_type": "stream",
     "text": [
      "Epoch 1/20\n",
      "938/938 [==============================] - 4s 4ms/step - loss: 0.0362 - val_loss: 0.0209\n",
      "Epoch 2/20\n",
      "938/938 [==============================] - 3s 4ms/step - loss: 0.0182 - val_loss: 0.0158\n",
      "Epoch 3/20\n",
      "938/938 [==============================] - 3s 4ms/step - loss: 0.0146 - val_loss: 0.0135\n",
      "Epoch 4/20\n",
      "938/938 [==============================] - 3s 4ms/step - loss: 0.0126 - val_loss: 0.0116\n",
      "Epoch 5/20\n",
      "938/938 [==============================] - 3s 4ms/step - loss: 0.0114 - val_loss: 0.0110\n",
      "Epoch 6/20\n",
      "938/938 [==============================] - 3s 4ms/step - loss: 0.0106 - val_loss: 0.0102\n",
      "Epoch 7/20\n",
      "938/938 [==============================] - 3s 4ms/step - loss: 0.0100 - val_loss: 0.0098\n",
      "Epoch 8/20\n",
      "938/938 [==============================] - 3s 4ms/step - loss: 0.0095 - val_loss: 0.0091\n",
      "Epoch 9/20\n",
      "938/938 [==============================] - 3s 4ms/step - loss: 0.0090 - val_loss: 0.0091\n",
      "Epoch 10/20\n",
      "938/938 [==============================] - 3s 4ms/step - loss: 0.0086 - val_loss: 0.0086\n",
      "Epoch 11/20\n",
      "938/938 [==============================] - 3s 4ms/step - loss: 0.0084 - val_loss: 0.0082\n",
      "Epoch 12/20\n",
      "938/938 [==============================] - 3s 4ms/step - loss: 0.0081 - val_loss: 0.0081\n",
      "Epoch 13/20\n",
      "938/938 [==============================] - 3s 4ms/step - loss: 0.0079 - val_loss: 0.0081\n",
      "Epoch 14/20\n",
      "938/938 [==============================] - 3s 4ms/step - loss: 0.0077 - val_loss: 0.0076\n",
      "Epoch 15/20\n",
      "938/938 [==============================] - 3s 4ms/step - loss: 0.0075 - val_loss: 0.0075\n",
      "Epoch 16/20\n",
      "938/938 [==============================] - 3s 4ms/step - loss: 0.0073 - val_loss: 0.0074\n",
      "Epoch 17/20\n",
      "938/938 [==============================] - 3s 4ms/step - loss: 0.0072 - val_loss: 0.0072\n",
      "Epoch 18/20\n",
      "938/938 [==============================] - 3s 4ms/step - loss: 0.0071 - val_loss: 0.0071\n",
      "Epoch 19/20\n",
      "938/938 [==============================] - 3s 4ms/step - loss: 0.0070 - val_loss: 0.0071\n",
      "Epoch 20/20\n",
      "938/938 [==============================] - 3s 4ms/step - loss: 0.0069 - val_loss: 0.0071\n"
     ]
    },
    {
     "data": {
      "text/plain": [
       "<keras.src.callbacks.History at 0x2acbb8cb910>"
      ]
     },
     "execution_count": 10,
     "metadata": {},
     "output_type": "execute_result"
    }
   ],
   "source": [
    "autoencoder.fit(x_train, x_train, epochs=20, batch_size=64, shuffle=True, validation_data=(x_test, x_test))"
   ]
  },
  {
   "cell_type": "code",
   "execution_count": 11,
   "metadata": {},
   "outputs": [
    {
     "name": "stdout",
     "output_type": "stream",
     "text": [
      "313/313 [==============================] - 0s 1ms/step\n"
     ]
    }
   ],
   "source": [
    "decoded_imgs = autoencoder.predict(x_test)"
   ]
  },
  {
   "cell_type": "code",
   "execution_count": 12,
   "metadata": {},
   "outputs": [],
   "source": [
    "reconstruction_errors = np.mean(np.square(x_test - decoded_imgs), axis=1)"
   ]
  },
  {
   "cell_type": "code",
   "execution_count": 13,
   "metadata": {},
   "outputs": [],
   "source": [
    "threshold = np.percentile(reconstruction_errors, 95)"
   ]
  },
  {
   "cell_type": "code",
   "execution_count": 14,
   "metadata": {},
   "outputs": [],
   "source": [
    "# Identify anomalies based on the threshold\n",
    "anomaly_indexes = np.where(reconstruction_errors > threshold)[0]"
   ]
  },
  {
   "cell_type": "code",
   "execution_count": 15,
   "metadata": {},
   "outputs": [],
   "source": [
    "# Get all the anomalies from the test_images\n",
    "anomalies = x_test[anomaly_indexes]\n",
    "\n",
    "# Create binary labels where 1 represents anomalies and 0 represents non-anomalies\n",
    "anomaly_labels = np.where(reconstruction_errors > threshold, 1, 0)"
   ]
  },
  {
   "cell_type": "code",
   "execution_count": 16,
   "metadata": {},
   "outputs": [
    {
     "name": "stdout",
     "output_type": "stream",
     "text": [
      "500\n"
     ]
    }
   ],
   "source": [
    "print(len(anomalies))"
   ]
  },
  {
   "cell_type": "code",
   "execution_count": 17,
   "metadata": {},
   "outputs": [],
   "source": [
    "# Save the anomaly indexes to a file\n",
    "with open(\"anomaly_indexes.txt\", \"w\") as file:\n",
    "    for idx in anomaly_indexes:\n",
    "        file.write(str(idx) + \"\\n\")"
   ]
  },
  {
   "cell_type": "code",
   "execution_count": 18,
   "metadata": {},
   "outputs": [
    {
     "data": {
      "image/png": "[encoded data removed]",
      "text/plain": [
       "<Figure size 1200x800 with 10 Axes>"
      ]
     },
     "metadata": {},
     "output_type": "display_data"
    }
   ],
   "source": [
    "# Plot some of the anomalies\n",
    "plt.figure(figsize=(12, 8))\n",
    "for i, idx in enumerate(anomaly_indexes[:10]):  # Plot the first 10 anomaly indices\n",
    "    plt.subplot(2, 5, i + 1)\n",
    "    plt.imshow(x_test[idx].reshape(28, 28), cmap='gray')\n",
    "    plt.title(f'Anomaly {i+1}')\n",
    "    plt.axis('off')\n",
    "plt.tight_layout()\n",
    "plt.show()"
   ]
  },
  {
   "cell_type": "code",
   "execution_count": 19,
   "metadata": {},
   "outputs": [
    {
     "data": {
      "image/png": "[encoded data removed]",
      "text/plain": [
       "<Figure size 640x480 with 1 Axes>"
      ]
     },
     "metadata": {},
     "output_type": "display_data"
    }
   ],
   "source": [
    "# Add a boxplot using reconstruction error values\n",
    "plt.boxplot(reconstruction_errors, vert=False)\n",
    "plt.title(\"Boxplot of Reconstruction Errors\")\n",
    "plt.show()"
   ]
  },
  {
   "cell_type": "code",
   "execution_count": 20,
   "metadata": {},
   "outputs": [
    {
     "name": "stdout",
     "output_type": "stream",
     "text": [
      "Precision: 0.00\n",
      "Recall: 0.00\n",
      "F1 Score: 0.00\n"
     ]
    }
   ],
   "source": [
    "# Make a ROC curve and calculate the area under the curve (AUC)\n",
    "y_true = [1 if i in anomalies else 0 for i in range(len(x_test))]\n",
    "\n",
    "# calculate the precision, recall, and f1 score\n",
    "precision, recall, f1, _ = precision_recall_fscore_support(y_true, anomaly_labels)\n",
    "\n",
    "# print precision, recall, and f1 score\n",
    "print(f'Precision: {precision[1]:.2f}')\n",
    "print(f'Recall: {recall[1]:.2f}')\n",
    "print(f'F1 Score: {f1[1]:.2f}')"
   ]
  },
  {
   "cell_type": "code",
   "execution_count": 21,
   "metadata": {},
   "outputs": [],
   "source": [
    "# calculate the precision and recall for different threshold levels\n",
    "precision, recall, thresholds = precision_recall_curve(y_true, reconstruction_errors)\n",
    "\n",
    "# calculate the area under the precision-recall curve\n",
    "pr_auc = auc(recall, precision)"
   ]
  },
  {
   "cell_type": "code",
   "execution_count": 22,
   "metadata": {},
   "outputs": [
    {
     "data": {
      "image/png": "[encoded data removed]",
      "text/plain": [
       "<Figure size 640x480 with 1 Axes>"
      ]
     },
     "metadata": {},
     "output_type": "display_data"
    }
   ],
   "source": [
    "# Plot the precision-recall curve\n",
    "plt.figure()\n",
    "plt.plot(recall, precision, color='darkorange', lw=2, label='PR Curve (area = %0.2f)' % pr_auc)\n",
    "plt.xlim([0.0, 1.0])\n",
    "plt.ylim([0.0, 1.05])\n",
    "plt.xlabel('Recall')\n",
    "plt.ylabel('Precision')\n",
    "plt.title('Precision-Recall Curve')\n",
    "plt.legend(loc='lower right')\n",
    "plt.show()"
   ]
  },
  {
   "cell_type": "code",
   "execution_count": 23,
   "metadata": {},
   "outputs": [
    {
     "name": "stdout",
     "output_type": "stream",
     "text": [
      "              precision    recall  f1-score   support\n",
      "\n",
      "           0       1.00      0.95      0.97      9998\n",
      "           1       0.00      0.00      0.00         2\n",
      "\n",
      "    accuracy                           0.95     10000\n",
      "   macro avg       0.50      0.47      0.49     10000\n",
      "weighted avg       1.00      0.95      0.97     10000\n",
      "\n"
     ]
    }
   ],
   "source": [
    "# classification report, binary labels where 1 represents anomalies and 0 represents non-anomalies\n",
    "anomaly_labels = np.where(reconstruction_errors > threshold, 1, 0)\n",
    "report = classification_report(y_true, anomaly_labels)\n",
    "print(report)\n"
   ]
  }
 ],
 "metadata": {
  "kernelspec": {
   "display_name": "Python 3",
   "language": "python",
   "name": "python3"
  },
  "language_info": {
   "codemirror_mode": {
    "name": "ipython",
    "version": 3
   },
   "file_extension": ".py",
   "mimetype": "text/x-python",
   "name": "python",
   "nbconvert_exporter": "python",
   "pygments_lexer": "ipython3",
   "version": "3.11.4"
  }
 },
 "nbformat": 4,
 "nbformat_minor": 2
}
