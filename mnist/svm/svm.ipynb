{
 "cells": [
  {
   "cell_type": "code",
   "execution_count": 1,
   "metadata": {},
   "outputs": [],
   "source": [
    "# Data processing\n",
    "import pandas as pd\n",
    "import numpy as np\n",
    "import json\n",
    "\n",
    "# Modelling\n",
    "from sklearn import datasets\n",
    "from sklearn import svm\n",
    "from sklearn.metrics import accuracy_score, confusion_matrix, classification_report, precision_recall_curve, precision_score, recall_score, f1_score, auc, average_precision_score\n",
    "from sklearn.model_selection import train_test_split\n",
    "\n",
    "# Tree Visualization\n",
    "import matplotlib.pyplot as plt\n",
    "import seaborn as sns"
   ]
  },
  {
   "cell_type": "code",
   "execution_count": 2,
   "metadata": {},
   "outputs": [
    {
     "name": "stderr",
     "output_type": "stream",
     "text": [
      "c:\\Users\\zippe\\AppData\\Local\\Programs\\Python\\Python311\\Lib\\site-packages\\sklearn\\datasets\\_openml.py:1022: FutureWarning: The default value of `parser` will change from `'liac-arff'` to `'auto'` in 1.4. You can set `parser='auto'` to silence this warning. Therefore, an `ImportError` will be raised from 1.4 if the dataset is dense and pandas is not installed. Note that the pandas parser may return different data types. See the Notes Section in fetch_openml's API doc for details.\n",
      "  warn(\n"
     ]
    },
    {
     "name": "stdout",
     "output_type": "stream",
     "text": [
      "Dataset split: 56000 train rows 56000 label rows\n",
      "Dataset split: 14000 test rows 14000 label rows\n"
     ]
    },
    {
     "data": {
      "image/png": "[encoded data removed]",
      "text/plain": [
       "<Figure size 640x480 with 1 Axes>"
      ]
     },
     "metadata": {},
     "output_type": "display_data"
    }
   ],
   "source": [
    "# Initialize\n",
    "mnist = datasets.fetch_openml(\"mnist_784\")\n",
    "X, y = mnist.data, mnist.target\n",
    "\n",
    "# Split the data into training and testing sets\n",
    "x_train, x_test, y_train, y_test = train_test_split(X, y, test_size=0.2, random_state=42)\n",
    "\n",
    "# digits = load_digits()\n",
    "print(f\"Dataset split: {len(x_train)} train rows\",\n",
    "          f\"{len(y_train)} label rows\")\n",
    "\n",
    "print(f\"Dataset split: {len(x_test)} test rows\",\n",
    "          f\"{len(y_test)} label rows\")\n",
    "\n",
    "point = np.array(x_train.iloc[0], dtype='uint8')\n",
    "point = point.reshape((28, 28))\n",
    "\n",
    "plt.title('Label is {label}'.format(label=y_train.iloc[0]))\n",
    "plt.imshow(point, cmap='gray')\n",
    "plt.show()"
   ]
  },
  {
   "cell_type": "code",
   "execution_count": 12,
   "metadata": {},
   "outputs": [],
   "source": [
    "# Create a binary label for normal (1) and anomalies (0)\n",
    "normal_class = 1\n",
    "anomaly_class = 0"
   ]
  },
  {
   "cell_type": "code",
   "execution_count": 13,
   "metadata": {},
   "outputs": [],
   "source": [
    "# Convert labels to binary format (1 for normal instances, 0 for anomalies)\n",
    "y_test_binary = np.where(y_test == normal_class, 1, 0)"
   ]
  },
  {
   "cell_type": "code",
   "execution_count": 3,
   "metadata": {},
   "outputs": [
    {
     "name": "stdout",
     "output_type": "stream",
     "text": [
      "(56000, 784)\n",
      "(14000, 784)\n"
     ]
    }
   ],
   "source": [
    "print(x_train.shape)\n",
    "print(x_test.shape)"
   ]
  },
  {
   "cell_type": "code",
   "execution_count": 4,
   "metadata": {},
   "outputs": [],
   "source": [
    "# normalize data\n",
    "x_train = x_train.astype(np.float32) / 255\n",
    "x_test = x_test.astype(np.float32) / 255\n",
    "\n",
    "# convert labels to integers\n",
    "y_train = y_train.astype('int')\n",
    "y_test = y_test.astype('int')"
   ]
  },
  {
   "cell_type": "code",
   "execution_count": 5,
   "metadata": {},
   "outputs": [
    {
     "data": {
      "text/html": [
       "<style>#sk-container-id-1 {color: black;}#sk-container-id-1 pre{padding: 0;}#sk-container-id-1 div.sk-toggleable {background-color: white;}#sk-container-id-1 label.sk-toggleable__label {cursor: pointer;display: block;width: 100%;margin-bottom: 0;padding: 0.3em;box-sizing: border-box;text-align: center;}#sk-container-id-1 label.sk-toggleable__label-arrow:before {content: \"▸\";float: left;margin-right: 0.25em;color: #696969;}#sk-container-id-1 label.sk-toggleable__label-arrow:hover:before {color: black;}#sk-container-id-1 div.sk-estimator:hover label.sk-toggleable__label-arrow:before {color: black;}#sk-container-id-1 div.sk-toggleable__content {max-height: 0;max-width: 0;overflow: hidden;text-align: left;background-color: #f0f8ff;}#sk-container-id-1 div.sk-toggleable__content pre {margin: 0.2em;color: black;border-radius: 0.25em;background-color: #f0f8ff;}#sk-container-id-1 input.sk-toggleable__control:checked~div.sk-toggleable__content {max-height: 200px;max-width: 100%;overflow: auto;}#sk-container-id-1 input.sk-toggleable__control:checked~label.sk-toggleable__label-arrow:before {content: \"▾\";}#sk-container-id-1 div.sk-estimator input.sk-toggleable__control:checked~label.sk-toggleable__label {background-color: #d4ebff;}#sk-container-id-1 div.sk-label input.sk-toggleable__control:checked~label.sk-toggleable__label {background-color: #d4ebff;}#sk-container-id-1 input.sk-hidden--visually {border: 0;clip: rect(1px 1px 1px 1px);clip: rect(1px, 1px, 1px, 1px);height: 1px;margin: -1px;overflow: hidden;padding: 0;position: absolute;width: 1px;}#sk-container-id-1 div.sk-estimator {font-family: monospace;background-color: #f0f8ff;border: 1px dotted black;border-radius: 0.25em;box-sizing: border-box;margin-bottom: 0.5em;}#sk-container-id-1 div.sk-estimator:hover {background-color: #d4ebff;}#sk-container-id-1 div.sk-parallel-item::after {content: \"\";width: 100%;border-bottom: 1px solid gray;flex-grow: 1;}#sk-container-id-1 div.sk-label:hover label.sk-toggleable__label {background-color: #d4ebff;}#sk-container-id-1 div.sk-serial::before {content: \"\";position: absolute;border-left: 1px solid gray;box-sizing: border-box;top: 0;bottom: 0;left: 50%;z-index: 0;}#sk-container-id-1 div.sk-serial {display: flex;flex-direction: column;align-items: center;background-color: white;padding-right: 0.2em;padding-left: 0.2em;position: relative;}#sk-container-id-1 div.sk-item {position: relative;z-index: 1;}#sk-container-id-1 div.sk-parallel {display: flex;align-items: stretch;justify-content: center;background-color: white;position: relative;}#sk-container-id-1 div.sk-item::before, #sk-container-id-1 div.sk-parallel-item::before {content: \"\";position: absolute;border-left: 1px solid gray;box-sizing: border-box;top: 0;bottom: 0;left: 50%;z-index: -1;}#sk-container-id-1 div.sk-parallel-item {display: flex;flex-direction: column;z-index: 1;position: relative;background-color: white;}#sk-container-id-1 div.sk-parallel-item:first-child::after {align-self: flex-end;width: 50%;}#sk-container-id-1 div.sk-parallel-item:last-child::after {align-self: flex-start;width: 50%;}#sk-container-id-1 div.sk-parallel-item:only-child::after {width: 0;}#sk-container-id-1 div.sk-dashed-wrapped {border: 1px dashed gray;margin: 0 0.4em 0.5em 0.4em;box-sizing: border-box;padding-bottom: 0.4em;background-color: white;}#sk-container-id-1 div.sk-label label {font-family: monospace;font-weight: bold;display: inline-block;line-height: 1.2em;}#sk-container-id-1 div.sk-label-container {text-align: center;}#sk-container-id-1 div.sk-container {/* jupyter's `normalize.less` sets `[hidden] { display: none; }` but bootstrap.min.css set `[hidden] { display: none !important; }` so we also need the `!important` here to be able to override the default hidden behavior on the sphinx rendered scikit-learn.org. See: https://github.com/scikit-learn/scikit-learn/issues/21755 */display: inline-block !important;position: relative;}#sk-container-id-1 div.sk-text-repr-fallback {display: none;}</style><div id=\"sk-container-id-1\" class=\"sk-top-container\"><div class=\"sk-text-repr-fallback\"><pre>OneClassSVM(kernel=&#x27;linear&#x27;, nu=0.05)</pre><b>In a Jupyter environment, please rerun this cell to show the HTML representation or trust the notebook. <br />On GitHub, the HTML representation is unable to render, please try loading this page with nbviewer.org.</b></div><div class=\"sk-container\" hidden><div class=\"sk-item\"><div class=\"sk-estimator sk-toggleable\"><input class=\"sk-toggleable__control sk-hidden--visually\" id=\"sk-estimator-id-1\" type=\"checkbox\" checked><label for=\"sk-estimator-id-1\" class=\"sk-toggleable__label sk-toggleable__label-arrow\">OneClassSVM</label><div class=\"sk-toggleable__content\"><pre>OneClassSVM(kernel=&#x27;linear&#x27;, nu=0.05)</pre></div></div></div></div></div>"
      ],
      "text/plain": [
       "OneClassSVM(kernel='linear', nu=0.05)"
      ]
     },
     "execution_count": 5,
     "metadata": {},
     "output_type": "execute_result"
    }
   ],
   "source": [
    "model = svm.OneClassSVM(nu=0.05, kernel=\"linear\")\n",
    "model.fit(x_train)"
   ]
  },
  {
   "cell_type": "code",
   "execution_count": 6,
   "metadata": {},
   "outputs": [],
   "source": [
    "# predict\n",
    "prediction = model.predict(x_test)"
   ]
  },
  {
   "cell_type": "code",
   "execution_count": 7,
   "metadata": {},
   "outputs": [
    {
     "name": "stdout",
     "output_type": "stream",
     "text": [
      "[1 1 1 ... 1 1 1]\n"
     ]
    }
   ],
   "source": [
    "print(prediction)"
   ]
  },
  {
   "cell_type": "code",
   "execution_count": 8,
   "metadata": {},
   "outputs": [
    {
     "name": "stdout",
     "output_type": "stream",
     "text": [
      "Anomaly Indexes: [   49    52   105   130   157   158   180   182   217   221   222   224\n",
      "   247   256   273   281   285   288   300   323   340   377   385   408\n",
      "   419   420   427   432   498   519   531   567   574   585   609   611\n",
      "   613   618   631   649   697   719   736   737   744   756   757   818\n",
      "   839   879   891   915   956   979  1030  1061  1070  1096  1153  1162\n",
      "  1181  1203  1223  1247  1255  1282  1289  1291  1292  1293  1300  1331\n",
      "  1332  1367  1372  1405  1425  1442  1443  1460  1508  1528  1540  1556\n",
      "  1582  1597  1658  1660  1695  1737  1747  1748  1792  1805  1855  1870\n",
      "  1880  1903  1925  1926  1928  1999  2004  2036  2089  2118  2196  2212\n",
      "  2236  2254  2263  2274  2286  2288  2296  2307  2324  2331  2367  2372\n",
      "  2408  2423  2430  2480  2493  2500  2502  2527  2556  2565  2591  2593\n",
      "  2617  2628  2653  2677  2684  2730  2744  2762  2764  2773  2779  2893\n",
      "  2896  2897  2902  2910  2913  2916  2949  2952  2979  3009  3089  3096\n",
      "  3115  3129  3132  3138  3150  3160  3177  3189  3191  3197  3204  3210\n",
      "  3228  3235  3236  3241  3276  3303  3312  3313  3320  3335  3340  3362\n",
      "  3374  3377  3380  3399  3401  3434  3442  3504  3551  3558  3565  3569\n",
      "  3584  3593  3615  3651  3653  3692  3727  3731  3737  3765  3771  3779\n",
      "  3809  3827  3843  3859  3872  3883  3884  3929  3930  3936  3960  4003\n",
      "  4019  4077  4089  4130  4133  4161  4174  4198  4226  4288  4318  4323\n",
      "  4349  4359  4365  4381  4388  4400  4413  4425  4446  4461  4485  4505\n",
      "  4518  4534  4578  4596  4601  4630  4637  4648  4734  4738  4759  4787\n",
      "  4801  4825  4828  4838  4857  4866  4928  4949  4997  5026  5047  5052\n",
      "  5078  5102  5131  5194  5204  5214  5242  5252  5260  5261  5269  5289\n",
      "  5297  5302  5326  5353  5428  5456  5469  5501  5521  5533  5550  5594\n",
      "  5604  5633  5679  5687  5699  5700  5709  5717  5742  5765  5766  5797\n",
      "  5857  5867  5896  5904  5906  5926  5982  5983  6013  6048  6152  6159\n",
      "  6173  6203  6226  6252  6287  6329  6349  6367  6376  6419  6431  6443\n",
      "  6444  6467  6486  6488  6505  6516  6528  6561  6565  6592  6654  6655\n",
      "  6657  6664  6701  6722  6789  6860  6865  6883  6888  6961  6963  6965\n",
      "  6987  6988  6990  6996  7002  7019  7022  7027  7041  7073  7074  7090\n",
      "  7122  7124  7134  7143  7144  7145  7154  7160  7173  7258  7262  7280\n",
      "  7284  7300  7311  7342  7355  7377  7381  7386  7405  7421  7430  7442\n",
      "  7454  7457  7466  7500  7514  7528  7534  7547  7560  7614  7619  7620\n",
      "  7640  7647  7651  7658  7682  7686  7687  7734  7737  7740  7752  7810\n",
      "  7811  7850  7866  7868  7876  7903  7931  7968  7988  8014  8018  8023\n",
      "  8039  8045  8070  8073  8087  8094  8101  8123  8124  8126  8152  8167\n",
      "  8169  8214  8221  8234  8266  8288  8364  8377  8429  8471  8482  8493\n",
      "  8496  8541  8562  8587  8620  8621  8637  8644  8663  8664  8673  8686\n",
      "  8719  8730  8752  8770  8830  8831  8878  8885  8908  8933  8964  8990\n",
      "  9001  9021  9028  9061  9072  9075  9091  9101  9113  9157  9201  9221\n",
      "  9236  9248  9255  9271  9275  9296  9316  9376  9378  9403  9447  9467\n",
      "  9472  9473  9519  9550  9553  9556  9557  9577  9581  9610  9618  9647\n",
      "  9648  9658  9670  9726  9730  9782  9790  9792  9821  9829  9835  9864\n",
      "  9894  9909  9915  9919  9942  9949  9970  9973 10003 10020 10063 10070\n",
      " 10086 10090 10121 10130 10141 10178 10180 10197 10201 10227 10230 10241\n",
      " 10242 10256 10257 10285 10293 10310 10319 10322 10323 10345 10350 10398\n",
      " 10406 10431 10434 10442 10490 10499 10519 10558 10567 10570 10608 10656\n",
      " 10665 10668 10709 10711 10716 10732 10746 10757 10790 10806 10814 10862\n",
      " 10864 10875 10901 10932 10944 10950 10953 10974 11071 11107 11157 11161\n",
      " 11191 11192 11215 11224 11253 11274 11289 11290 11311 11319 11322 11347\n",
      " 11354 11410 11430 11467 11478 11480 11484 11488 11489 11494 11501 11542\n",
      " 11547 11554 11610 11659 11703 11714 11727 11728 11734 11738 11742 11769\n",
      " 11785 11796 11830 11846 11851 11868 11893 11897 11904 11920 11926 11929\n",
      " 11951 11956 11958 11966 11987 11994 12003 12013 12023 12036 12039 12120\n",
      " 12141 12146 12147 12163 12176 12245 12287 12312 12345 12348 12361 12385\n",
      " 12406 12444 12455 12488 12498 12502 12507 12535 12538 12544 12568 12572\n",
      " 12574 12605 12623 12646 12673 12680 12688 12701 12716 12739 12778 12819\n",
      " 12824 12842 12843 12879 12907 12910 12915 12994 13001 13003 13004 13015\n",
      " 13026 13037 13112 13129 13136 13137 13139 13164 13169 13180 13188 13191\n",
      " 13194 13212 13214 13216 13243 13248 13294 13300 13307 13318 13328 13346\n",
      " 13349 13371 13391 13413 13423 13468 13484 13501 13568 13572 13629 13653\n",
      " 13669 13684 13689 13700 13701 13705 13715 13746 13747 13791 13799 13810\n",
      " 13852 13881 13885 13897 13904 13938 13959 13962 13963 13967 13970]\n",
      "755\n"
     ]
    }
   ],
   "source": [
    "# Get anomaly indexes\n",
    "anomaly_indexes = np.where(prediction == -1)[0]\n",
    "\n",
    "# Display the anomaly indices\n",
    "print(\"Anomaly Indexes:\", anomaly_indexes)\n",
    "print(len(anomaly_indexes))"
   ]
  },
  {
   "cell_type": "code",
   "execution_count": 9,
   "metadata": {},
   "outputs": [
    {
     "name": "stdout",
     "output_type": "stream",
     "text": [
      "Anomaly Labels: 3284     9\n",
      "3136     6\n",
      "6501     5\n",
      "30035    1\n",
      "45967    7\n",
      "        ..\n",
      "60024    4\n",
      "61224    2\n",
      "41496    7\n",
      "40514    6\n",
      "36061    6\n",
      "Name: class, Length: 755, dtype: int32\n"
     ]
    }
   ],
   "source": [
    "# Convert the list of anomaly indexes to a NumPy array\n",
    "anomaly_indexes_array = np.array(anomaly_indexes)\n",
    "\n",
    "# Extract labels of anomalies\n",
    "anomaly_labels = y_test.iloc[anomaly_indexes_array]\n",
    "\n",
    "# Display the anomaly labels\n",
    "print(\"Anomaly Labels:\", anomaly_labels)"
   ]
  },
  {
   "cell_type": "code",
   "execution_count": 11,
   "metadata": {},
   "outputs": [
    {
     "name": "stdout",
     "output_type": "stream",
     "text": [
      "755\n"
     ]
    }
   ],
   "source": [
    "# Extract anomaly images from the test set\n",
    "anomalies = x_test.iloc[anomaly_indexes_array]\n",
    "\n",
    "print(len(anomalies))"
   ]
  },
  {
   "cell_type": "code",
   "execution_count": 12,
   "metadata": {},
   "outputs": [],
   "source": [
    "# create a dict of indexes and labels\n",
    "anomaly_dict = dict(zip(map(int, anomaly_indexes), anomaly_labels))"
   ]
  },
  {
   "cell_type": "code",
   "execution_count": 13,
   "metadata": {},
   "outputs": [
    {
     "name": "stdout",
     "output_type": "stream",
     "text": [
      "Anomaly dictionary saved to anomalies.json\n"
     ]
    }
   ],
   "source": [
    "# write to json file\n",
    "json_filename = \"anomalies.json\"\n",
    "with open(json_filename, 'w') as json_file:\n",
    "    json.dump(anomaly_dict, json_file)\n",
    "\n",
    "print(f\"Anomaly dictionary saved to {json_filename}\")"
   ]
  },
  {
   "cell_type": "code",
   "execution_count": 14,
   "metadata": {},
   "outputs": [],
   "source": [
    "# Reshape the test data for plotting\n",
    "x_test_reshaped = x_test.values.reshape(-1, 28, 28)"
   ]
  },
  {
   "cell_type": "code",
   "execution_count": 15,
   "metadata": {},
   "outputs": [
    {
     "data": {
      "image/png": "[encoded data removed]",
      "text/plain": [
       "<Figure size 1200x800 with 10 Axes>"
      ]
     },
     "metadata": {},
     "output_type": "display_data"
    }
   ],
   "source": [
    "# Plot some of the anomalies\n",
    "plt.figure(figsize=(12, 8))\n",
    "for i, idx in enumerate(anomaly_indexes[:10]):  # Plot the first 10 anomalies\n",
    "    plt.subplot(2, 5, i + 1)\n",
    "    plt.imshow(x_test_reshaped[idx], cmap='gray')\n",
    "    plt.title(f'Anomaly {i+1}')\n",
    "    plt.axis('off')\n",
    "plt.tight_layout()\n",
    "plt.show()"
   ]
  },
  {
   "cell_type": "code",
   "execution_count": 10,
   "metadata": {},
   "outputs": [
    {
     "name": "stdout",
     "output_type": "stream",
     "text": [
      "Anomaly Scores: [48368.00400285 29672.01620168 20686.53803105 ... 13472.86597693\n",
      " 21498.13940443 10433.35557631]\n"
     ]
    }
   ],
   "source": [
    "# Get anomaly scores\n",
    "anomaly_scores = model.decision_function(x_test)\n",
    "\n",
    "print(\"Anomaly Scores:\", anomaly_scores)"
   ]
  },
  {
   "cell_type": "code",
   "execution_count": 17,
   "metadata": {},
   "outputs": [
    {
     "name": "stderr",
     "output_type": "stream",
     "text": [
      "c:\\Users\\zippe\\AppData\\Local\\Programs\\Python\\Python311\\Lib\\site-packages\\seaborn\\_oldcore.py:1498: FutureWarning: is_categorical_dtype is deprecated and will be removed in a future version. Use isinstance(dtype, CategoricalDtype) instead\n",
      "  if pd.api.types.is_categorical_dtype(vector):\n"
     ]
    },
    {
     "data": {
      "image/png": "[encoded data removed]",
      "text/plain": [
       "<Figure size 1000x600 with 1 Axes>"
      ]
     },
     "metadata": {},
     "output_type": "display_data"
    }
   ],
   "source": [
    "# Boxplot for all data\n",
    "plt.figure(figsize=(10, 6))\n",
    "sns.boxplot(x=anomaly_scores)\n",
    "plt.title('Boxplot of Anomaly Scores')\n",
    "plt.xlabel('Anomaly Scores')\n",
    "plt.show()"
   ]
  },
  {
   "cell_type": "code",
   "execution_count": 18,
   "metadata": {},
   "outputs": [
    {
     "name": "stderr",
     "output_type": "stream",
     "text": [
      "c:\\Users\\zippe\\AppData\\Local\\Programs\\Python\\Python311\\Lib\\site-packages\\seaborn\\_oldcore.py:1498: FutureWarning: is_categorical_dtype is deprecated and will be removed in a future version. Use isinstance(dtype, CategoricalDtype) instead\n",
      "  if pd.api.types.is_categorical_dtype(vector):\n"
     ]
    },
    {
     "data": {
      "image/png": "[encoded data removed]",
      "text/plain": [
       "<Figure size 800x600 with 1 Axes>"
      ]
     },
     "metadata": {},
     "output_type": "display_data"
    }
   ],
   "source": [
    "# Plot a boxplot for anomalies\n",
    "plt.figure(figsize=(8, 6))\n",
    "sns.boxplot(y=anomaly_scores[anomaly_indexes_array], color='skyblue')\n",
    "plt.title('Anomaly Scores Boxplot')\n",
    "plt.xlabel('Anomaly Scores')\n",
    "plt.show()"
   ]
  },
  {
   "cell_type": "code",
   "execution_count": 23,
   "metadata": {},
   "outputs": [],
   "source": [
    "# Create ground truth labels for anomalies (1 if anomaly, 0 otherwise)\n",
    "true_labels = np.zeros(len(y_test))\n",
    "true_labels[anomaly_indexes_array] = 1"
   ]
  },
  {
   "cell_type": "code",
   "execution_count": 24,
   "metadata": {},
   "outputs": [],
   "source": [
    "# Map the class labels to \"anomaly\" and \"normal\" for true labels\n",
    "class_labels = {0: 'normal', 1: 'anomaly'}\n",
    "true_labels_mapped = np.vectorize(class_labels.get)(true_labels)"
   ]
  },
  {
   "cell_type": "code",
   "execution_count": 25,
   "metadata": {},
   "outputs": [],
   "source": [
    "# Ensure that true_labels_mapped and prediction are binary (0 or 1)\n",
    "true_labels_binary = np.where(true_labels_mapped == 'anomaly', 1, 0)\n",
    "prediction_binary = np.where(prediction == -1, 1, 0)"
   ]
  },
  {
   "cell_type": "code",
   "execution_count": 26,
   "metadata": {},
   "outputs": [],
   "source": [
    "# Calculate metrics\n",
    "accuracy = accuracy_score(true_labels_binary, prediction_binary)\n",
    "precision = precision_score(true_labels_binary, prediction_binary)\n",
    "recall = recall_score(true_labels_binary, prediction_binary)\n",
    "f1 = f1_score(true_labels_binary, prediction_binary)"
   ]
  },
  {
   "cell_type": "code",
   "execution_count": 27,
   "metadata": {},
   "outputs": [
    {
     "name": "stdout",
     "output_type": "stream",
     "text": [
      "Accuracy: 1.0\n",
      "Precision: 1.0\n",
      "Recall: 1.0\n",
      "F1 Score: 1.0\n"
     ]
    }
   ],
   "source": [
    "print(\"Accuracy:\", accuracy)\n",
    "print(\"Precision:\", precision)\n",
    "print(\"Recall:\", recall)\n",
    "print(\"F1 Score:\", f1)"
   ]
  },
  {
   "cell_type": "code",
   "execution_count": 28,
   "metadata": {},
   "outputs": [
    {
     "name": "stdout",
     "output_type": "stream",
     "text": [
      "\n",
      "Classification Report:\n",
      "              precision    recall  f1-score   support\n",
      "\n",
      "      normal       1.00      1.00      1.00     13245\n",
      "     anomaly       1.00      1.00      1.00       755\n",
      "\n",
      "    accuracy                           1.00     14000\n",
      "   macro avg       1.00      1.00      1.00     14000\n",
      "weighted avg       1.00      1.00      1.00     14000\n",
      "\n"
     ]
    }
   ],
   "source": [
    "# Classification report\n",
    "report = classification_report(true_labels_binary, prediction_binary, target_names=['normal', 'anomaly'])\n",
    "\n",
    "print(\"\\nClassification Report:\")\n",
    "print(report)"
   ]
  },
  {
   "cell_type": "code",
   "execution_count": 32,
   "metadata": {},
   "outputs": [
    {
     "name": "stdout",
     "output_type": "stream",
     "text": [
      "PR-AUC: 0.02746250869591027\n"
     ]
    }
   ],
   "source": [
    "# Get precision, recall, and thresholds\n",
    "precision_curve, recall_curve, _ = precision_recall_curve(true_labels_binary, anomaly_scores)\n",
    "\n",
    "# Calculate PR-AUC\n",
    "pr_auc = auc(recall_curve, precision_curve)\n",
    "\n",
    "print(\"PR-AUC:\", pr_auc)"
   ]
  },
  {
   "cell_type": "code",
   "execution_count": 33,
   "metadata": {},
   "outputs": [
    {
     "data": {
      "image/png": "[encoded data removed]",
      "text/plain": [
       "<Figure size 640x480 with 1 Axes>"
      ]
     },
     "metadata": {},
     "output_type": "display_data"
    }
   ],
   "source": [
    "# Plot the precision-recall curve\n",
    "plt.figure()\n",
    "plt.plot(recall, precision, color='darkorange', lw=2, label='PR Curve (area = %0.2f)' % pr_auc)\n",
    "plt.xlim([0.0, 1.0])\n",
    "plt.ylim([0.0, 1.05])\n",
    "plt.xlabel('Recall')\n",
    "plt.ylabel('Precision')\n",
    "plt.title('Precision-Recall Curve')\n",
    "plt.legend(loc='lower right')\n",
    "plt.show()"
   ]
  },
  {
   "cell_type": "code",
   "execution_count": 34,
   "metadata": {},
   "outputs": [],
   "source": [
    "# Confusion Matrix\n",
    "conf_matrix = confusion_matrix(true_labels_binary, prediction_binary)"
   ]
  },
  {
   "cell_type": "code",
   "execution_count": 35,
   "metadata": {},
   "outputs": [
    {
     "name": "stdout",
     "output_type": "stream",
     "text": [
      "[[13245     0]\n",
      " [    0   755]]\n"
     ]
    }
   ],
   "source": [
    "print(conf_matrix)"
   ]
  },
  {
   "cell_type": "code",
   "execution_count": 36,
   "metadata": {},
   "outputs": [
    {
     "name": "stdout",
     "output_type": "stream",
     "text": [
      "True Negatives: 13245\n",
      "False Positives: 0\n",
      "False Negatives: 0\n",
      "True Positives: 755\n"
     ]
    }
   ],
   "source": [
    "tn, fp, fn, tp = conf_matrix.ravel()\n",
    "print(f\"True Negatives: {tn}\")\n",
    "print(f\"False Positives: {fp}\")\n",
    "print(f\"False Negatives: {fn}\")\n",
    "print(f\"True Positives: {tp}\")"
   ]
  }
 ],
 "metadata": {
  "kernelspec": {
   "display_name": "Python 3",
   "language": "python",
   "name": "python3"
  },
  "language_info": {
   "codemirror_mode": {
    "name": "ipython",
    "version": 3
   },
   "file_extension": ".py",
   "mimetype": "text/x-python",
   "name": "python",
   "nbconvert_exporter": "python",
   "pygments_lexer": "ipython3",
   "version": "3.11.4"
  },
  "orig_nbformat": 4
 },
 "nbformat": 4,
 "nbformat_minor": 2
}
