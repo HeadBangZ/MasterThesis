{
 "cells": [
  {
   "cell_type": "code",
   "execution_count": 1,
   "metadata": {},
   "outputs": [],
   "source": [
    "# imports\n",
    "import numpy as np\n",
    "import pandas as pd\n",
    "\n",
    "# modelling\n",
    "from sklearn.datasets import load_digits\n",
    "from sklearn.ensemble import IsolationForest\n",
    "from sklearn.metrics import accuracy_score, confusion_matrix, precision_score, recall_score, classification_report\n",
    "from sklearn.model_selection import train_test_split\n",
    "from tensorflow.keras.datasets import mnist\n",
    "\n",
    "# Tree Visualization\n",
    "import matplotlib.pyplot as plt\n",
    "import seaborn as sn"
   ]
  },
  {
   "cell_type": "code",
   "execution_count": 2,
   "metadata": {},
   "outputs": [
    {
     "name": "stdout",
     "output_type": "stream",
     "text": [
      "Dataset split: 60000 train rows 60000 test rows\n",
      "Dataset split: 10000 train rows 10000 test rows\n"
     ]
    },
    {
     "data": {
      "image/png": "[encoded data removed]",
      "text/plain": [
       "<Figure size 640x480 with 1 Axes>"
      ]
     },
     "metadata": {},
     "output_type": "display_data"
    }
   ],
   "source": [
    "# Initialize\n",
    "(x_train, y_train), (x_test, y_test) = mnist.load_data()\n",
    "\n",
    "# digits = load_digits()\n",
    "print(f\"Dataset split: {len(x_train)} train rows\",\n",
    "          f\"{len(y_train)} test rows\")\n",
    "print(f\"Dataset split: {len(x_test)} train rows\",\n",
    "          f\"{len(y_test)} test rows\")\n",
    "\n",
    "point = np.array(x_train[0], dtype='uint8')\n",
    "point = point.reshape((28, 28))\n",
    "\n",
    "plt.title('Label is {label}'.format(label=y_train[0]))\n",
    "plt.imshow(point, cmap='gray')\n",
    "plt.show()"
   ]
  },
  {
   "cell_type": "code",
   "execution_count": 3,
   "metadata": {},
   "outputs": [],
   "source": [
    "# normalize data\n",
    "x_train = x_train.astype(np.float32) / 255\n",
    "x_test = x_test.astype(np.float32) / 255\n",
    "\n",
    "nsamples_train, nx_train, ny_train = x_train.shape\n",
    "nsamples_test, nx_test, ny_test = x_test.shape\n",
    "\n",
    "x_train = x_train.reshape((nsamples_train, nx_train * ny_train))\n",
    "x_test = x_test.reshape((nsamples_test, nx_test * ny_test))"
   ]
  },
  {
   "cell_type": "code",
   "execution_count": 4,
   "metadata": {},
   "outputs": [
    {
     "name": "stdout",
     "output_type": "stream",
     "text": [
      "Training set\n",
      "(60000, 784)\n",
      "(60000,)\n",
      "Test set\n",
      "(10000, 784)\n",
      "(10000,)\n"
     ]
    }
   ],
   "source": [
    "# Add outliers\n",
    "df = pd.DataFrame()\n",
    "print(\"Training set\")\n",
    "print(x_train.shape)\n",
    "print(y_train.shape)\n",
    "\n",
    "print(\"Test set\")\n",
    "print(x_test.shape)\n",
    "print(y_test.shape)"
   ]
  },
  {
   "cell_type": "code",
   "execution_count": 10,
   "metadata": {},
   "outputs": [
    {
     "data": {
      "text/html": [
       "<div>\n",
       "<style scoped>\n",
       "    .dataframe tbody tr th:only-of-type {\n",
       "        vertical-align: middle;\n",
       "    }\n",
       "\n",
       "    .dataframe tbody tr th {\n",
       "        vertical-align: top;\n",
       "    }\n",
       "\n",
       "    .dataframe thead th {\n",
       "        text-align: right;\n",
       "    }\n",
       "</style>\n",
       "<table border=\"1\" class=\"dataframe\">\n",
       "  <thead>\n",
       "    <tr style=\"text-align: right;\">\n",
       "      <th></th>\n",
       "      <th>labels</th>\n",
       "      <th>scores</th>\n",
       "      <th>anomalies</th>\n",
       "      <th>score_samples</th>\n",
       "    </tr>\n",
       "  </thead>\n",
       "  <tbody>\n",
       "    <tr>\n",
       "      <th>0</th>\n",
       "      <td>7</td>\n",
       "      <td>0.071999</td>\n",
       "      <td>1</td>\n",
       "      <td>-0.428001</td>\n",
       "    </tr>\n",
       "    <tr>\n",
       "      <th>1</th>\n",
       "      <td>2</td>\n",
       "      <td>-0.004578</td>\n",
       "      <td>-1</td>\n",
       "      <td>-0.504578</td>\n",
       "    </tr>\n",
       "    <tr>\n",
       "      <th>2</th>\n",
       "      <td>1</td>\n",
       "      <td>0.116353</td>\n",
       "      <td>1</td>\n",
       "      <td>-0.383647</td>\n",
       "    </tr>\n",
       "    <tr>\n",
       "      <th>3</th>\n",
       "      <td>0</td>\n",
       "      <td>0.031473</td>\n",
       "      <td>1</td>\n",
       "      <td>-0.468527</td>\n",
       "    </tr>\n",
       "    <tr>\n",
       "      <th>4</th>\n",
       "      <td>4</td>\n",
       "      <td>0.063747</td>\n",
       "      <td>1</td>\n",
       "      <td>-0.436253</td>\n",
       "    </tr>\n",
       "    <tr>\n",
       "      <th>5</th>\n",
       "      <td>1</td>\n",
       "      <td>0.112869</td>\n",
       "      <td>1</td>\n",
       "      <td>-0.387131</td>\n",
       "    </tr>\n",
       "    <tr>\n",
       "      <th>6</th>\n",
       "      <td>4</td>\n",
       "      <td>0.059201</td>\n",
       "      <td>1</td>\n",
       "      <td>-0.440799</td>\n",
       "    </tr>\n",
       "    <tr>\n",
       "      <th>7</th>\n",
       "      <td>9</td>\n",
       "      <td>0.062330</td>\n",
       "      <td>1</td>\n",
       "      <td>-0.437670</td>\n",
       "    </tr>\n",
       "    <tr>\n",
       "      <th>8</th>\n",
       "      <td>5</td>\n",
       "      <td>0.010568</td>\n",
       "      <td>1</td>\n",
       "      <td>-0.489432</td>\n",
       "    </tr>\n",
       "    <tr>\n",
       "      <th>9</th>\n",
       "      <td>9</td>\n",
       "      <td>0.041135</td>\n",
       "      <td>1</td>\n",
       "      <td>-0.458865</td>\n",
       "    </tr>\n",
       "  </tbody>\n",
       "</table>\n",
       "</div>"
      ],
      "text/plain": [
       "   labels    scores  anomalies  score_samples\n",
       "0       7  0.071999          1      -0.428001\n",
       "1       2 -0.004578         -1      -0.504578\n",
       "2       1  0.116353          1      -0.383647\n",
       "3       0  0.031473          1      -0.468527\n",
       "4       4  0.063747          1      -0.436253\n",
       "5       1  0.112869          1      -0.387131\n",
       "6       4  0.059201          1      -0.440799\n",
       "7       9  0.062330          1      -0.437670\n",
       "8       5  0.010568          1      -0.489432\n",
       "9       9  0.041135          1      -0.458865"
      ]
     },
     "execution_count": 10,
     "metadata": {},
     "output_type": "execute_result"
    }
   ],
   "source": [
    "# prepare model\n",
    "n_estimators = 1000\n",
    "if_contamination = 'auto'\n",
    "\n",
    "model = IsolationForest(\n",
    "        n_estimators=n_estimators, contamination=if_contamination, random_state=42, max_samples='auto')\n",
    "\n",
    "model.fit(x_train)\n",
    "df['labels'] = y_test\n",
    "df['scores'] = model.decision_function(x_test)\n",
    "df['anomalies'] = model.predict(x_test)\n",
    "df['score_samples'] = model.score_samples(x_test)\n",
    "df.head(10)"
   ]
  },
  {
   "cell_type": "code",
   "execution_count": 24,
   "metadata": {},
   "outputs": [
    {
     "name": "stdout",
     "output_type": "stream",
     "text": [
      "[1, 18, 25, 33, 35, 51, 54, 69, 71, 72, 106, 126, 147, 151, 172, 183, 188, 200, 201, 222, 246, 259, 287, 296, 297, 305, 311, 318, 319, 338, 352, 353, 360, 372, 380, 390, 402, 405, 406, 407, 412, 421, 437, 440, 449, 461, 462, 475, 493, 503, 513, 514, 524, 527, 535, 549, 556, 559, 561, 581, 602, 608, 611, 612, 625, 642, 648, 654, 655, 656, 665, 671, 677, 701, 704, 717, 719, 720, 721, 732, 736, 737, 742, 744, 751, 762, 763, 766, 782, 787, 792, 796, 799, 804, 810, 817, 823, 845, 860, 864, 871, 876, 877, 878, 894, 896, 903, 904, 905, 923, 932, 937, 945, 972, 985, 991, 995, 997, 998, 1003, 1009, 1017, 1028, 1047, 1049, 1060, 1061, 1065, 1069, 1070, 1084, 1101, 1102, 1109, 1128, 1147, 1162, 1170, 1174, 1191, 1203, 1218, 1220, 1223, 1253, 1263, 1271, 1272, 1291, 1319, 1325, 1332, 1337, 1348, 1352, 1362, 1377, 1379, 1381, 1386, 1388, 1390, 1391, 1408, 1419, 1422, 1427, 1444, 1450, 1457, 1458, 1463, 1466, 1487, 1488, 1499, 1525, 1526, 1529, 1536, 1545, 1567, 1569, 1574, 1589, 1601, 1609, 1610, 1616, 1618, 1623, 1627, 1671, 1679, 1692, 1708, 1712, 1720, 1726, 1733, 1734, 1737, 1748, 1749, 1758, 1782, 1790, 1793, 1796, 1801, 1807, 1808, 1810, 1813, 1840, 1841, 1847, 1854, 1859, 1870, 1882, 1891, 1892, 1895, 1896, 1898, 1921, 1923, 1944, 1972, 1984, 1987, 1995, 2005, 2033, 2037, 2044, 2048, 2057, 2060, 2062, 2072, 2091, 2105, 2106, 2107, 2115, 2118, 2140, 2145, 2162, 2170, 2178, 2188, 2201, 2214, 2215, 2217, 2224, 2229, 2237, 2253, 2256, 2268, 2272, 2291, 2293, 2300, 2304, 2319, 2321, 2328, 2329, 2337, 2353, 2354, 2370, 2371, 2375, 2376, 2378, 2385, 2393, 2400, 2408, 2413, 2435, 2436, 2439, 2452, 2462, 2464, 2470, 2476, 2485, 2489, 2492, 2503, 2515, 2517, 2521, 2535, 2536, 2540, 2568, 2588, 2589, 2609, 2621, 2627, 2630, 2638, 2641, 2649, 2653, 2663, 2664, 2668, 2670, 2686, 2702, 2703, 2711, 2714, 2728, 2738, 2747, 2749, 2752, 2758, 2770, 2773, 2779, 2780, 2790, 2801, 2802, 2817, 2826, 2830, 2839, 2842, 2864, 2882, 2893, 2894, 2896, 2918, 2927, 2929, 2932, 2936, 2955, 2963, 2972, 2977, 2996, 3011, 3013, 3016, 3031, 3032, 3037, 3044, 3058, 3067, 3069, 3083, 3116, 3119, 3120, 3144, 3157, 3164, 3170, 3174, 3178, 3179, 3181, 3182, 3198, 3217, 3221, 3229, 3242, 3251, 3260, 3269, 3290, 3293, 3295, 3307, 3315, 3321, 3323, 3345, 3347, 3348, 3364, 3367, 3394, 3401, 3412, 3422, 3441, 3445, 3447, 3479, 3488, 3515, 3517, 3521, 3524, 3525, 3535, 3540, 3542, 3569, 3584, 3591, 3602, 3603, 3608, 3611, 3614, 3620, 3624, 3635, 3657, 3660, 3665, 3668, 3677, 3680, 3681, 3691, 3695, 3705, 3712, 3727, 3729, 3731, 3734, 3735, 3740, 3752, 3768, 3770, 3774, 3790, 3803, 3813, 3817, 3818, 3820, 3828, 3829, 3830, 3835, 3836, 3841, 3846, 3849, 3854, 3867, 3870, 3875, 3883, 3884, 3885, 3911, 3932, 3933, 3939, 3940, 3962, 3965, 3966, 3975, 3980, 3982, 4008, 4012, 4023, 4033, 4034, 4041, 4043, 4045, 4048, 4055, 4070, 4078, 4079, 4082, 4086, 4087, 4091, 4100, 4102, 4111, 4133, 4139, 4140, 4142, 4149, 4150, 4151, 4154, 4155, 4157, 4162, 4164, 4177, 4188, 4204, 4208, 4223, 4275, 4282, 4286, 4294, 4320, 4327, 4345, 4348, 4351, 4374, 4392, 4395, 4403, 4406, 4415, 4430, 4441, 4455, 4458, 4462, 4464, 4487, 4505, 4510, 4511, 4517, 4548, 4552, 4554, 4558, 4562, 4571, 4592, 4601, 4604, 4611, 4614, 4617, 4627, 4628, 4637, 4650, 4654, 4667, 4671, 4679, 4688, 4693, 4703, 4709, 4713, 4718, 4724, 4743, 4748, 4757, 4765, 4767, 4768, 4776, 4779, 4804, 4808, 4831, 4833, 4834, 4854, 4862, 4881, 4882, 4888, 4889, 4891, 4904, 4914, 4920, 4923, 4934, 4937, 4940, 4957, 4958, 4960, 4962, 4979, 4992, 4999, 5006, 5008, 5018, 5024, 5031, 5033, 5035, 5037, 5043, 5045, 5051, 5054, 5069, 5079, 5087, 5088, 5089, 5095, 5105, 5108, 5109, 5124, 5125, 5133, 5139, 5141, 5147, 5150, 5152, 5153, 5155, 5157, 5167, 5189, 5191, 5221, 5241, 5249, 5255, 5259, 5282, 5283, 5287, 5290, 5292, 5293, 5297, 5298, 5308, 5320, 5338, 5340, 5366, 5367, 5369, 5381, 5385, 5390, 5405, 5408, 5409, 5411, 5415, 5428, 5430, 5436, 5443, 5450, 5452, 5454, 5455, 5458, 5459, 5463, 5464, 5467, 5469, 5470, 5472, 5494, 5501, 5502, 5504, 5516, 5522, 5538, 5558, 5568, 5569, 5571, 5572, 5574, 5581, 5584, 5593, 5595, 5603, 5605, 5609, 5613, 5641, 5643, 5653, 5667, 5668, 5669, 5673, 5684, 5685, 5686, 5695, 5703, 5718, 5737, 5739, 5750, 5755, 5756, 5761, 5767, 5768, 5782, 5785, 5791, 5801, 5806, 5825, 5828, 5830, 5833, 5838, 5844, 5846, 5847, 5849, 5850, 5863, 5879, 5883, 5887, 5888, 5918, 5922, 5930, 5932, 5938, 5942, 5944, 5952, 5954, 5955, 5958, 5962, 5965, 5966, 5977, 5980, 5987, 5990, 5993, 6003, 6010, 6014, 6015, 6016, 6030, 6041, 6042, 6045, 6053, 6057, 6062, 6064, 6065, 6067, 6068, 6069, 6070, 6071, 6072, 6074, 6075, 6076, 6077, 6078, 6080, 6081, 6082, 6084, 6085, 6088, 6090, 6091, 6097, 6099, 6100, 6103, 6104, 6106, 6107, 6111, 6113, 6114, 6117, 6118, 6123, 6124, 6127, 6128, 6129, 6130, 6131, 6132, 6133, 6139, 6140, 6150, 6151, 6153, 6154, 6156, 6157, 6160, 6161, 6163, 6165, 6166, 6167, 6169, 6172, 6173, 6174, 6176, 6178, 6179, 6181, 6191, 6227, 6228, 6234, 6246, 6259, 6264, 6266, 6281, 6285, 6286, 6287, 6305, 6311, 6321, 6324, 6330, 6333, 6345, 6349, 6351, 6352, 6357, 6360, 6384, 6385, 6386, 6389, 6390, 6391, 6406, 6412, 6423, 6424, 6425, 6429, 6431, 6437, 6439, 6446, 6462, 6465, 6466, 6469, 6470, 6489, 6495, 6497, 6499, 6505, 6510, 6511, 6519, 6526, 6528, 6532, 6580, 6583, 6590, 6616, 6665, 6672, 6676, 6690, 6691, 6711, 6713, 6719, 6722, 6724, 6728, 6737, 6740, 6741, 6750, 6752, 6753, 6760, 6766, 6767, 6770, 6773, 6777, 6779, 6781, 6782, 6794, 6795, 6797, 6798, 6813, 6818, 6832, 6833, 6835, 6836, 6844, 6849, 6878, 6880, 6937, 6945, 6947, 6949, 6968, 6993, 7007, 7022, 7026, 7040, 7154, 7168, 7175, 7184, 7192, 7202, 7221, 7222, 7237, 7244, 7257, 7259, 7261, 7265, 7266, 7308, 7317, 7321, 7330, 7337, 7364, 7368, 7371, 7412, 7446, 7449, 7452, 7465, 7470, 7505, 7508, 7518, 7524, 7528, 7537, 7559, 7566, 7593, 7603, 7609, 7617, 7627, 7635, 7637, 7664, 7667, 7678, 7687, 7693, 7705, 7709, 7710, 7712, 7723, 7733, 7737, 7739, 7745, 7747, 7749, 7750, 7751, 7753, 7761, 7762, 7772, 7773, 7774, 7777, 7778, 7780, 7781, 7782, 7785, 7787, 7789, 7791, 7792, 7794, 7797, 7798, 7800, 7803, 7805, 7810, 7814, 7815, 7816, 7817, 7818, 7820, 7821, 7823, 7824, 7830, 7835, 7838, 7840, 7841, 7842, 7843, 7844, 7845, 7846, 7851, 7853, 7855, 7857, 7858, 7860, 7862, 7866, 7868, 7871, 7872, 7873, 7878, 7882, 7887, 7889, 7891, 7893, 7894, 7897, 7898, 7901, 7904, 7905, 7907, 7909, 7910, 7913, 7914, 7917, 7919, 7922, 7923, 7925, 7926, 7929, 7932, 7933, 7935, 7943, 7945, 7953, 7956, 7959, 7965, 7967, 7968, 7977, 7978, 7981, 7983, 7987, 7989, 7993, 7998, 7999, 8000, 8007, 8010, 8012, 8013, 8015, 8016, 8019, 8021, 8023, 8025, 8026, 8029, 8032, 8036, 8037, 8038, 8047, 8049, 8050, 8055, 8056, 8057, 8067, 8077, 8085, 8097, 8098, 8108, 8111, 8114, 8115, 8116, 8117, 8125, 8137, 8140, 8152, 8156, 8157, 8162, 8163, 8169, 8172, 8177, 8179, 8186, 8194, 8195, 8196, 8197, 8199, 8200, 8206, 8212, 8221, 8228, 8243, 8246, 8251, 8254, 8256, 8266, 8272, 8273, 8283, 8284, 8290, 8307, 8311, 8321, 8330, 8332, 8335, 8336, 8337, 8338, 8341, 8343, 8349, 8351, 8354, 8362, 8365, 8374, 8377, 8382, 8397, 8407, 8414, 8417, 8424, 8426, 8447, 8448, 8454, 8456, 8458, 8460, 8464, 8468, 8470, 8474, 8476, 8481, 8482, 8486, 8490, 8495, 8496, 8501, 8502, 8513, 8514, 8515, 8516, 8517, 8518, 8528, 8529, 8530, 8535, 8539, 8544, 8547, 8548, 8551, 8553, 8554, 8560, 8561, 8563, 8567, 8570, 8573, 8592, 8595, 8601, 8602, 8603, 8619, 8625, 8632, 8637, 8646, 8657, 8671, 8681, 8691, 8704, 8712, 8714, 8739, 8764, 8765, 8793, 8794, 8798, 8800, 8808, 8818, 8820, 8821, 8830, 8838, 8844, 8858, 8889, 8907, 8908, 8915, 8923, 8929, 8943, 8950, 8966, 8969, 8973, 8975, 8978, 8991, 8992, 8996, 9001, 9004, 9006, 9007, 9010, 9014, 9022, 9029, 9032, 9037, 9038, 9046, 9052, 9055, 9060, 9066, 9070, 9072, 9074, 9075, 9076, 9077, 9078, 9079, 9080, 9083, 9085, 9086, 9087, 9095, 9105, 9106, 9108, 9109, 9110, 9111, 9114, 9115, 9116, 9123, 9125, 9128, 9129, 9131, 9133, 9134, 9135, 9137, 9154, 9157, 9158, 9159, 9162, 9163, 9167, 9174, 9176, 9178, 9179, 9181, 9189, 9199, 9201, 9217, 9220, 9221, 9223, 9225, 9230, 9235, 9236, 9239, 9247, 9259, 9263, 9273, 9296, 9297, 9306, 9310, 9311, 9325, 9339, 9352, 9358, 9367, 9370, 9377, 9379, 9381, 9383, 9387, 9389, 9390, 9396, 9405, 9409, 9414, 9417, 9421, 9425, 9439, 9440, 9455, 9459, 9475, 9476, 9480, 9488, 9492, 9494, 9498, 9500, 9502, 9504, 9508, 9525, 9526, 9527, 9528, 9532, 9535, 9565, 9577, 9578, 9596, 9597, 9598, 9601, 9604, 9609, 9611, 9614, 9615, 9634, 9647, 9648, 9663, 9673, 9710, 9719, 9720, 9724, 9732, 9742, 9750, 9752, 9753, 9761, 9768, 9775, 9778, 9779, 9791, 9798, 9800, 9801, 9818, 9850, 9897, 9902, 9911, 9933, 9937, 9939, 9948, 9952, 9954, 9962, 9980, 9983, 9993, 9999]\n",
      "      labels    scores  anomalies  score_samples\n",
      "1          2 -0.004578         -1      -0.504578\n",
      "18         3 -0.048820         -1      -0.548820\n",
      "25         0 -0.059653         -1      -0.559653\n",
      "33         4 -0.002152         -1      -0.502152\n",
      "35         2 -0.014459         -1      -0.514459\n",
      "...      ...       ...        ...            ...\n",
      "9962       0 -0.026632         -1      -0.526632\n",
      "9980       2 -0.077336         -1      -0.577336\n",
      "9983       0 -0.020979         -1      -0.520979\n",
      "9993       0 -0.066448         -1      -0.566448\n",
      "9999       6 -0.019284         -1      -0.519284\n",
      "\n",
      "[1467 rows x 4 columns]\n"
     ]
    }
   ],
   "source": [
    "# Count how many anomalies\n",
    "anomalies = df.loc[df['anomalies'] == -1]\n",
    "anomaly_index = list(anomalies.index)\n",
    "total_outliers = len(df.loc[df['scores'] < 0])\n",
    "\n",
    "threshold = np.quantile(df['score_samples'], 0.05)\n",
    "print(anomaly_index)\n",
    "print(anomalies)"
   ]
  },
  {
   "cell_type": "code",
   "execution_count": 25,
   "metadata": {},
   "outputs": [
    {
     "name": "stdout",
     "output_type": "stream",
     "text": [
      "-0.5304876420623348\n",
      "Accuracy\n",
      "1467\n",
      "500\n",
      "293.4\n"
     ]
    }
   ],
   "source": [
    "# accuracy\n",
    "print(threshold)\n",
    "total_outliers = np.array(df['score_samples'])\n",
    "total_outliers = len(total_outliers[total_outliers < threshold])\n",
    "print(\"Accuracy\")\n",
    "print(list(df['anomalies']).count(-1))\n",
    "print(total_outliers)\n",
    "percentage = 100 * list(df['anomalies']).count(-1) / (total_outliers)\n",
    "print(percentage)"
   ]
  },
  {
   "cell_type": "code",
   "execution_count": 26,
   "metadata": {},
   "outputs": [
    {
     "data": {
      "image/png": "[encoded data removed]",
      "text/plain": [
       "<Figure size 640x480 with 1 Axes>"
      ]
     },
     "metadata": {},
     "output_type": "display_data"
    },
    {
     "data": {
      "image/png": "[encoded data removed]",
      "text/plain": [
       "<Figure size 640x480 with 1 Axes>"
      ]
     },
     "metadata": {},
     "output_type": "display_data"
    }
   ],
   "source": [
    "plt.boxplot(df['scores'], showmeans=True, showfliers=True)\n",
    "plt.show()\n",
    "\n",
    "plt.scatter(df['labels'], df['scores'])\n",
    "plt.show()"
   ]
  }
 ],
 "metadata": {
  "kernelspec": {
   "display_name": "Python 3",
   "language": "python",
   "name": "python3"
  },
  "language_info": {
   "codemirror_mode": {
    "name": "ipython",
    "version": 3
   },
   "file_extension": ".py",
   "mimetype": "text/x-python",
   "name": "python",
   "nbconvert_exporter": "python",
   "pygments_lexer": "ipython3",
   "version": "3.11.4"
  },
  "orig_nbformat": 4
 },
 "nbformat": 4,
 "nbformat_minor": 2
}
