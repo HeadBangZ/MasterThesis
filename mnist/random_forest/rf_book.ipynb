{
 "cells": [
  {
   "cell_type": "code",
   "execution_count": 9,
   "metadata": {},
   "outputs": [],
   "source": [
    "# Data processing\n",
    "import pandas as pd\n",
    "import numpy as np\n",
    "\n",
    "# Modelling\n",
    "from tensorflow.keras.datasets import mnist\n",
    "from sklearn.ensemble import IsolationForest\n",
    "from sklearn.metrics import accuracy_score, confusion_matrix, precision_score, recall_score, classification_report\n",
    "from sklearn.model_selection import train_test_split\n",
    "\n",
    "# Tree Visualization\n",
    "import matplotlib.pyplot as plt\n",
    "import seaborn as sn"
   ]
  },
  {
   "cell_type": "code",
   "execution_count": 10,
   "metadata": {},
   "outputs": [],
   "source": [
    "# Show plot\n",
    "def show_plt(X, total_plts=1, plt_size=5):\n",
    "    \"\"\"\n",
    "    shows plot for images\n",
    "    \"\"\"\n",
    "    plt.figure(figsize=(total_plts * plt_size, plt_size))\n",
    "\n",
    "    for i in range(total_plts):\n",
    "        plt.subplot(1, plt_size, i+1)\n",
    "        plt.axis('off')\n",
    "        plt.imshow(X[59999-i, :].reshape(28, 28), cmap='gray')\n",
    "    plt.show()"
   ]
  },
  {
   "cell_type": "code",
   "execution_count": 11,
   "metadata": {},
   "outputs": [],
   "source": [
    "# show anomalies\n",
    "def show_anomalies(predictions, X, n_img_per_row=32):\n",
    "    \"\"\"\n",
    "    shows a plot with anomaly images and normal images\n",
    "    \"\"\"\n",
    "    img = np.zeros((28 * 2, 28 * n_img_per_row))\n",
    "    anolabels = [-1, 1]\n",
    "\n",
    "    for i in range(2):\n",
    "        ix = 28 * i\n",
    "        X_ano = X[predictions == anolabels[i], :]\n",
    "        try:\n",
    "            for j in range(n_img_per_row):\n",
    "                iy = 28 * j\n",
    "                img[ix:ix + 28, iy:iy + 28] = X_ano[j, :].reshape(28, 28)\n",
    "        except IndexError:\n",
    "            pass\n",
    "\n",
    "    plt.figure(figsize=(12, 12))\n",
    "    plt.imshow(img, cmap='gray')\n",
    "    plt.title('Examples of anomalies (upper row) and normal data (lower row)')\n",
    "    plt.xticks([])\n",
    "    plt.yticks([])\n",
    "    plt.show()"
   ]
  },
  {
   "cell_type": "code",
   "execution_count": 24,
   "metadata": {},
   "outputs": [],
   "source": [
    "# show output\n",
    "def show_output(prediction, x_train, y_train):\n",
    "    \"\"\"\n",
    "    Predicts the model result\n",
    "    \"\"\"\n",
    "    show_anomalies(prediction, x_train)\n",
    "    # print(\"Classification report\")\n",
    "    # print(classification_report(y_train, (prediction > 0)))\n",
    "    # print(\"--------------------\")\n",
    "    print(\"Accuracy\")\n",
    "    print(accuracy_score(y_train, prediction))\n",
    "    # print(\"--------------------\")\n",
    "    # print(\"Recall\")\n",
    "    # print(recall_score(data, prediction, average=None))\n",
    "    # print(\"--------------------\")\n",
    "    # print(\"Precision\")\n",
    "    # print(precision_score(data, prediction, average=None))\n",
    "    # print(\"--------------------\")\n",
    "\n",
    "    result(x_train, y_train, prediction)\n",
    "\n",
    "\n",
    "def result(x_train, y_train, prediction):\n",
    "    \"\"\"\n",
    "    Makes result of the model\n",
    "    \"\"\"\n",
    "    cm = confusion_matrix(x_train, prediction, y_train)\n",
    "    plt.figure(figsize=(5, 5))\n",
    "    sn.heatmap(cm, annot=True)\n",
    "    plt.xlabel('predicted')\n",
    "    plt.ylabel('truth')\n",
    "    plt.show()"
   ]
  },
  {
   "cell_type": "code",
   "execution_count": 13,
   "metadata": {},
   "outputs": [
    {
     "name": "stdout",
     "output_type": "stream",
     "text": [
      "Dataset split: 60000 train rows 10000 test rows\n"
     ]
    },
    {
     "data": {
      "image/png": "[encoded data removed]",
      "text/plain": [
       "<Figure size 640x480 with 1 Axes>"
      ]
     },
     "metadata": {},
     "output_type": "display_data"
    }
   ],
   "source": [
    "# Initialize\n",
    "(x_train, y_train), (x_test, y_test) = mnist.load_data()\n",
    "print(f\"Dataset split: {len(x_train)} train rows\",\n",
    "          f\"{len(x_test)} test rows\")\n",
    "point = np.array(x_train[0], dtype='uint8')\n",
    "point = point.reshape((28, 28))\n",
    "\n",
    "plt.title('Label is {label}'.format(label=y_train[0]))\n",
    "plt.imshow(point, cmap='gray')\n",
    "plt.show()"
   ]
  },
  {
   "cell_type": "code",
   "execution_count": 14,
   "metadata": {},
   "outputs": [
    {
     "name": "stdout",
     "output_type": "stream",
     "text": [
      "\n",
      "MNIST dataset loaded\n",
      "X: (60000, 28, 28)\n",
      "Y: (60000,)\n"
     ]
    }
   ],
   "source": [
    "# Add outliers\n",
    "print()\n",
    "print('MNIST dataset loaded')\n",
    "print(f'X: {x_train.shape}')\n",
    "print(f'Y: {y_train.shape}')\n",
    "\n",
    "# Creating outlier in our data\n",
    "x_train = 255 - x_train\n",
    "\n",
    "np.random.shuffle(x_train)\n",
    "for i in np.random.randint(0, x_train.shape[1], int(x_train.shape[1]*0.1)):\n",
    "        x_train[len(x_train) - 3, i] = 0.0 if np.random.rand() < 0.5 else 255.0\n",
    "\n",
    "# show_plt(x_train, 3, 6)"
   ]
  },
  {
   "cell_type": "code",
   "execution_count": 15,
   "metadata": {},
   "outputs": [],
   "source": [
    "# prepare model\n",
    "n_estimators = 1000\n",
    "if_contamination = 0.03\n",
    "\n",
    "model = IsolationForest(\n",
    "        n_estimators=n_estimators, contamination=if_contamination, random_state=42, max_samples='auto')\n",
    "nsamples, nx, ny = x_train.shape\n",
    "data = x_train.reshape(nsamples, nx*ny)"
   ]
  },
  {
   "cell_type": "code",
   "execution_count": 25,
   "metadata": {},
   "outputs": [],
   "source": [
    "# train model\n",
    "# data = data.reshape(-1, 1)\n",
    "prediction = model.fit(data).predict(data)\n",
    "# prediction = model.fit_predict(data.reshape(-1, 1))\n",
    "print(f'prediction {prediction}')\n",
    "print(f'data: {data}')\n",
    "print('Number of anomalies:', np.sum(prediction == -1))\n",
    "\n",
    "show_output(prediction, x_train, y_train)"
   ]
  }
 ],
 "metadata": {
  "kernelspec": {
   "display_name": "Python 3",
   "language": "python",
   "name": "python3"
  },
  "language_info": {
   "codemirror_mode": {
    "name": "ipython",
    "version": 3
   },
   "file_extension": ".py",
   "mimetype": "text/x-python",
   "name": "python",
   "nbconvert_exporter": "python",
   "pygments_lexer": "ipython3",
   "version": "3.11.4"
  },
  "orig_nbformat": 4
 },
 "nbformat": 4,
 "nbformat_minor": 2
}
