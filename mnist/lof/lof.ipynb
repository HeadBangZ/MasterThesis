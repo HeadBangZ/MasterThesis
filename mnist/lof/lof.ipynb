{
 "cells": [
  {
   "cell_type": "code",
   "execution_count": 41,
   "metadata": {},
   "outputs": [],
   "source": [
    "# imports\n",
    "import numpy as np\n",
    "import pandas as pd\n",
    "import json\n",
    "\n",
    "# modelling\n",
    "from sklearn import datasets\n",
    "from sklearn.neighbors import LocalOutlierFactor\n",
    "from sklearn.metrics import accuracy_score, precision_recall_curve, precision_score, recall_score, classification_report, auc, f1_score, confusion_matrix\n",
    "from sklearn.model_selection import train_test_split\n",
    "from scipy.stats import randint\n",
    "\n",
    "# Tree Visualization\n",
    "import matplotlib.pyplot as plt\n",
    "import seaborn as sns"
   ]
  },
  {
   "cell_type": "code",
   "execution_count": 3,
   "metadata": {},
   "outputs": [
    {
     "name": "stderr",
     "output_type": "stream",
     "text": [
      "c:\\Users\\zippe\\AppData\\Local\\Programs\\Python\\Python311\\Lib\\site-packages\\sklearn\\datasets\\_openml.py:1022: FutureWarning: The default value of `parser` will change from `'liac-arff'` to `'auto'` in 1.4. You can set `parser='auto'` to silence this warning. Therefore, an `ImportError` will be raised from 1.4 if the dataset is dense and pandas is not installed. Note that the pandas parser may return different data types. See the Notes Section in fetch_openml's API doc for details.\n",
      "  warn(\n"
     ]
    },
    {
     "name": "stdout",
     "output_type": "stream",
     "text": [
      "Dataset split: 56000 train rows 56000 label rows\n",
      "Dataset split: 14000 test rows 14000 label rows\n"
     ]
    },
    {
     "data": {
      "image/png": "[encoded data removed]",
      "text/plain": [
       "<Figure size 640x480 with 1 Axes>"
      ]
     },
     "metadata": {},
     "output_type": "display_data"
    }
   ],
   "source": [
    "# Initialize\n",
    "mnist = datasets.fetch_openml(\"mnist_784\")\n",
    "X, y = mnist.data, mnist.target\n",
    "\n",
    "# Split the data into training and testing sets\n",
    "x_train, x_test, y_train, y_test = train_test_split(X, y, test_size=0.2, random_state=42)\n",
    "\n",
    "# digits = load_digits()\n",
    "print(f\"Dataset split: {len(x_train)} train rows\",\n",
    "          f\"{len(y_train)} label rows\")\n",
    "\n",
    "print(f\"Dataset split: {len(x_test)} test rows\",\n",
    "          f\"{len(y_test)} label rows\")\n",
    "\n",
    "point = np.array(x_train.iloc[0], dtype='uint8')\n",
    "point = point.reshape((28, 28))\n",
    "\n",
    "plt.title('Label is {label}'.format(label=y_train.iloc[0]))\n",
    "plt.imshow(point, cmap='gray')\n",
    "plt.show()"
   ]
  },
  {
   "cell_type": "code",
   "execution_count": 4,
   "metadata": {},
   "outputs": [
    {
     "name": "stdout",
     "output_type": "stream",
     "text": [
      "(56000, 784)\n",
      "(14000, 784)\n"
     ]
    }
   ],
   "source": [
    "print(x_train.shape)\n",
    "print(x_test.shape)"
   ]
  },
  {
   "cell_type": "code",
   "execution_count": 5,
   "metadata": {},
   "outputs": [],
   "source": [
    "# normalize data\n",
    "x_train = x_train.astype(np.float32) / 255\n",
    "x_test = x_test.astype(np.float32) / 255\n",
    "\n",
    "# convert labels to integers\n",
    "y_train = y_train.astype('int')\n",
    "y_test = y_test.astype('int')"
   ]
  },
  {
   "cell_type": "code",
   "execution_count": 5,
   "metadata": {},
   "outputs": [],
   "source": [
    "# TODO: Find out if I want to do like this for the MNIST data\n",
    "best_score = float('-inf')\n",
    "best_params = None\n",
    "\n",
    "# Manual parameter search\n",
    "for n_neighbors in [5, 10, 15, 20]:\n",
    "    for contamination in [0.05, 0.1, 0.15, 0.2]:\n",
    "        lof = LocalOutlierFactor(n_neighbors=n_neighbors, contamination=contamination)\n",
    "        lof.fit(x_train)\n",
    "\n",
    "        # Use the negative_outlier_factor_ attribute for evaluation\n",
    "        scores = -lof.negative_outlier_factor_\n",
    "\n",
    "        # Compute a simple score (you can use a different metric if needed)\n",
    "        score = sum(scores)\n",
    "\n",
    "        # Update best parameters if the score is better\n",
    "        if score > best_score:\n",
    "            best_score = score\n",
    "            best_params = {'n_neighbors': n_neighbors, 'contamination': contamination}\n",
    "\n",
    "print(\"Best Parameters:\", best_params)\n",
    "# TODO: Ends here"
   ]
  },
  {
   "cell_type": "code",
   "execution_count": 6,
   "metadata": {},
   "outputs": [
    {
     "data": {
      "text/html": [
       "<style>#sk-container-id-1 {color: black;}#sk-container-id-1 pre{padding: 0;}#sk-container-id-1 div.sk-toggleable {background-color: white;}#sk-container-id-1 label.sk-toggleable__label {cursor: pointer;display: block;width: 100%;margin-bottom: 0;padding: 0.3em;box-sizing: border-box;text-align: center;}#sk-container-id-1 label.sk-toggleable__label-arrow:before {content: \"▸\";float: left;margin-right: 0.25em;color: #696969;}#sk-container-id-1 label.sk-toggleable__label-arrow:hover:before {color: black;}#sk-container-id-1 div.sk-estimator:hover label.sk-toggleable__label-arrow:before {color: black;}#sk-container-id-1 div.sk-toggleable__content {max-height: 0;max-width: 0;overflow: hidden;text-align: left;background-color: #f0f8ff;}#sk-container-id-1 div.sk-toggleable__content pre {margin: 0.2em;color: black;border-radius: 0.25em;background-color: #f0f8ff;}#sk-container-id-1 input.sk-toggleable__control:checked~div.sk-toggleable__content {max-height: 200px;max-width: 100%;overflow: auto;}#sk-container-id-1 input.sk-toggleable__control:checked~label.sk-toggleable__label-arrow:before {content: \"▾\";}#sk-container-id-1 div.sk-estimator input.sk-toggleable__control:checked~label.sk-toggleable__label {background-color: #d4ebff;}#sk-container-id-1 div.sk-label input.sk-toggleable__control:checked~label.sk-toggleable__label {background-color: #d4ebff;}#sk-container-id-1 input.sk-hidden--visually {border: 0;clip: rect(1px 1px 1px 1px);clip: rect(1px, 1px, 1px, 1px);height: 1px;margin: -1px;overflow: hidden;padding: 0;position: absolute;width: 1px;}#sk-container-id-1 div.sk-estimator {font-family: monospace;background-color: #f0f8ff;border: 1px dotted black;border-radius: 0.25em;box-sizing: border-box;margin-bottom: 0.5em;}#sk-container-id-1 div.sk-estimator:hover {background-color: #d4ebff;}#sk-container-id-1 div.sk-parallel-item::after {content: \"\";width: 100%;border-bottom: 1px solid gray;flex-grow: 1;}#sk-container-id-1 div.sk-label:hover label.sk-toggleable__label {background-color: #d4ebff;}#sk-container-id-1 div.sk-serial::before {content: \"\";position: absolute;border-left: 1px solid gray;box-sizing: border-box;top: 0;bottom: 0;left: 50%;z-index: 0;}#sk-container-id-1 div.sk-serial {display: flex;flex-direction: column;align-items: center;background-color: white;padding-right: 0.2em;padding-left: 0.2em;position: relative;}#sk-container-id-1 div.sk-item {position: relative;z-index: 1;}#sk-container-id-1 div.sk-parallel {display: flex;align-items: stretch;justify-content: center;background-color: white;position: relative;}#sk-container-id-1 div.sk-item::before, #sk-container-id-1 div.sk-parallel-item::before {content: \"\";position: absolute;border-left: 1px solid gray;box-sizing: border-box;top: 0;bottom: 0;left: 50%;z-index: -1;}#sk-container-id-1 div.sk-parallel-item {display: flex;flex-direction: column;z-index: 1;position: relative;background-color: white;}#sk-container-id-1 div.sk-parallel-item:first-child::after {align-self: flex-end;width: 50%;}#sk-container-id-1 div.sk-parallel-item:last-child::after {align-self: flex-start;width: 50%;}#sk-container-id-1 div.sk-parallel-item:only-child::after {width: 0;}#sk-container-id-1 div.sk-dashed-wrapped {border: 1px dashed gray;margin: 0 0.4em 0.5em 0.4em;box-sizing: border-box;padding-bottom: 0.4em;background-color: white;}#sk-container-id-1 div.sk-label label {font-family: monospace;font-weight: bold;display: inline-block;line-height: 1.2em;}#sk-container-id-1 div.sk-label-container {text-align: center;}#sk-container-id-1 div.sk-container {/* jupyter's `normalize.less` sets `[hidden] { display: none; }` but bootstrap.min.css set `[hidden] { display: none !important; }` so we also need the `!important` here to be able to override the default hidden behavior on the sphinx rendered scikit-learn.org. See: https://github.com/scikit-learn/scikit-learn/issues/21755 */display: inline-block !important;position: relative;}#sk-container-id-1 div.sk-text-repr-fallback {display: none;}</style><div id=\"sk-container-id-1\" class=\"sk-top-container\"><div class=\"sk-text-repr-fallback\"><pre>LocalOutlierFactor(contamination=0.05, n_neighbors=5)</pre><b>In a Jupyter environment, please rerun this cell to show the HTML representation or trust the notebook. <br />On GitHub, the HTML representation is unable to render, please try loading this page with nbviewer.org.</b></div><div class=\"sk-container\" hidden><div class=\"sk-item\"><div class=\"sk-estimator sk-toggleable\"><input class=\"sk-toggleable__control sk-hidden--visually\" id=\"sk-estimator-id-1\" type=\"checkbox\" checked><label for=\"sk-estimator-id-1\" class=\"sk-toggleable__label sk-toggleable__label-arrow\">LocalOutlierFactor</label><div class=\"sk-toggleable__content\"><pre>LocalOutlierFactor(contamination=0.05, n_neighbors=5)</pre></div></div></div></div></div>"
      ],
      "text/plain": [
       "LocalOutlierFactor(contamination=0.05, n_neighbors=5)"
      ]
     },
     "execution_count": 6,
     "metadata": {},
     "output_type": "execute_result"
    }
   ],
   "source": [
    "# Create and fit a Local Outlier Factor model\n",
    "model = LocalOutlierFactor(n_neighbors=5, contamination=0.05)\n",
    "model.fit(x_train)"
   ]
  },
  {
   "cell_type": "code",
   "execution_count": 7,
   "metadata": {},
   "outputs": [],
   "source": [
    "y_pred = model.fit_predict(x_test)\n",
    "\n",
    "# Calculate anomaly scores\n",
    "anomaly_scores = -model.negative_outlier_factor_"
   ]
  },
  {
   "cell_type": "code",
   "execution_count": 8,
   "metadata": {},
   "outputs": [
    {
     "name": "stdout",
     "output_type": "stream",
     "text": [
      "[1 1 1 ... 1 1 1]\n"
     ]
    }
   ],
   "source": [
    "print(y_pred)"
   ]
  },
  {
   "cell_type": "code",
   "execution_count": 10,
   "metadata": {},
   "outputs": [
    {
     "name": "stdout",
     "output_type": "stream",
     "text": [
      "Anomaly Indexes: [   17    18    47    86   112   123   151   180   216   240   241   244\n",
      "   267   270   352   353   393   466   488   523   556   562   565   566\n",
      "   589   590   599   605   649   651   671   672   674   686   736   750\n",
      "   755   756   758   777   788   809   827   828   830   905   910   922\n",
      "   940   971  1029  1047  1062  1091  1106  1111  1115  1148  1194  1203\n",
      "  1214  1230  1233  1264  1401  1418  1438  1480  1495  1498  1597  1650\n",
      "  1706  1707  1711  1741  1757  1765  1795  1861  1873  1882  1883  1903\n",
      "  1916  1917  1922  1924  1965  1987  1999  2044  2096  2116  2124  2139\n",
      "  2160  2169  2191  2201  2234  2254  2297  2327  2338  2391  2407  2413\n",
      "  2419  2431  2467  2481  2510  2511  2513  2515  2523  2547  2607  2617\n",
      "  2718  2726  2727  2738  2759  2765  2782  2789  2790  2792  2882  2934\n",
      "  2944  2986  2993  3005  3008  3011  3021  3025  3055  3057  3059  3090\n",
      "  3124  3135  3182  3234  3258  3286  3295  3312  3313  3318  3352  3384\n",
      "  3391  3401  3403  3404  3503  3519  3522  3530  3557  3591  3615  3630\n",
      "  3637  3648  3675  3715  3740  3773  3782  3784  3795  3827  3846  3852\n",
      "  3869  3931  3977  4008  4023  4027  4050  4102  4113  4115  4120  4146\n",
      "  4151  4169  4241  4282  4301  4309  4362  4376  4409  4414  4435  4453\n",
      "  4487  4497  4542  4565  4591  4605  4618  4620  4626  4627  4638  4654\n",
      "  4656  4694  4721  4759  4769  4801  4815  4840  4876  4892  4906  4918\n",
      "  4980  4997  5019  5023  5036  5052  5056  5072  5075  5076  5086  5102\n",
      "  5124  5128  5160  5205  5213  5217  5231  5235  5238  5269  5285  5293\n",
      "  5325  5368  5401  5438  5441  5450  5453  5460  5463  5466  5473  5475\n",
      "  5496  5516  5538  5556  5560  5596  5618  5658  5660  5679  5700  5786\n",
      "  5794  5801  5807  5817  5857  5870  5911  5928  5936  5946  5978  5982\n",
      "  5983  6013  6019  6024  6074  6093  6118  6121  6127  6175  6209  6275\n",
      "  6278  6294  6308  6361  6365  6371  6375  6384  6431  6475  6518  6519\n",
      "  6536  6555  6563  6593  6595  6605  6625  6657  6662  6664  6670  6672\n",
      "  6687  6695  6711  6747  6773  6819  6823  6829  6860  6898  6934  6944\n",
      "  6964  6989  7007  7029  7059  7074  7076  7141  7160  7168  7188  7205\n",
      "  7260  7265  7285  7329  7342  7344  7354  7388  7398  7430  7433  7460\n",
      "  7482  7491  7495  7527  7538  7540  7552  7582  7703  7741  7796  7851\n",
      "  7854  7876  7881  7893  7909  7929  7941  7946  7994  8010  8023  8039\n",
      "  8040  8043  8045  8059  8090  8102  8112  8118  8122  8136  8140  8143\n",
      "  8155  8173  8182  8220  8239  8247  8259  8293  8300  8301  8315  8328\n",
      "  8378  8396  8411  8439  8467  8476  8479  8490  8491  8516  8541  8542\n",
      "  8548  8571  8582  8606  8620  8635  8648  8651  8710  8735  8741  8766\n",
      "  8767  8803  8807  8869  8874  8897  8925  8944  8962  8978  8988  9045\n",
      "  9066  9085  9086  9101  9163  9185  9215  9228  9232  9235  9279  9282\n",
      "  9287  9296  9299  9316  9323  9326  9353  9355  9411  9429  9431  9435\n",
      "  9438  9458  9469  9489  9503  9544  9565  9584  9588  9595  9609  9614\n",
      "  9625  9680  9692  9698  9722  9754  9759  9796  9811  9838  9863  9906\n",
      "  9918  9925  9947  9981 10025 10041 10043 10095 10098 10110 10138 10178\n",
      " 10195 10210 10219 10238 10240 10246 10256 10272 10291 10303 10404 10407\n",
      " 10464 10479 10553 10568 10612 10620 10638 10656 10670 10709 10711 10724\n",
      " 10728 10739 10741 10821 10854 10876 10941 10968 10975 10989 11006 11018\n",
      " 11025 11058 11065 11069 11072 11124 11142 11147 11191 11202 11205 11241\n",
      " 11247 11261 11262 11274 11287 11297 11303 11322 11324 11328 11335 11342\n",
      " 11350 11369 11400 11402 11409 11418 11421 11441 11469 11561 11602 11615\n",
      " 11651 11675 11676 11679 11700 11714 11726 11753 11809 11850 11883 11901\n",
      " 11922 11934 11939 11961 12004 12010 12013 12027 12044 12053 12066 12098\n",
      " 12168 12172 12178 12184 12221 12228 12272 12276 12281 12282 12283 12286\n",
      " 12288 12296 12356 12370 12394 12439 12483 12518 12548 12549 12557 12560\n",
      " 12619 12655 12667 12673 12675 12706 12726 12738 12814 12822 12838 12839\n",
      " 12852 12854 12858 12927 13013 13031 13034 13040 13077 13089 13107 13121\n",
      " 13122 13132 13139 13147 13152 13155 13157 13183 13201 13222 13242 13243\n",
      " 13256 13270 13365 13386 13405 13420 13428 13449 13478 13503 13517 13523\n",
      " 13542 13543 13551 13581 13594 13600 13605 13673 13674 13714 13729 13734\n",
      " 13738 13741 13745 13747 13771 13779 13780 13798 13799 13810 13813 13875\n",
      " 13886 13908 13953 13992]\n",
      "700\n"
     ]
    }
   ],
   "source": [
    "# Get the indices of anomalies in the test set\n",
    "anomaly_indexes = np.where(y_pred == -1)[0]\n",
    "\n",
    "# Display the anomaly indices\n",
    "print(\"Anomaly Indexes:\", anomaly_indexes)\n",
    "print(len(anomaly_indexes))"
   ]
  },
  {
   "cell_type": "code",
   "execution_count": 12,
   "metadata": {},
   "outputs": [
    {
     "name": "stdout",
     "output_type": "stream",
     "text": [
      "Anomaly Labels: 31386    1\n",
      "63361    7\n",
      "12000    7\n",
      "22328    1\n",
      "31284    7\n",
      "        ..\n",
      "33820    8\n",
      "16033    2\n",
      "25662    4\n",
      "65759    1\n",
      "12510    1\n",
      "Name: class, Length: 700, dtype: int32\n"
     ]
    }
   ],
   "source": [
    "# Convert the list of anomaly indexes to a NumPy array\n",
    "anomaly_indexes_array = np.array(anomaly_indexes)\n",
    "\n",
    "# Extract labels of anomalies\n",
    "anomaly_labels = y_test.iloc[anomaly_indexes_array]\n",
    "\n",
    "# Display the anomaly labels\n",
    "print(\"Anomaly Labels:\", anomaly_labels)"
   ]
  },
  {
   "cell_type": "code",
   "execution_count": 15,
   "metadata": {},
   "outputs": [
    {
     "name": "stdout",
     "output_type": "stream",
     "text": [
      "700\n"
     ]
    }
   ],
   "source": [
    "# Extract anomaly images from the test set\n",
    "anomalies = x_test.iloc[anomaly_indexes_array]\n",
    "\n",
    "print(len(anomalies))"
   ]
  },
  {
   "cell_type": "code",
   "execution_count": 16,
   "metadata": {},
   "outputs": [],
   "source": [
    "# create a dict of indexes and labels\n",
    "anomaly_dict = dict(zip(map(int, anomaly_indexes), anomaly_labels))"
   ]
  },
  {
   "cell_type": "code",
   "execution_count": 17,
   "metadata": {},
   "outputs": [
    {
     "name": "stdout",
     "output_type": "stream",
     "text": [
      "Anomaly dictionary saved to anomalies.json\n"
     ]
    }
   ],
   "source": [
    "# write to json file\n",
    "json_filename = \"anomalies.json\"\n",
    "with open(json_filename, 'w') as json_file:\n",
    "    json.dump(anomaly_dict, json_file)\n",
    "\n",
    "print(f\"Anomaly dictionary saved to {json_filename}\")"
   ]
  },
  {
   "cell_type": "code",
   "execution_count": 18,
   "metadata": {},
   "outputs": [],
   "source": [
    "# Reshape the test data for plotting\n",
    "x_test_reshaped = x_test.values.reshape(-1, 28, 28)"
   ]
  },
  {
   "cell_type": "code",
   "execution_count": 19,
   "metadata": {},
   "outputs": [
    {
     "data": {
      "image/png": "[encoded data removed]",
      "text/plain": [
       "<Figure size 1200x800 with 10 Axes>"
      ]
     },
     "metadata": {},
     "output_type": "display_data"
    }
   ],
   "source": [
    "# Plot some of the anomalies\n",
    "plt.figure(figsize=(12, 8))\n",
    "for i, idx in enumerate(anomaly_indexes[:10]):  # Plot the first 10 anomalies\n",
    "    plt.subplot(2, 5, i + 1)\n",
    "    plt.imshow(x_test_reshaped[idx], cmap='gray')\n",
    "    plt.title(f'Anomaly {i+1}')\n",
    "    plt.axis('off')\n",
    "plt.tight_layout()\n",
    "plt.show()"
   ]
  },
  {
   "cell_type": "code",
   "execution_count": 51,
   "metadata": {},
   "outputs": [
    {
     "name": "stderr",
     "output_type": "stream",
     "text": [
      "c:\\Users\\zippe\\AppData\\Local\\Programs\\Python\\Python311\\Lib\\site-packages\\seaborn\\_oldcore.py:1498: FutureWarning: is_categorical_dtype is deprecated and will be removed in a future version. Use isinstance(dtype, CategoricalDtype) instead\n",
      "  if pd.api.types.is_categorical_dtype(vector):\n"
     ]
    },
    {
     "data": {
      "image/png": "[encoded data removed]",
      "text/plain": [
       "<Figure size 1000x600 with 1 Axes>"
      ]
     },
     "metadata": {},
     "output_type": "display_data"
    }
   ],
   "source": [
    "# Boxplot for all data\n",
    "plt.figure(figsize=(10, 6))\n",
    "sns.boxplot(x=anomaly_scores)\n",
    "plt.title('Boxplot of Anomaly Scores')\n",
    "plt.xlabel('Anomaly Scores')\n",
    "plt.show()"
   ]
  },
  {
   "cell_type": "code",
   "execution_count": 21,
   "metadata": {},
   "outputs": [
    {
     "name": "stderr",
     "output_type": "stream",
     "text": [
      "c:\\Users\\zippe\\AppData\\Local\\Programs\\Python\\Python311\\Lib\\site-packages\\seaborn\\_oldcore.py:1498: FutureWarning: is_categorical_dtype is deprecated and will be removed in a future version. Use isinstance(dtype, CategoricalDtype) instead\n",
      "  if pd.api.types.is_categorical_dtype(vector):\n"
     ]
    },
    {
     "data": {
      "image/png": "[encoded data removed]",
      "text/plain": [
       "<Figure size 800x600 with 1 Axes>"
      ]
     },
     "metadata": {},
     "output_type": "display_data"
    }
   ],
   "source": [
    "# Plot a boxplot for anomalies\n",
    "plt.figure(figsize=(8, 6))\n",
    "sns.boxplot(y=anomaly_scores[anomaly_indexes_array], color='skyblue')\n",
    "plt.title('Anomaly Scores Boxplot')\n",
    "plt.xlabel('Anomaly Score')\n",
    "plt.show()"
   ]
  },
  {
   "cell_type": "code",
   "execution_count": 33,
   "metadata": {},
   "outputs": [],
   "source": [
    "# Create ground truth labels for anomalies (1 if anomaly, 0 otherwise)\n",
    "true_labels = np.zeros(len(y_test))\n",
    "true_labels[anomaly_indexes_array] = 1"
   ]
  },
  {
   "cell_type": "code",
   "execution_count": 34,
   "metadata": {},
   "outputs": [],
   "source": [
    "# Map the class labels to \"anomaly\" and \"normal\" for true labels\n",
    "class_labels = {0: 'normal', 1: 'anomaly'}\n",
    "true_labels_mapped = np.vectorize(class_labels.get)(true_labels)"
   ]
  },
  {
   "cell_type": "code",
   "execution_count": 35,
   "metadata": {},
   "outputs": [],
   "source": [
    "# Ensure that true_labels_mapped and y_pred are binary (0 or 1)\n",
    "true_labels_binary = np.where(true_labels_mapped == 'anomaly', 1, 0)"
   ]
  },
  {
   "cell_type": "code",
   "execution_count": 36,
   "metadata": {},
   "outputs": [],
   "source": [
    "# Calculate metrics\n",
    "accuracy = accuracy_score(true_labels_binary, y_pred == -1)\n",
    "precision = precision_score(true_labels_binary, y_pred == -1)\n",
    "recall = recall_score(true_labels_binary, y_pred == -1)\n",
    "f1 = f1_score(true_labels_binary, y_pred == -1)"
   ]
  },
  {
   "cell_type": "code",
   "execution_count": 37,
   "metadata": {},
   "outputs": [
    {
     "name": "stdout",
     "output_type": "stream",
     "text": [
      "Accuracy: 1.0000\n",
      "Precision: 1.0000\n",
      "Recall: 1.0000\n",
      "F1 Score: 1.0000\n"
     ]
    }
   ],
   "source": [
    "# Display metrics\n",
    "print(f\"Accuracy: {accuracy:.4f}\")\n",
    "print(f\"Precision: {precision:.4f}\")\n",
    "print(f\"Recall: {recall:.4f}\")\n",
    "print(f\"F1 Score: {f1:.4f}\")"
   ]
  },
  {
   "cell_type": "code",
   "execution_count": 38,
   "metadata": {},
   "outputs": [
    {
     "name": "stdout",
     "output_type": "stream",
     "text": [
      "\n",
      "Classification Report:\n",
      "              precision    recall  f1-score   support\n",
      "\n",
      "      normal       1.00      1.00      1.00     13300\n",
      "     anomaly       1.00      1.00      1.00       700\n",
      "\n",
      "    accuracy                           1.00     14000\n",
      "   macro avg       1.00      1.00      1.00     14000\n",
      "weighted avg       1.00      1.00      1.00     14000\n",
      "\n"
     ]
    }
   ],
   "source": [
    "# Classification report\n",
    "report = classification_report(true_labels_binary, y_pred == -1, target_names=['normal', 'anomaly'])\n",
    "\n",
    "print(\"\\nClassification Report:\")\n",
    "print(report)"
   ]
  },
  {
   "cell_type": "code",
   "execution_count": 49,
   "metadata": {},
   "outputs": [],
   "source": [
    "# Calculate precision-recall curve\n",
    "precision, recall, _ = precision_recall_curve(true_labels_binary, -anomaly_scores)\n",
    "\n",
    "# Calculate PR-AUC\n",
    "pr_auc = auc(recall, precision)"
   ]
  },
  {
   "cell_type": "code",
   "execution_count": 50,
   "metadata": {},
   "outputs": [
    {
     "data": {
      "image/png": "[encoded data removed]",
      "text/plain": [
       "<Figure size 640x480 with 1 Axes>"
      ]
     },
     "metadata": {},
     "output_type": "display_data"
    }
   ],
   "source": [
    "# Plot the precision-recall curve\n",
    "plt.figure()\n",
    "plt.plot(recall, precision, color='darkorange', lw=2, label='PR Curve (area = %0.2f)' % pr_auc)\n",
    "plt.xlim([0.0, 1.0])\n",
    "plt.ylim([0.0, 1.05])\n",
    "plt.xlabel('Recall')\n",
    "plt.ylabel('Precision')\n",
    "plt.title('Precision-Recall Curve')\n",
    "plt.legend(loc='lower right')\n",
    "plt.show()"
   ]
  },
  {
   "cell_type": "code",
   "execution_count": 43,
   "metadata": {},
   "outputs": [],
   "source": [
    "# Confusion matrix\n",
    "conf_matrix = confusion_matrix(true_labels_binary, y_pred == -1)"
   ]
  },
  {
   "cell_type": "code",
   "execution_count": 44,
   "metadata": {},
   "outputs": [
    {
     "name": "stdout",
     "output_type": "stream",
     "text": [
      "[[13300     0]\n",
      " [    0   700]]\n"
     ]
    }
   ],
   "source": [
    "print(conf_matrix)"
   ]
  },
  {
   "cell_type": "code",
   "execution_count": 45,
   "metadata": {},
   "outputs": [
    {
     "name": "stdout",
     "output_type": "stream",
     "text": [
      "True Negatives: 13300\n",
      "False Positives: 0\n",
      "False Negatives: 0\n",
      "True Positives: 700\n"
     ]
    }
   ],
   "source": [
    "tn, fp, fn, tp = conf_matrix.ravel()\n",
    "print(f\"True Negatives: {tn}\")\n",
    "print(f\"False Positives: {fp}\")\n",
    "print(f\"False Negatives: {fn}\")\n",
    "print(f\"True Positives: {tp}\")"
   ]
  }
 ],
 "metadata": {
  "kernelspec": {
   "display_name": "Python 3",
   "language": "python",
   "name": "python3"
  },
  "language_info": {
   "codemirror_mode": {
    "name": "ipython",
    "version": 3
   },
   "file_extension": ".py",
   "mimetype": "text/x-python",
   "name": "python",
   "nbconvert_exporter": "python",
   "pygments_lexer": "ipython3",
   "version": "3.11.4"
  },
  "orig_nbformat": 4
 },
 "nbformat": 4,
 "nbformat_minor": 2
}
